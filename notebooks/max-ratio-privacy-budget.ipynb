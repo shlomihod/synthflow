{
 "cells": [
  {
   "cell_type": "markdown",
   "metadata": {},
   "source": [
    "# Private Max Ratio"
   ]
  },
  {
   "cell_type": "code",
   "execution_count": 1,
   "metadata": {},
   "outputs": [],
   "source": [
    "import numpy as np\n",
    "import pandas as pd\n",
    "from sympy import log, solve, symbols\n",
    "\n",
    "from synthflow.release import (\n",
    "    optimize_max_ratio_by_faliure,\n",
    "    optimize_max_ratio_by_pseudo_threshold,\n",
    ")"
   ]
  },
  {
   "cell_type": "markdown",
   "metadata": {},
   "source": [
    "## CURRENT APPROCH"
   ]
  },
  {
   "cell_type": "code",
   "execution_count": 2,
   "metadata": {},
   "outputs": [
    {
     "data": {
      "text/plain": [
       "\u001b[0;31mSignature:\u001b[0m\n",
       "\u001b[0moptimize_max_ratio_by_pseudo_threshold\u001b[0m\u001b[0;34m(\u001b[0m\u001b[0;34m\u001b[0m\n",
       "\u001b[0;34m\u001b[0m    \u001b[0mprob_pass\u001b[0m\u001b[0;34m,\u001b[0m\u001b[0;34m\u001b[0m\n",
       "\u001b[0;34m\u001b[0m    \u001b[0mmin_synth_count\u001b[0m\u001b[0;34m,\u001b[0m\u001b[0;34m\u001b[0m\n",
       "\u001b[0;34m\u001b[0m    \u001b[0mthreshold\u001b[0m\u001b[0;34m,\u001b[0m\u001b[0;34m\u001b[0m\n",
       "\u001b[0;34m\u001b[0m    \u001b[0mepsilon\u001b[0m\u001b[0;34m,\u001b[0m\u001b[0;34m\u001b[0m\n",
       "\u001b[0;34m\u001b[0m\u001b[0;34m)\u001b[0m\u001b[0;34m\u001b[0m\u001b[0;34m\u001b[0m\u001b[0m\n",
       "\u001b[0;31mDocstring:\u001b[0m\n",
       "We want to reduce the sd of the nosie. The SD (by the GS) is monitically decreasing\n",
       "as function of the clipping factor (given a fixed epsilon).\n",
       "Therefore, we could set the clipping factor to the actual threshold,\n",
       "and then set \"pesudo-threshold\" which is lower,\n",
       "and that the probability of the noise + pesudo threshold\n",
       "to pass the actual threshold is bounded by a probability prob_pass.\n",
       "\n",
       "So we want to calculate:\n",
       "param = GS(k) / eps\n",
       "CDF(threshold - pseudo_threshold, param) = prob_pass\n",
       "pesudo_threshold = threshold - PPF(prob_pass, param)\n",
       "\u001b[0;31mFile:\u001b[0m      ~/.local/lib/python3.8/site-packages/synthflow/release.py\n",
       "\u001b[0;31mType:\u001b[0m      function\n"
      ]
     },
     "metadata": {},
     "output_type": "display_data"
    }
   ],
   "source": [
    "optimize_max_ratio_by_pseudo_threshold?"
   ]
  },
  {
   "cell_type": "code",
   "execution_count": 3,
   "metadata": {},
   "outputs": [
    {
     "data": {
      "text/plain": [
       "(1.4095935658989616, 2, 0.0769230769230771, 0.256410256410257)"
      ]
     },
     "execution_count": 3,
     "metadata": {},
     "output_type": "execute_result"
    }
   ],
   "source": [
    "optimize_max_ratio_by_pseudo_threshold(\n",
    "    prob_pass=0.05, min_synth_count=50, threshold=2, epsilon=0.3\n",
    ")"
   ]
  },
  {
   "cell_type": "code",
   "execution_count": 4,
   "metadata": {},
   "outputs": [
    {
     "data": {
      "text/plain": [
       "(1.69664994736186, 3, 0.16981132075471717, 0.5660377358490573)"
      ]
     },
     "execution_count": 4,
     "metadata": {},
     "output_type": "execute_result"
    }
   ],
   "source": [
    "# looser threshold if we cannot pass the previous one\n",
    "\n",
    "optimize_max_ratio_by_pseudo_threshold(\n",
    "    prob_pass=0.05, min_synth_count=50, threshold=3, epsilon=0.3\n",
    ")"
   ]
  },
  {
   "cell_type": "markdown",
   "metadata": {},
   "source": [
    "## OLD APPROACH\n",
    "Note: still using 100 for `min_synth_count` instead of 50."
   ]
  },
  {
   "cell_type": "markdown",
   "metadata": {},
   "source": [
    "Check that we have the correct solution of optimal given epsilon"
   ]
  },
  {
   "cell_type": "code",
   "execution_count": 5,
   "metadata": {},
   "outputs": [],
   "source": [
    "clipping_factor1, epsilon1, global_sensitivty1 = optimize_max_ratio_by_faliure(\n",
    "    prob_failure=1 / 20, min_synth_count=100, threshold=2\n",
    ")\n",
    "\n",
    "clipping_factor2, epsilon2, global_sensitivty2 = optimize_max_ratio_by_faliure(\n",
    "    prob_failure=1 / 20, min_synth_count=100, threshold=2, epsilon=epsilon1\n",
    ")"
   ]
  },
  {
   "cell_type": "code",
   "execution_count": 6,
   "metadata": {},
   "outputs": [],
   "source": [
    "k, p, s, epsilon, t = symbols(\"k p s epsilon t\", positive=True)\n",
    "expr = (k - 1 / (1 / k + 1 / s)) * log(1 / (2 * p)) / (k - t) / epsilon - 1\n",
    "sol1, sol2 = solve(expr, k)"
   ]
  },
  {
   "cell_type": "code",
   "execution_count": 7,
   "metadata": {},
   "outputs": [
    {
     "data": {
      "text/plain": [
       "(4.081632653061225, 4.08163246880547, 0.9040415745741159, 0.17705383260238752)"
      ]
     },
     "execution_count": 7,
     "metadata": {},
     "output_type": "execute_result"
    }
   ],
   "source": [
    "vals = [(p, 1 / 20), (s, 100), (t, 2), (epsilon, epsilon1)]\n",
    "clipping_factor1, min(\n",
    "    [sol1.subs(vals), sol2.subs(vals)]\n",
    "), global_sensitivty1 / epsilon1, epsilon1"
   ]
  },
  {
   "cell_type": "code",
   "execution_count": 8,
   "metadata": {},
   "outputs": [
    {
     "data": {
      "text/plain": [
       "(2.84362873934316, 2.84362873934316, 0.2620880037761945)"
      ]
     },
     "execution_count": 8,
     "metadata": {},
     "output_type": "execute_result"
    }
   ],
   "source": [
    "clipping_factor3, epsilon3, global_sensitivty3 = optimize_max_ratio_by_faliure(\n",
    "    prob_failure=1 / 50, min_synth_count=100, threshold=2, epsilon=0.3\n",
    ")\n",
    "\n",
    "vals = [(p, 1 / 50), (s, 100), (t, 2), (epsilon, epsilon3)]\n",
    "clipping_factor3, min([sol1.subs(vals), sol2.subs(vals)]), global_sensitivty3 / epsilon3"
   ]
  },
  {
   "cell_type": "markdown",
   "metadata": {},
   "source": [
    "Understand the impact of epsilon"
   ]
  },
  {
   "cell_type": "code",
   "execution_count": 9,
   "metadata": {},
   "outputs": [
    {
     "data": {
      "text/html": [
       "<div>\n",
       "<style scoped>\n",
       "    .dataframe tbody tr th:only-of-type {\n",
       "        vertical-align: middle;\n",
       "    }\n",
       "\n",
       "    .dataframe tbody tr th {\n",
       "        vertical-align: top;\n",
       "    }\n",
       "\n",
       "    .dataframe thead th {\n",
       "        text-align: right;\n",
       "    }\n",
       "</style>\n",
       "<table border=\"1\" class=\"dataframe\">\n",
       "  <thead>\n",
       "    <tr style=\"text-align: right;\">\n",
       "      <th></th>\n",
       "      <th>factor</th>\n",
       "      <th>sens</th>\n",
       "      <th>param</th>\n",
       "      <th>var</th>\n",
       "      <th>sd</th>\n",
       "    </tr>\n",
       "    <tr>\n",
       "      <th>eps</th>\n",
       "      <th></th>\n",
       "      <th></th>\n",
       "      <th></th>\n",
       "      <th></th>\n",
       "      <th></th>\n",
       "    </tr>\n",
       "  </thead>\n",
       "  <tbody>\n",
       "    <tr>\n",
       "      <th>0.2</th>\n",
       "      <td>3.017743</td>\n",
       "      <td>0.088400</td>\n",
       "      <td>0.442000</td>\n",
       "      <td>0.390729</td>\n",
       "      <td>0.625083</td>\n",
       "    </tr>\n",
       "    <tr>\n",
       "      <th>0.3</th>\n",
       "      <td>2.449516</td>\n",
       "      <td>0.058567</td>\n",
       "      <td>0.195222</td>\n",
       "      <td>0.076223</td>\n",
       "      <td>0.276086</td>\n",
       "    </tr>\n",
       "    <tr>\n",
       "      <th>0.4</th>\n",
       "      <td>2.296870</td>\n",
       "      <td>0.051572</td>\n",
       "      <td>0.128929</td>\n",
       "      <td>0.033245</td>\n",
       "      <td>0.182333</td>\n",
       "    </tr>\n",
       "    <tr>\n",
       "      <th>0.5</th>\n",
       "      <td>2.222534</td>\n",
       "      <td>0.048323</td>\n",
       "      <td>0.096645</td>\n",
       "      <td>0.018681</td>\n",
       "      <td>0.136677</td>\n",
       "    </tr>\n",
       "    <tr>\n",
       "      <th>0.6</th>\n",
       "      <td>2.178197</td>\n",
       "      <td>0.046434</td>\n",
       "      <td>0.077390</td>\n",
       "      <td>0.011978</td>\n",
       "      <td>0.109446</td>\n",
       "    </tr>\n",
       "    <tr>\n",
       "      <th>0.7</th>\n",
       "      <td>2.148670</td>\n",
       "      <td>0.045197</td>\n",
       "      <td>0.064567</td>\n",
       "      <td>0.008338</td>\n",
       "      <td>0.091311</td>\n",
       "    </tr>\n",
       "    <tr>\n",
       "      <th>0.8</th>\n",
       "      <td>2.127571</td>\n",
       "      <td>0.044323</td>\n",
       "      <td>0.055403</td>\n",
       "      <td>0.006139</td>\n",
       "      <td>0.078352</td>\n",
       "    </tr>\n",
       "    <tr>\n",
       "      <th>0.9</th>\n",
       "      <td>2.111731</td>\n",
       "      <td>0.043672</td>\n",
       "      <td>0.048524</td>\n",
       "      <td>0.004709</td>\n",
       "      <td>0.068624</td>\n",
       "    </tr>\n",
       "    <tr>\n",
       "      <th>1.0</th>\n",
       "      <td>2.099399</td>\n",
       "      <td>0.043168</td>\n",
       "      <td>0.043168</td>\n",
       "      <td>0.003727</td>\n",
       "      <td>0.061049</td>\n",
       "    </tr>\n",
       "  </tbody>\n",
       "</table>\n",
       "</div>"
      ],
      "text/plain": [
       "       factor      sens     param       var        sd\n",
       "eps                                                  \n",
       "0.2  3.017743  0.088400  0.442000  0.390729  0.625083\n",
       "0.3  2.449516  0.058567  0.195222  0.076223  0.276086\n",
       "0.4  2.296870  0.051572  0.128929  0.033245  0.182333\n",
       "0.5  2.222534  0.048323  0.096645  0.018681  0.136677\n",
       "0.6  2.178197  0.046434  0.077390  0.011978  0.109446\n",
       "0.7  2.148670  0.045197  0.064567  0.008338  0.091311\n",
       "0.8  2.127571  0.044323  0.055403  0.006139  0.078352\n",
       "0.9  2.111731  0.043672  0.048524  0.004709  0.068624\n",
       "1.0  2.099399  0.043168  0.043168  0.003727  0.061049"
      ]
     },
     "execution_count": 9,
     "metadata": {},
     "output_type": "execute_result"
    }
   ],
   "source": [
    "df = pd.DataFrame(\n",
    "    [\n",
    "        dict(\n",
    "            zip(\n",
    "                \"factor eps sens\".split(),\n",
    "                optimize_max_ratio_by_faliure(\n",
    "                    prob_failure=1 / 20, min_synth_count=100, threshold=2, epsilon=ep\n",
    "                ),\n",
    "            )\n",
    "        )\n",
    "        for ep in np.arange(0.2, 1.1, 0.1)\n",
    "    ]\n",
    ")\n",
    "\n",
    "df[\"param\"] = df[\"sens\"] / df[\"eps\"]\n",
    "df[\"var\"] = 2 * df[\"param\"] ** 2\n",
    "df[\"sd\"] = np.sqrt(df[\"var\"])\n",
    "\n",
    "df = df.set_index(\"eps\")\n",
    "\n",
    "df"
   ]
  },
  {
   "cell_type": "code",
   "execution_count": 10,
   "metadata": {},
   "outputs": [
    {
     "data": {
      "text/plain": [
       "<AxesSubplot:xlabel='eps'>"
      ]
     },
     "execution_count": 10,
     "metadata": {},
     "output_type": "execute_result"
    },
    {
     "data": {
      "image/png": "[encoded data removed]",
      "text/plain": [
       "<Figure size 432x288 with 2 Axes>"
      ]
     },
     "metadata": {
      "needs_background": "light"
     },
     "output_type": "display_data"
    }
   ],
   "source": [
    "df[[\"factor\", \"sd\"]].plot(secondary_y=\"sd\")"
   ]
  },
  {
   "cell_type": "code",
   "execution_count": 11,
   "metadata": {},
   "outputs": [
    {
     "data": {
      "text/plain": [
       "(2.449515885601045, 0.3, 0.05856668059331627)"
      ]
     },
     "execution_count": 11,
     "metadata": {},
     "output_type": "execute_result"
    }
   ],
   "source": [
    "optimize_max_ratio_by_faliure(\n",
    "    prob_failure=1 / 20, min_synth_count=100, threshold=2, epsilon=0.3\n",
    ")"
   ]
  }
 ],
 "metadata": {
  "interpreter": {
   "hash": "fdab90c716015f73dc264325a2867674d4b5b87e591e6d628eb4eccd27d1ebf7"
  },
  "kernelspec": {
   "display_name": "Python 3 (ipykernel)",
   "language": "python",
   "name": "python3"
  },
  "language_info": {
   "codemirror_mode": {
    "name": "ipython",
    "version": 3
   },
   "file_extension": ".py",
   "mimetype": "text/x-python",
   "name": "python",
   "nbconvert_exporter": "python",
   "pygments_lexer": "ipython3",
   "version": "3.8.10"
  }
 },
 "nbformat": 4,
 "nbformat_minor": 4
}
