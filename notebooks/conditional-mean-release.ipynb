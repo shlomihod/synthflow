{
 "cells": [
  {
   "cell_type": "markdown",
   "id": "83b60307",
   "metadata": {},
   "source": [
    "# Analysis of Conditional Means Release"
   ]
  },
  {
   "cell_type": "code",
   "execution_count": 1,
   "id": "42223eaf",
   "metadata": {},
   "outputs": [
    {
     "name": "stdout",
     "output_type": "stream",
     "text": [
      "W&B offline. Running your script from this directory will only write metadata locally. Use wandb disabled to completely turn off W&B.\r\n"
     ]
    }
   ],
   "source": [
    "import json\n",
    "import os\n",
    "import sys\n",
    "from collections import defaultdict\n",
    "\n",
    "import numpy as np\n",
    "import pandas as pd\n",
    "from diffprivlib.mechanisms import Laplace\n",
    "\n",
    "sys.path.insert(0, \"..\")\n",
    "\n",
    "from synthflow.__main__ import generate\n",
    "from synthflow.birth import (\n",
    "    BOUNDARIES,\n",
    "    CONDITIONAL_MEAN_EPSILONS,\n",
    "    EVALUATION_COLUMN_BINS,\n",
    "    THRESHOLD_ALL_K_WAYS_MAX_ABS_DIFF,\n",
    "    USER_ANALYSIS,\n",
    "    USER_ANALYSIS_BY_METRIC,\n",
    ")\n",
    "from synthflow.evaluation import numerify\n",
    "from synthflow.evaluation.utility.analysis import _bin_column, _get_groupby_2d\n",
    "from synthflow.evaluation.utility.metrics import _compute_mean_resized_by_second\n",
    "from tests.utils import GEN_CONFIG_PATH, REAL_DATA_200K_PATH, REAL_DATASET_SCHEMA\n",
    "\n",
    "os.environ[\"WANDB_MODE\"] = \"offline\"\n",
    "os.environ[\"WANB_SILENT\"] = \"true\"\n",
    "os.environ[\"PRIVBAYES_BIN\"] = \"/Users/shlomi/projects/synthflow/privbayes\"\n",
    "!wandb offline"
   ]
  },
  {
   "cell_type": "code",
   "execution_count": 2,
   "id": "40c33af0",
   "metadata": {},
   "outputs": [
    {
     "name": "stdout",
     "output_type": "stream",
     "text": [
      "real\n",
      "30\t\n"
     ]
    }
   ],
   "source": [
    "real_df = pd.read_csv(REAL_DATA_200K_PATH)\n",
    "real_df = REAL_DATASET_SCHEMA.validate(real_df)\n",
    "real_df = real_df.sample(160000, replace=False)\n",
    "\n",
    "with open(GEN_CONFIG_PATH) as f:\n",
    "    gen_config = json.load(f)\n",
    "\n",
    "synth_df, _, _, processed_df, _, _ = generate(\n",
    "    real_df, gen_config, REAL_DATASET_SCHEMA, [], ubersampling=1.1\n",
    ")\n",
    "\n",
    "numerified_processed_df = numerify(processed_df)\n",
    "numerified_synth_df = numerify(synth_df)"
   ]
  },
  {
   "cell_type": "code",
   "execution_count": 3,
   "id": "aa9b34e1",
   "metadata": {},
   "outputs": [],
   "source": [
    "processed_one_way_eval_bin_counts = {\n",
    "    column: _bin_column(numerified_processed_df, column, EVALUATION_COLUMN_BINS)\n",
    "    .value_counts()\n",
    "    .values\n",
    "    for column in synth_df.columns\n",
    "}"
   ]
  },
  {
   "cell_type": "code",
   "execution_count": 4,
   "id": "679bd7cc",
   "metadata": {},
   "outputs": [],
   "source": [
    "margin = int(np.ceil(THRESHOLD_ALL_K_WAYS_MAX_ABS_DIFF * len(processed_df)) + 1)"
   ]
  },
  {
   "cell_type": "code",
   "execution_count": 5,
   "id": "75481ae2",
   "metadata": {},
   "outputs": [
    {
     "data": {
      "text/plain": [
       "{'mother_age': array([97, 97, 96, 95]),\n",
       " 'parity': array([98, 97, 92]),\n",
       " 'gestation_week': array([99, 90]),\n",
       " 'is_female': array([98, 98]),\n",
       " 'date_of_birth': array([89, 89, 88, 88, 88, 88, 88, 88, 88, 88, 87, 86]),\n",
       " 'birth_weight': array([99, 87, 85])}"
      ]
     },
     "execution_count": 5,
     "metadata": {},
     "output_type": "execute_result"
    }
   ],
   "source": [
    "{\n",
    "    column: (100 * (1 - margin / counts)).round().astype(int)\n",
    "    for column, counts in processed_one_way_eval_bin_counts.items()\n",
    "}"
   ]
  },
  {
   "cell_type": "code",
   "execution_count": 6,
   "id": "9e46b681",
   "metadata": {},
   "outputs": [],
   "source": [
    "synth_one_way_eval_bin_counts = {\n",
    "    column: _bin_column(numerified_synth_df, column, EVALUATION_COLUMN_BINS)\n",
    "    .value_counts()\n",
    "    .values\n",
    "    for column in synth_df.columns\n",
    "}\n",
    "\n",
    "min_one_way_eval_bin_counts = {\n",
    "    column: counts.min() for column, counts in synth_one_way_eval_bin_counts.items()\n",
    "}\n",
    "\n",
    "conditioning = defaultdict(list)\n",
    "\n",
    "for analysis in USER_ANALYSIS:\n",
    "    if analysis.metric == \"mean\":\n",
    "        conditioning[analysis.target].append(analysis.by)\n",
    "\n",
    "mean_by_second_sensitivities = {\n",
    "    target: min(min_one_way_eval_bin_counts[by] for by in by_columns)\n",
    "    for target, by_columns in conditioning.items()\n",
    "}"
   ]
  },
  {
   "cell_type": "code",
   "execution_count": 7,
   "id": "9ecc9143",
   "metadata": {},
   "outputs": [
    {
     "data": {
      "text/plain": [
       "defaultdict(list,\n",
       "            {'birth_weight': ['is_female',\n",
       "              'parity',\n",
       "              'gestation_week',\n",
       "              'mother_age'],\n",
       "             'gestation_week': ['parity', 'mother_age'],\n",
       "             'parity': ['mother_age']})"
      ]
     },
     "execution_count": 7,
     "metadata": {},
     "output_type": "execute_result"
    }
   ],
   "source": [
    "conditioning"
   ]
  },
  {
   "cell_type": "code",
   "execution_count": 8,
   "id": "ffb94bd0",
   "metadata": {},
   "outputs": [
    {
     "data": {
      "text/plain": [
       "{'gestation_week', 'is_female', 'mother_age', 'parity'}"
      ]
     },
     "execution_count": 8,
     "metadata": {},
     "output_type": "execute_result"
    }
   ],
   "source": [
    "conditioning_by_columns = set(sum(map(list, conditioning.values()), []))\n",
    "\n",
    "conditioning_by_columns"
   ]
  },
  {
   "cell_type": "code",
   "execution_count": 9,
   "id": "b8983f4d",
   "metadata": {},
   "outputs": [],
   "source": [
    "USER_ANALYSIS_MEAN_RESIZE_BY_SECOND = USER_ANALYSIS_BY_METRIC[2]\n",
    "assert USER_ANALYSIS_MEAN_RESIZE_BY_SECOND[0].metric == \"mean-resize-by-second\""
   ]
  },
  {
   "cell_type": "code",
   "execution_count": 10,
   "id": "835ac907",
   "metadata": {},
   "outputs": [],
   "source": [
    "max_diff_results = defaultdict(lambda: defaultdict(list))\n",
    "sizes_results = defaultdict(list)\n",
    "\n",
    "for an in USER_ANALYSIS_MEAN_RESIZE_BY_SECOND:\n",
    "    processed_grp2d = _get_groupby_2d(\n",
    "        numerified_processed_df, an.target, an.by, EVALUATION_COLUMN_BINS\n",
    "    )\n",
    "    synth_grp2d = _get_groupby_2d(\n",
    "        numerified_synth_df, an.target, an.by, EVALUATION_COLUMN_BINS\n",
    "    )\n",
    "\n",
    "    sized_saved = False\n",
    "\n",
    "    for _ in range(100):\n",
    "        result = _compute_mean_resized_by_second(processed_grp2d, synth_grp2d)\n",
    "        max_diff_results[an.target][an.by].append(result[\"max/diff\"])\n",
    "\n",
    "        if not sized_saved:\n",
    "            sizes_results[an.target].append(result[\"min/size_by_second\"])\n",
    "            sized_saved = True\n",
    "\n",
    "sensitivity_results = {column: min(sizes) for column, sizes in sizes_results.items()}"
   ]
  },
  {
   "cell_type": "code",
   "execution_count": 11,
   "id": "21929353",
   "metadata": {},
   "outputs": [
    {
     "name": "stdout",
     "output_type": "stream",
     "text": [
      "mean_by_second_sensitivities={'birth_weight': 16600, 'gestation_week': 20460, 'parity': 29873}\n",
      "sensitivity_results={'birth_weight': 14999, 'gestation_week': 18859, 'parity': 28272}\n"
     ]
    }
   ],
   "source": [
    "# without taking into account limit with 1st acceptance criterion\n",
    "print(f\"{mean_by_second_sensitivities=}\")\n",
    "\n",
    "# with\n",
    "print(f\"{sensitivity_results=}\")"
   ]
  },
  {
   "cell_type": "code",
   "execution_count": 12,
   "id": "021baea0",
   "metadata": {},
   "outputs": [
    {
     "data": {
      "text/plain": [
       "{'birth_weight': 16.104435883644555,\n",
       " 'gestation_week': 0.02190815584289972,\n",
       " 'parity': 0.0012355979318248163}"
      ]
     },
     "execution_count": 12,
     "metadata": {},
     "output_type": "execute_result"
    }
   ],
   "source": [
    "{\n",
    "    target: np.std(sum(map(list, by_results.values()), []))\n",
    "    for target, by_results in max_diff_results.items()\n",
    "}"
   ]
  },
  {
   "cell_type": "code",
   "execution_count": 13,
   "id": "a3764572",
   "metadata": {},
   "outputs": [
    {
     "name": "stdout",
     "output_type": "stream",
     "text": [
      "parity 0.0025021706831110115\n",
      "birth_weight 3.149977845406782\n",
      "gestation_week 0.0031631166006232756\n"
     ]
    }
   ],
   "source": [
    "for column, epsilon in CONDITIONAL_MEAN_EPSILONS.items():\n",
    "    sensitivity = (BOUNDARIES[column][1] - BOUNDARIES[column][0]) / sensitivity_results[\n",
    "        column\n",
    "    ]\n",
    "\n",
    "    mech = Laplace(epsilon=epsilon, delta=0, sensitivity=sensitivity)\n",
    "\n",
    "    print(column, mech.variance(None))"
   ]
  }
 ],
 "metadata": {
  "kernelspec": {
   "display_name": "Python 3 (ipykernel)",
   "language": "python",
   "name": "python3"
  },
  "language_info": {
   "codemirror_mode": {
    "name": "ipython",
    "version": 3
   },
   "file_extension": ".py",
   "mimetype": "text/x-python",
   "name": "python",
   "nbconvert_exporter": "python",
   "pygments_lexer": "ipython3",
   "version": "3.8.16"
  }
 },
 "nbformat": 4,
 "nbformat_minor": 5
}
