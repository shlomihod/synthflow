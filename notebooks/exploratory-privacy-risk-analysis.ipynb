{
 "cells": [
  {
   "cell_type": "markdown",
   "metadata": {
    "id": "tYhJDUWROma8"
   },
   "source": [
    "# Exploratory Privacy Risk Analysis"
   ]
  },
  {
   "cell_type": "code",
   "execution_count": 1,
   "metadata": {
    "id": "5jAa-IqAOlMV"
   },
   "outputs": [],
   "source": [
    "from collections import Counter\n",
    "\n",
    "import numpy as np\n",
    "import pandas as pd\n",
    "import seaborn as sns\n",
    "from IPython.display import Markdown, display\n",
    "from matplotlib import pylab as plt\n",
    "from scipy.spatial.distance import cdist"
   ]
  },
  {
   "cell_type": "code",
   "execution_count": 2,
   "metadata": {},
   "outputs": [],
   "source": [
    "import sys\n",
    "\n",
    "sys.path.insert(0, \"..\")\n",
    "\n",
    "from synthflow.__main__ import (\n",
    "    REAL_DATASET_SCHEMA,\n",
    "    _print_validate_coerce,\n",
    "    _run_evaluation,\n",
    ")\n",
    "from tests.utils import (\n",
    "    PROCESSED_REAL_DATA_200K_PATH,\n",
    "    REAL_DATA_200K_PATH,\n",
    "    SYNTH_DATA_200K_PATH,\n",
    ")"
   ]
  },
  {
   "cell_type": "code",
   "execution_count": 3,
   "metadata": {
    "id": "ItVDWE0CqQFK"
   },
   "outputs": [],
   "source": [
    "rng = np.random.default_rng(1337)"
   ]
  },
  {
   "cell_type": "markdown",
   "metadata": {
    "id": "Vd3411PDOoKR"
   },
   "source": [
    "## Distance Based Metrics\n",
    "\n",
    "Synth could be closer to real!"
   ]
  },
  {
   "cell_type": "code",
   "execution_count": 4,
   "metadata": {
    "id": "3yUSrKJ0i0GJ"
   },
   "outputs": [],
   "source": [
    "# GAN evaluation paper, I'm not sure it appears in the Test Drive\n",
    "# Maybe it is \"Nearest Neighbor Distance Ratio\"? But no report\n",
    "def avg_abs_nn_dist(x, y):\n",
    "    is_same = x is y\n",
    "\n",
    "    if len(x.shape) == 1:\n",
    "        x = x[:, None]\n",
    "    if len(y.shape) == 1:\n",
    "        y = y[:, None]\n",
    "\n",
    "    dists = cdist(x, y)\n",
    "\n",
    "    if is_same:\n",
    "        np.fill_diagonal(dists, np.inf)\n",
    "\n",
    "    nn_inds = dists.argmin(axis=1)\n",
    "    return np.mean(np.abs(x - y[nn_inds]))\n",
    "\n",
    "\n",
    "# https://github.com/hhunterzinck/absehrd/blob/main/privacy.py\n",
    "def dist_ecdf(x, y):\n",
    "    if len(x.shape) == 1:\n",
    "        x = x[:, None]\n",
    "    if len(y.shape) == 1:\n",
    "        y = y[:, None]\n",
    "\n",
    "    dists_xx = cdist(x, x)\n",
    "    np.fill_diagonal(dists_xx, np.nan)\n",
    "    sns.ecdfplot(dists_xx.flatten(), label=\"real-real\")\n",
    "\n",
    "    dists_xy = cdist(x, y)\n",
    "    sns.ecdfplot(dists_xy.flatten(), label=\"real-synth\")\n",
    "\n",
    "    plt.legend()"
   ]
  },
  {
   "cell_type": "code",
   "execution_count": 5,
   "metadata": {
    "colab": {
     "base_uri": "https://localhost:8080/",
     "height": 286
    },
    "id": "IJaF4Q4bOlTt",
    "outputId": "13cd068f-a8e3-4633-f2e2-c1a5e29c3c85"
   },
   "outputs": [
    {
     "name": "stdout",
     "output_type": "stream",
     "text": [
      "NN Ratio: 0.028850396806415633\n"
     ]
    },
    {
     "data": {
      "image/png": "[encoded data removed]",
      "text/plain": [
       "<Figure size 432x288 with 1 Axes>"
      ]
     },
     "metadata": {
      "needs_background": "light"
     },
     "output_type": "display_data"
    }
   ],
   "source": [
    "real = rng.normal(0, 1, 1000)\n",
    "synth = rng.normal(0, 0, 1000)\n",
    "\n",
    "print(\"NN Ratio:\", avg_abs_nn_dist(synth, real) / avg_abs_nn_dist(real, real))\n",
    "\n",
    "dist_ecdf(real, synth)"
   ]
  },
  {
   "cell_type": "markdown",
   "metadata": {
    "id": "s30-RrPYic6w"
   },
   "source": [
    "## Risks, Attacks and Mitigations"
   ]
  },
  {
   "cell_type": "markdown",
   "metadata": {
    "id": "GOAj64wK1GXO"
   },
   "source": [
    "### Risk Overview\n",
    "\n",
    "1. **Singling out**: the possibility to isolate some or all records which identify an individual in the dataset. See [Aloni & Nissim (2020)](https://www.pnas.org/doi/10.1073/pnas.1914598117).  \n",
    "Why does it matters by itself? For example, (1) membership (whether a child was legally registered); (2) which data to collect to identify someone (target advertising)\n",
    "\n",
    "2. **Linkability**: the ability to link, at least, two records concerning the same data subject or a group of data subjects (either in the same database or in two different databases). If an attacker can establish (e.g. by means of correlation analysis) that two records are assigned to a same group of individuals but cannot single out individuals in this group, the technique provides resistance against “singling out” but not against linkability;\n",
    "\n",
    "3. **Inference**: the possibility to deduce, with significant probability, the value of an attribute from the values of a set of other attributes.\n",
    "\n",
    "4. **Memebership**: the possibility to deduce, with significant probability, whether a original record was used to generate the released records.\n",
    "\n",
    "1, 2, 3 - taken from the [GDPR ARTICLE 29 DATA PROTECTION WORKING PARTY](https://ec.europa.eu/justice/article-29/documentation/opinion-recommendation/files/2014/wp216_en.pdf)\n",
    "\n",
    "\n",
    "### Baselines\n",
    "1. Uniform (`br`)\n",
    "2. Univariate (`bu`)\n",
    "3. Univarate from synththic data without unique rows (`snubu`)\n",
    "4. Univariate from MoH publications and guesses (`mohu`)\n"
   ]
  },
  {
   "cell_type": "code",
   "execution_count": 6,
   "metadata": {},
   "outputs": [
    {
     "name": "stdout",
     "output_type": "stream",
     "text": [
      "<class 'pandas.core.frame.DataFrame'>\n",
      "RangeIndex: 200000 entries, 0 to 199999\n",
      "Data columns (total 6 columns):\n",
      " #   Column          Non-Null Count   Dtype \n",
      "---  ------          --------------   ----- \n",
      " 0   mother_age      200000 non-null  int64 \n",
      " 1   parity          200000 non-null  int64 \n",
      " 2   gestation_week  200000 non-null  int64 \n",
      " 3   is_female       200000 non-null  bool  \n",
      " 4   birth_weight    200000 non-null  int64 \n",
      " 5   date_of_birth   200000 non-null  object\n",
      "dtypes: bool(1), int64(4), object(1)\n",
      "memory usage: 7.8+ MB\n"
     ]
    }
   ],
   "source": [
    "real_df = pd.read_csv(REAL_DATA_200K_PATH)\n",
    "real_df = _print_validate_coerce(real_df, \"Real\", REAL_DATASET_SCHEMA)"
   ]
  },
  {
   "cell_type": "code",
   "execution_count": 7,
   "metadata": {
    "id": "KqfyFHx6qbdY"
   },
   "outputs": [],
   "source": [
    "processed_real_df = pd.read_pickle(PROCESSED_REAL_DATA_200K_PATH)\n",
    "synth_df = pd.read_pickle(SYNTH_DATA_200K_PATH)\n",
    "\n",
    "COLUMNS = list(processed_real_df.columns)"
   ]
  },
  {
   "cell_type": "code",
   "execution_count": 8,
   "metadata": {
    "id": "BGJhym4Vssh2"
   },
   "outputs": [],
   "source": [
    "QUASI_IDENTIFIER_COLUMNS = [\"date_of_birth\", \"mother_age\", \"parity\", \"is_female\"]\n",
    "SENSITIVE_COLUMNS = [\"gestation_week\", \"birth_weight\"]"
   ]
  },
  {
   "cell_type": "code",
   "execution_count": 9,
   "metadata": {
    "id": "QpJ4cwq7udFm"
   },
   "outputs": [],
   "source": [
    "def normalized_counter(seq):\n",
    "    counter = Counter(seq)\n",
    "    total = sum(counter.values())\n",
    "    norm_counter = {element: count / total for element, count in counter.items()}\n",
    "    return norm_counter\n",
    "\n",
    "\n",
    "processed_real_weights = {\n",
    "    column: normalized_counter(processed_real_df[column])\n",
    "    for column in processed_real_df\n",
    "}\n",
    "\n",
    "unifrom_baseline_df = pd.DataFrame(\n",
    "    {\n",
    "        column: rng.choice(\n",
    "            list(weights.keys()), size=len(processed_real_df), replace=True\n",
    "        )\n",
    "        for column, weights in processed_real_weights.items()\n",
    "    }\n",
    ")\n",
    "\n",
    "univariate_baseline_df = pd.DataFrame(\n",
    "    {\n",
    "        column: rng.choice(\n",
    "            list(weights.keys()),\n",
    "            size=len(processed_real_df),\n",
    "            replace=True,\n",
    "            p=list(weights.values()),\n",
    "        )\n",
    "        for column, weights in processed_real_weights.items()\n",
    "    }\n",
    ")"
   ]
  },
  {
   "cell_type": "code",
   "execution_count": 10,
   "metadata": {
    "id": "vEI6d8JVA6S0"
   },
   "outputs": [],
   "source": [
    "synth_non_unique = synth_df[synth_df.duplicated(keep=False)]\n",
    "synth_non_unique_weights = {\n",
    "    column: normalized_counter(synth_non_unique[column]) for column in synth_non_unique\n",
    "}\n",
    "\n",
    "synth_non_unique_univariate_baseline_df = pd.DataFrame(\n",
    "    {\n",
    "        column: rng.choice(\n",
    "            list(weights.keys()),\n",
    "            size=len(processed_real_df),\n",
    "            replace=True,\n",
    "            p=list(weights.values()),\n",
    "        )\n",
    "        for column, weights in synth_non_unique_weights.items()\n",
    "    }\n",
    ")"
   ]
  },
  {
   "cell_type": "code",
   "execution_count": 11,
   "metadata": {
    "id": "_5-88gu5_ue8"
   },
   "outputs": [],
   "source": [
    "synth_index = synth_df.set_index(list(synth_df.columns)).index\n",
    "unique_processed_real_index = (\n",
    "    processed_real_df.drop_duplicates(keep=False)\n",
    "    .set_index(list(synth_df.columns))\n",
    "    .index\n",
    ")\n",
    "\n",
    "mask = synth_index.isin(unique_processed_real_index) & ~synth_df.duplicated(keep=False)\n",
    "synth_non_replicated_unique = synth_df[~mask]\n",
    "\n",
    "synth_non_replicated_unique_weights = {\n",
    "    column: normalized_counter(synth_non_replicated_unique[column])\n",
    "    for column in synth_non_unique_univariate_baseline_df\n",
    "}\n",
    "\n",
    "synth_non_replicated_unique_univariate_baseline_df = pd.DataFrame(\n",
    "    {\n",
    "        column: rng.choice(\n",
    "            list(weights.keys()),\n",
    "            size=len(processed_real_df),\n",
    "            replace=True,\n",
    "            p=list(weights.values()),\n",
    "        )\n",
    "        for column, weights in synth_non_replicated_unique_weights.items()\n",
    "    }\n",
    ")"
   ]
  },
  {
   "cell_type": "code",
   "execution_count": 12,
   "metadata": {
    "id": "ud4JpynBA38-"
   },
   "outputs": [],
   "source": [
    "# https://www.gov.il/BlobFolder/reports/live-birth-in-israel/he/files_publications_units_info_birth_2000_2017.pdf\n",
    "\n",
    "birth_weight_d = {}\n",
    "birth_weight_d[pd.Interval(500, 600, closed=\"left\")] = 0.04 / 100\n",
    "birth_weight_d.update(\n",
    "    {pd.Interval(w, w + 100, closed=\"left\"): 0.04 / 100 for w in range(500, 1000, 100)}\n",
    ")\n",
    "birth_weight_d.update(\n",
    "    {\n",
    "        pd.Interval(w, w + 100, closed=\"left\"): 0.6 / 5 / 100\n",
    "        for w in range(1000, 1500, 100)\n",
    "    }\n",
    ")\n",
    "birth_weight_d.update(\n",
    "    {\n",
    "        pd.Interval(w, w + 100, closed=\"left\"): 1.4 / 5 / 100\n",
    "        for w in range(1500, 2000, 100)\n",
    "    }\n",
    ")\n",
    "birth_weight_d.update(\n",
    "    {\n",
    "        pd.Interval(w, w + 100, closed=\"left\"): 5.4 / 5 / 100\n",
    "        for w in range(2000, 2500, 100)\n",
    "    }\n",
    ")\n",
    "birth_weight_d.update(\n",
    "    {\n",
    "        pd.Interval(w, w + 100, closed=\"left\"): 21.7 / 5 / 100\n",
    "        for w in range(2500, 3000, 100)\n",
    "    }\n",
    ")\n",
    "birth_weight_d.update(\n",
    "    {\n",
    "        pd.Interval(w, w + 100, closed=\"left\"): 41.5 / 5 / 100\n",
    "        for w in range(3000, 3500, 100)\n",
    "    }\n",
    ")\n",
    "birth_weight_d.update(\n",
    "    {\n",
    "        pd.Interval(w, w + 100, closed=\"left\"): 23.9 / 5 / 100\n",
    "        for w in range(3500, 4000, 100)\n",
    "    }\n",
    ")\n",
    "birth_weight_d.update(\n",
    "    {\n",
    "        pd.Interval(w, w + 100, closed=\"left\"): 4.9 / 5 / 100\n",
    "        for w in range(4000, 4500, 100)\n",
    "    }\n",
    ")\n",
    "birth_weight_d.update(\n",
    "    {\n",
    "        pd.Interval(w, w + 100, closed=\"left\"): 0.4 / 5 / 100\n",
    "        for w in range(4500, 4900, 100)\n",
    "    }\n",
    ")\n",
    "birth_weight_d[pd.Interval(4900, 5001, closed=\"left\")] = 0.4 / 5 / 100\n",
    "\n",
    "\n",
    "moh_weights = {\n",
    "    \"mother_age\": {\n",
    "        pd.Interval(17, 18, closed=\"left\"): 0.001,\n",
    "        pd.Interval(18, 20, closed=\"left\"): 1.7 / 100,\n",
    "        pd.Interval(20, 25, closed=\"left\"): 17.8 / 100,\n",
    "        pd.Interval(25, 29, closed=\"left\"): 29.1 / 100,\n",
    "        pd.Interval(30, 35, closed=\"left\"): 29.6 / 100,\n",
    "        pd.Interval(35, 37, closed=\"left\"): 8.35 / 100,\n",
    "        pd.Interval(37, 40, closed=\"left\"): 8.35 / 100,\n",
    "        pd.Interval(40, 43, closed=\"left\"): 4.6 / 100,\n",
    "        pd.Interval(43, 51, closed=\"left\"): 0.4 / 100,\n",
    "    },\n",
    "    \"is_female\": {False: 1 / (1 + 1.06), True: 1.06 / (1 + 1.06)},\n",
    "    \"date_of_birth\": {\n",
    "        pd.Timestamp(f\"2019-{m:0d}-15 00:00:00\"): 1 / 12 for m in range(1, 13)\n",
    "    },\n",
    "    \"gestation_week\": {\n",
    "        pd.Interval(25, 26, closed=\"left\"): 0,\n",
    "        pd.Interval(26, 29, closed=\"left\"): 0.2 / 100,\n",
    "        pd.Interval(29, 32, closed=\"left\"): 1 / 100,\n",
    "        pd.Interval(32, 34, closed=\"left\"): 1 / 100,\n",
    "        pd.Interval(34, 37, closed=\"left\"): 4.9 / 100,\n",
    "        pd.Interval(37, 42, closed=\"left\"): 89.9 / 100,\n",
    "        pd.Interval(42, 43, closed=\"left\"): 3 / 100,\n",
    "    },\n",
    "    # rounded version of bu:\n",
    "    \"parity\": {\n",
    "        pd.Interval(1, 2, closed=\"left\"): 40 / 100,\n",
    "        pd.Interval(2, 4, closed=\"left\"): 50 / 100,\n",
    "        pd.Interval(4, 7, closed=\"left\"): 8 / 100,\n",
    "        pd.Interval(7, 16, closed=\"left\"): 2 / 100,\n",
    "    },\n",
    "    \"birth_weight\": birth_weight_d,\n",
    "}\n",
    "\n",
    "\n",
    "moh_univariate_baseline_df = pd.DataFrame(\n",
    "    {\n",
    "        column: rng.choice(\n",
    "            list(weights.keys()),\n",
    "            size=len(processed_real_df),\n",
    "            replace=True,\n",
    "            p=list(weights.values()),\n",
    "        )\n",
    "        for column, weights in moh_weights.items()\n",
    "    }\n",
    ")"
   ]
  },
  {
   "cell_type": "code",
   "execution_count": 13,
   "metadata": {
    "colab": {
     "base_uri": "https://localhost:8080/"
    },
    "id": "EzSNL8XofUlW",
    "outputId": "ef5de7f1-8807-4736-f4b0-10a83032a136"
   },
   "outputs": [
    {
     "data": {
      "text/plain": [
       "mother_age       0.00926\n",
       "parity           0.01156\n",
       "gestation_week   0.04415\n",
       "is_female        0.00064\n",
       "birth_weight     0.00441\n",
       "date_of_birth    0.00186\n",
       "dtype: float64"
      ]
     },
     "execution_count": 13,
     "metadata": {},
     "output_type": "execute_result"
    }
   ],
   "source": [
    "pd.Series(\n",
    "    {\n",
    "        column: (\n",
    "            pd.Series(synth_non_unique_weights[column])\n",
    "            - pd.Series(processed_real_weights[column])\n",
    "        )\n",
    "        .abs()\n",
    "        .max()\n",
    "        for column in synth_non_unique_weights\n",
    "    }\n",
    ")"
   ]
  },
  {
   "cell_type": "code",
   "execution_count": 14,
   "metadata": {
    "colab": {
     "base_uri": "https://localhost:8080/"
    },
    "id": "-Vxw0M65Ae7w",
    "outputId": "5bf19f76-ad1b-4a6a-c8b2-1d402c04ed13"
   },
   "outputs": [
    {
     "data": {
      "text/plain": [
       "mother_age       0.00286\n",
       "parity           0.00255\n",
       "gestation_week   0.01022\n",
       "is_female        0.00074\n",
       "birth_weight     0.00183\n",
       "date_of_birth    0.00193\n",
       "dtype: float64"
      ]
     },
     "execution_count": 14,
     "metadata": {},
     "output_type": "execute_result"
    }
   ],
   "source": [
    "pd.Series(\n",
    "    {\n",
    "        column: (\n",
    "            pd.Series(synth_non_replicated_unique_weights[column])\n",
    "            - pd.Series(processed_real_weights[column])\n",
    "        )\n",
    "        .abs()\n",
    "        .max()\n",
    "        for column in synth_non_unique_weights\n",
    "    }\n",
    ")"
   ]
  },
  {
   "cell_type": "code",
   "execution_count": 15,
   "metadata": {
    "colab": {
     "base_uri": "https://localhost:8080/"
    },
    "id": "ViiZkY7qAkYV",
    "outputId": "8d7eae62-f063-45d0-de76-494f9654a0ed"
   },
   "outputs": [
    {
     "data": {
      "text/plain": [
       "mother_age       0.00640\n",
       "parity           0.00901\n",
       "gestation_week   0.03393\n",
       "is_female        0.00010\n",
       "birth_weight     0.00334\n",
       "date_of_birth    0.00046\n",
       "dtype: float64"
      ]
     },
     "execution_count": 15,
     "metadata": {},
     "output_type": "execute_result"
    }
   ],
   "source": [
    "pd.Series(\n",
    "    {\n",
    "        column: (\n",
    "            pd.Series(synth_non_replicated_unique_weights[column])\n",
    "            - pd.Series(synth_non_unique_weights[column])\n",
    "        )\n",
    "        .abs()\n",
    "        .max()\n",
    "        for column in synth_non_unique_weights\n",
    "    }\n",
    ")"
   ]
  },
  {
   "cell_type": "code",
   "execution_count": 16,
   "metadata": {
    "colab": {
     "base_uri": "https://localhost:8080/"
    },
    "id": "CPh3g1QnYDyH",
    "outputId": "ed88f3fc-98b7-4130-9a08-af5653276ec4"
   },
   "outputs": [
    {
     "data": {
      "text/plain": [
       "mother_age       0.01897\n",
       "parity           0.03507\n",
       "gestation_week   0.05446\n",
       "is_female        0.02680\n",
       "birth_weight     0.02419\n",
       "date_of_birth    0.01006\n",
       "dtype: float64"
      ]
     },
     "execution_count": 16,
     "metadata": {},
     "output_type": "execute_result"
    }
   ],
   "source": [
    "pd.Series(\n",
    "    {\n",
    "        column: (\n",
    "            pd.Series(moh_weights[column]) - pd.Series(processed_real_weights[column])\n",
    "        )\n",
    "        .abs()\n",
    "        .max()\n",
    "        for column in synth_non_unique_weights\n",
    "    }\n",
    ")"
   ]
  },
  {
   "cell_type": "code",
   "execution_count": 17,
   "metadata": {
    "id": "658ji0HjxYkJ"
   },
   "outputs": [],
   "source": [
    "dfs = {\n",
    "    \"pr\": processed_real_df,\n",
    "    \"s\": synth_df,\n",
    "    \"bu\": univariate_baseline_df,\n",
    "    \"br\": unifrom_baseline_df,\n",
    "    \"snubu\": synth_non_unique_univariate_baseline_df,\n",
    "    \"snrubu\": synth_non_replicated_unique_univariate_baseline_df,\n",
    "    \"mohu\": moh_univariate_baseline_df,\n",
    "}"
   ]
  },
  {
   "cell_type": "markdown",
   "metadata": {
    "id": "A1cPnqzHmTLS"
   },
   "source": [
    "## 1. Singling Out\n",
    "\n",
    "### Attack: Replicated Uniques\n",
    "Determines which unique units in the synthesised data set(s) replicates unique units in the original observed data set.\n",
    "\n",
    "### Metigation: Remove Uniques in Synth"
   ]
  },
  {
   "cell_type": "code",
   "execution_count": 18,
   "metadata": {
    "id": "eBoqaeEaxC4I"
   },
   "outputs": [],
   "source": [
    "count_df = (\n",
    "    pd.concat({name: df[COLUMNS].value_counts() for name, df in dfs.items()}, axis=1)\n",
    "    .fillna(0)\n",
    "    .astype(int)\n",
    ")"
   ]
  },
  {
   "cell_type": "code",
   "execution_count": 19,
   "metadata": {
    "colab": {
     "base_uri": "https://localhost:8080/",
     "height": 237
    },
    "id": "gGznkmOgaXrD",
    "outputId": "6b38fbfa-82f5-4403-b4a5-e0178182ac04"
   },
   "outputs": [
    {
     "data": {
      "text/html": [
       "<div>\n",
       "<style scoped>\n",
       "    .dataframe tbody tr th:only-of-type {\n",
       "        vertical-align: middle;\n",
       "    }\n",
       "\n",
       "    .dataframe tbody tr th {\n",
       "        vertical-align: top;\n",
       "    }\n",
       "\n",
       "    .dataframe thead th {\n",
       "        text-align: right;\n",
       "    }\n",
       "</style>\n",
       "<table border=\"1\" class=\"dataframe\">\n",
       "  <thead>\n",
       "    <tr style=\"text-align: right;\">\n",
       "      <th></th>\n",
       "      <th>s vs. pr</th>\n",
       "      <th>bu vs. pr</th>\n",
       "      <th>br vs. pr</th>\n",
       "      <th>snubu vs. pr</th>\n",
       "      <th>snrubu vs. pr</th>\n",
       "      <th>mohu vs. pr</th>\n",
       "    </tr>\n",
       "  </thead>\n",
       "  <tbody>\n",
       "    <tr>\n",
       "      <th>Unique release count</th>\n",
       "      <td>13693.00000</td>\n",
       "      <td>15792.00000</td>\n",
       "      <td>95509.00000</td>\n",
       "      <td>10693.00000</td>\n",
       "      <td>14654.00000</td>\n",
       "      <td>12958.00000</td>\n",
       "    </tr>\n",
       "    <tr>\n",
       "      <th>Unique KEYS in release perc</th>\n",
       "      <td>45.58000</td>\n",
       "      <td>46.72000</td>\n",
       "      <td>67.58000</td>\n",
       "      <td>41.41000</td>\n",
       "      <td>45.68000</td>\n",
       "      <td>45.24000</td>\n",
       "    </tr>\n",
       "    <tr>\n",
       "      <th>Unique ROWS in release perc</th>\n",
       "      <td>6.85000</td>\n",
       "      <td>7.90000</td>\n",
       "      <td>47.75000</td>\n",
       "      <td>5.35000</td>\n",
       "      <td>7.33000</td>\n",
       "      <td>6.48000</td>\n",
       "    </tr>\n",
       "    <tr>\n",
       "      <th>Intersection in release count</th>\n",
       "      <td>3129.00000</td>\n",
       "      <td>2413.00000</td>\n",
       "      <td>5122.00000</td>\n",
       "      <td>2036.00000</td>\n",
       "      <td>2291.00000</td>\n",
       "      <td>1703.00000</td>\n",
       "    </tr>\n",
       "    <tr>\n",
       "      <th>Intersection KEYS in release perc</th>\n",
       "      <td>10.42000</td>\n",
       "      <td>7.14000</td>\n",
       "      <td>3.62000</td>\n",
       "      <td>7.89000</td>\n",
       "      <td>7.14000</td>\n",
       "      <td>5.95000</td>\n",
       "    </tr>\n",
       "    <tr>\n",
       "      <th>Intersection ROWS in release perc</th>\n",
       "      <td>1.56000</td>\n",
       "      <td>1.21000</td>\n",
       "      <td>2.56000</td>\n",
       "      <td>1.02000</td>\n",
       "      <td>1.15000</td>\n",
       "      <td>0.85000</td>\n",
       "    </tr>\n",
       "  </tbody>\n",
       "</table>\n",
       "</div>"
      ],
      "text/plain": [
       "                                     s vs. pr   bu vs. pr   br vs. pr  snubu vs. pr  snrubu vs. pr  mohu vs. pr\n",
       "Unique release count              13693.00000 15792.00000 95509.00000   10693.00000    14654.00000  12958.00000\n",
       "Unique KEYS in release perc          45.58000    46.72000    67.58000      41.41000       45.68000     45.24000\n",
       "Unique ROWS in release perc           6.85000     7.90000    47.75000       5.35000        7.33000      6.48000\n",
       "Intersection in release count      3129.00000  2413.00000  5122.00000    2036.00000     2291.00000   1703.00000\n",
       "Intersection KEYS in release perc    10.42000     7.14000     3.62000       7.89000        7.14000      5.95000\n",
       "Intersection ROWS in release perc     1.56000     1.21000     2.56000       1.02000        1.15000      0.85000"
      ]
     },
     "execution_count": 19,
     "metadata": {},
     "output_type": "execute_result"
    }
   ],
   "source": [
    "def attack_replicated_uniques(release, original, count_df):\n",
    "    uniques = count_df.query(f\"{release} == 1\")\n",
    "    intersections = count_df.query(f\"{release} == 1 & {original} == 1\")\n",
    "\n",
    "    return {\n",
    "        \"Unique release count\": len(uniques),\n",
    "        \"Unique KEYS in release perc\": len(uniques)\n",
    "        / len(count_df.query(f\"{release} > 0\"))\n",
    "        * 100,\n",
    "        \"Unique ROWS in release perc\": uniques[f\"{release}\"].sum()\n",
    "        / count_df[release].sum()\n",
    "        * 100,\n",
    "        \"Intersection in release count\": len(intersections),\n",
    "        \"Intersection KEYS in release perc\": len(intersections)\n",
    "        / len(count_df.query(f\"{release} > 0\"))\n",
    "        * 100,\n",
    "        \"Intersection ROWS in release perc\": intersections[f\"{release}\"].sum()\n",
    "        / count_df[release].sum()\n",
    "        * 100,\n",
    "    }\n",
    "\n",
    "\n",
    "pd.DataFrame(\n",
    "    {\n",
    "        f\"{name} vs. {count_df.columns[0]}\": attack_replicated_uniques(\n",
    "            name, count_df.columns[0], count_df\n",
    "        )\n",
    "        for name in count_df.columns[1:]\n",
    "    }\n",
    ").round(2)"
   ]
  },
  {
   "cell_type": "markdown",
   "metadata": {
    "id": "bSEf13NNUQWM"
   },
   "source": [
    "## 3. Inference"
   ]
  },
  {
   "cell_type": "code",
   "execution_count": 20,
   "metadata": {
    "id": "Bmd5vRHXUZu4"
   },
   "outputs": [],
   "source": [
    "# counting / prec of sensitive column grouped by quasi\n",
    "\n",
    "\n",
    "def attack_exact_apperent_match(release, original, nun_df):\n",
    "    uniques = nun_df.query(f\"nunique_{release} == 1\")\n",
    "    intersections = nun_df.query(f\"nunique_{release} == 1 & nunique_{original} == 1\")\n",
    "\n",
    "    return {\n",
    "        \"Unique QUASI in release count\": len(uniques),\n",
    "        \"Unique QUASY in release perc\": len(uniques)\n",
    "        / len(nun_df.query(f\"size_{release} > 0\"))\n",
    "        * 100,\n",
    "        \"Unique ROWS in release count\": uniques[f\"size_{release}\"].sum(),\n",
    "        \"Unique ROWS in release perc\": uniques[f\"size_{release}\"].sum()\n",
    "        / nun_df[f\"size_{release}\"].sum()\n",
    "        * 100,\n",
    "        \"Intersection QUASI in release count\": len(intersections),\n",
    "        \"Intersection QUASY in release perc\": len(intersections)\n",
    "        / len(nun_df.query(f\"size_{release} > 0\"))\n",
    "        * 100,\n",
    "        \"Intersection ROWS in release count\": intersections[f\"size_{release}\"].sum(),\n",
    "        \"Intersection ROWS in release perc\": intersections[f\"size_{release}\"].sum()\n",
    "        / nun_df[f\"size_{release}\"].sum()\n",
    "        * 100,\n",
    "    }\n",
    "    return\n",
    "\n",
    "\n",
    "nun_dfs = {\n",
    "    column: pd.concat(\n",
    "        [\n",
    "            (\n",
    "                df.groupby(QUASI_IDENTIFIER_COLUMNS)[column]\n",
    "                .agg([\"size\", \"nunique\", lambda g: list(g)])\n",
    "                .rename({\"<lambda_0>\": \"values\"}, axis=1)\n",
    "                .add_suffix(f\"_{name}\")\n",
    "            )\n",
    "            for name, df in dfs.items()\n",
    "        ],\n",
    "        axis=1,\n",
    "    )\n",
    "    for column in SENSITIVE_COLUMNS\n",
    "}\n",
    "\n",
    "values_columns = [f\"values_{name}\" for name in dfs]"
   ]
  },
  {
   "cell_type": "code",
   "execution_count": 21,
   "metadata": {
    "colab": {
     "base_uri": "https://localhost:8080/",
     "height": 1000
    },
    "id": "v-Jx1jVRgIE_",
    "outputId": "d7cb1833-1dfd-460a-d225-5aa35118e9de"
   },
   "outputs": [
    {
     "data": {
      "text/markdown": [
       "### `gestation_week`"
      ],
      "text/plain": [
       "<IPython.core.display.Markdown object>"
      ]
     },
     "metadata": {},
     "output_type": "display_data"
    },
    {
     "data": {
      "text/markdown": [
       "#### Exact Match"
      ],
      "text/plain": [
       "<IPython.core.display.Markdown object>"
      ]
     },
     "metadata": {},
     "output_type": "display_data"
    },
    {
     "data": {
      "text/html": [
       "<div>\n",
       "<style scoped>\n",
       "    .dataframe tbody tr th:only-of-type {\n",
       "        vertical-align: middle;\n",
       "    }\n",
       "\n",
       "    .dataframe tbody tr th {\n",
       "        vertical-align: top;\n",
       "    }\n",
       "\n",
       "    .dataframe thead th {\n",
       "        text-align: right;\n",
       "    }\n",
       "</style>\n",
       "<table border=\"1\" class=\"dataframe\">\n",
       "  <thead>\n",
       "    <tr style=\"text-align: right;\">\n",
       "      <th></th>\n",
       "      <th>s vs. pr</th>\n",
       "      <th>bu vs. pr</th>\n",
       "      <th>br vs. pr</th>\n",
       "      <th>snubu vs. pr</th>\n",
       "      <th>snrubu vs. pr</th>\n",
       "      <th>mohu vs. pr</th>\n",
       "    </tr>\n",
       "  </thead>\n",
       "  <tbody>\n",
       "    <tr>\n",
       "      <th>Unique QUASI in release count</th>\n",
       "      <td>32.00000</td>\n",
       "      <td>72.00000</td>\n",
       "      <td>0.00000</td>\n",
       "      <td>140.00000</td>\n",
       "      <td>85.00000</td>\n",
       "      <td>125.00000</td>\n",
       "    </tr>\n",
       "    <tr>\n",
       "      <th>Unique QUASY in release perc</th>\n",
       "      <td>4.31000</td>\n",
       "      <td>8.50000</td>\n",
       "      <td>0.00000</td>\n",
       "      <td>17.37000</td>\n",
       "      <td>10.16000</td>\n",
       "      <td>15.41000</td>\n",
       "    </tr>\n",
       "    <tr>\n",
       "      <th>Unique ROWS in release count</th>\n",
       "      <td>186.00000</td>\n",
       "      <td>266.00000</td>\n",
       "      <td>0.00000</td>\n",
       "      <td>668.00000</td>\n",
       "      <td>397.00000</td>\n",
       "      <td>669.00000</td>\n",
       "    </tr>\n",
       "    <tr>\n",
       "      <th>Unique ROWS in release perc</th>\n",
       "      <td>0.09000</td>\n",
       "      <td>0.13000</td>\n",
       "      <td>0.00000</td>\n",
       "      <td>0.33000</td>\n",
       "      <td>0.20000</td>\n",
       "      <td>0.33000</td>\n",
       "    </tr>\n",
       "    <tr>\n",
       "      <th>Intersection QUASI in release count</th>\n",
       "      <td>8.00000</td>\n",
       "      <td>7.00000</td>\n",
       "      <td>0.00000</td>\n",
       "      <td>12.00000</td>\n",
       "      <td>6.00000</td>\n",
       "      <td>9.00000</td>\n",
       "    </tr>\n",
       "    <tr>\n",
       "      <th>Intersection QUASY in release perc</th>\n",
       "      <td>1.08000</td>\n",
       "      <td>0.83000</td>\n",
       "      <td>0.00000</td>\n",
       "      <td>1.49000</td>\n",
       "      <td>0.72000</td>\n",
       "      <td>1.11000</td>\n",
       "    </tr>\n",
       "    <tr>\n",
       "      <th>Intersection ROWS in release count</th>\n",
       "      <td>29.00000</td>\n",
       "      <td>22.00000</td>\n",
       "      <td>0.00000</td>\n",
       "      <td>63.00000</td>\n",
       "      <td>32.00000</td>\n",
       "      <td>33.00000</td>\n",
       "    </tr>\n",
       "    <tr>\n",
       "      <th>Intersection ROWS in release perc</th>\n",
       "      <td>0.01000</td>\n",
       "      <td>0.01000</td>\n",
       "      <td>0.00000</td>\n",
       "      <td>0.03000</td>\n",
       "      <td>0.02000</td>\n",
       "      <td>0.02000</td>\n",
       "    </tr>\n",
       "  </tbody>\n",
       "</table>\n",
       "</div>"
      ],
      "text/plain": [
       "                                     s vs. pr  bu vs. pr  br vs. pr  snubu vs. pr  snrubu vs. pr  mohu vs. pr\n",
       "Unique QUASI in release count        32.00000   72.00000    0.00000     140.00000       85.00000    125.00000\n",
       "Unique QUASY in release perc          4.31000    8.50000    0.00000      17.37000       10.16000     15.41000\n",
       "Unique ROWS in release count        186.00000  266.00000    0.00000     668.00000      397.00000    669.00000\n",
       "Unique ROWS in release perc           0.09000    0.13000    0.00000       0.33000        0.20000      0.33000\n",
       "Intersection QUASI in release count   8.00000    7.00000    0.00000      12.00000        6.00000      9.00000\n",
       "Intersection QUASY in release perc    1.08000    0.83000    0.00000       1.49000        0.72000      1.11000\n",
       "Intersection ROWS in release count   29.00000   22.00000    0.00000      63.00000       32.00000     33.00000\n",
       "Intersection ROWS in release perc     0.01000    0.01000    0.00000       0.03000        0.02000      0.02000"
      ]
     },
     "metadata": {},
     "output_type": "display_data"
    },
    {
     "data": {
      "text/markdown": [
       "#### Approximate Match"
      ],
      "text/plain": [
       "<IPython.core.display.Markdown object>"
      ]
     },
     "metadata": {},
     "output_type": "display_data"
    },
    {
     "data": {
      "text/plain": [
       "{Interval(25, 26, closed='left'): 0,\n",
       " Interval(26, 29, closed='left'): 1,\n",
       " Interval(29, 32, closed='left'): 2,\n",
       " Interval(32, 34, closed='left'): 3,\n",
       " Interval(34, 37, closed='left'): 4,\n",
       " Interval(37, 42, closed='left'): 5,\n",
       " Interval(42, 43, closed='left'): 6}"
      ]
     },
     "metadata": {},
     "output_type": "display_data"
    },
    {
     "name": "stderr",
     "output_type": "stream",
     "text": [
      "/usr3/graduate/shlomi/.local/lib/python3.8/site-packages/pandas/core/frame.py:3069: SettingWithCopyWarning: \n",
      "A value is trying to be set on a copy of a slice from a DataFrame.\n",
      "Try using .loc[row_indexer,col_indexer] = value instead\n",
      "\n",
      "See the caveats in the documentation: https://pandas.pydata.org/pandas-docs/stable/user_guide/indexing.html#returning-a-view-versus-a-copy\n",
      "  self[k1] = value[k2]\n",
      "/usr3/graduate/shlomi/.local/lib/python3.8/site-packages/pandas/core/frame.py:3069: SettingWithCopyWarning: \n",
      "A value is trying to be set on a copy of a slice from a DataFrame.\n",
      "Try using .loc[row_indexer,col_indexer] = value instead\n",
      "\n",
      "See the caveats in the documentation: https://pandas.pydata.org/pandas-docs/stable/user_guide/indexing.html#returning-a-view-versus-a-copy\n",
      "  self[k1] = value[k2]\n",
      "/usr3/graduate/shlomi/.local/lib/python3.8/site-packages/pandas/core/frame.py:3069: SettingWithCopyWarning: \n",
      "A value is trying to be set on a copy of a slice from a DataFrame.\n",
      "Try using .loc[row_indexer,col_indexer] = value instead\n",
      "\n",
      "See the caveats in the documentation: https://pandas.pydata.org/pandas-docs/stable/user_guide/indexing.html#returning-a-view-versus-a-copy\n",
      "  self[k1] = value[k2]\n",
      "/usr3/graduate/shlomi/.local/lib/python3.8/site-packages/pandas/core/frame.py:3069: SettingWithCopyWarning: \n",
      "A value is trying to be set on a copy of a slice from a DataFrame.\n",
      "Try using .loc[row_indexer,col_indexer] = value instead\n",
      "\n",
      "See the caveats in the documentation: https://pandas.pydata.org/pandas-docs/stable/user_guide/indexing.html#returning-a-view-versus-a-copy\n",
      "  self[k1] = value[k2]\n",
      "/usr3/graduate/shlomi/.local/lib/python3.8/site-packages/pandas/core/frame.py:3069: SettingWithCopyWarning: \n",
      "A value is trying to be set on a copy of a slice from a DataFrame.\n",
      "Try using .loc[row_indexer,col_indexer] = value instead\n",
      "\n",
      "See the caveats in the documentation: https://pandas.pydata.org/pandas-docs/stable/user_guide/indexing.html#returning-a-view-versus-a-copy\n",
      "  self[k1] = value[k2]\n"
     ]
    },
    {
     "data": {
      "image/png": "[encoded data removed]",
      "text/plain": [
       "<Figure size 432x288 with 1 Axes>"
      ]
     },
     "metadata": {
      "needs_background": "light"
     },
     "output_type": "display_data"
    },
    {
     "data": {
      "text/markdown": [
       "### `birth_weight`"
      ],
      "text/plain": [
       "<IPython.core.display.Markdown object>"
      ]
     },
     "metadata": {},
     "output_type": "display_data"
    },
    {
     "data": {
      "text/markdown": [
       "#### Exact Match"
      ],
      "text/plain": [
       "<IPython.core.display.Markdown object>"
      ]
     },
     "metadata": {},
     "output_type": "display_data"
    },
    {
     "data": {
      "text/html": [
       "<div>\n",
       "<style scoped>\n",
       "    .dataframe tbody tr th:only-of-type {\n",
       "        vertical-align: middle;\n",
       "    }\n",
       "\n",
       "    .dataframe tbody tr th {\n",
       "        vertical-align: top;\n",
       "    }\n",
       "\n",
       "    .dataframe thead th {\n",
       "        text-align: right;\n",
       "    }\n",
       "</style>\n",
       "<table border=\"1\" class=\"dataframe\">\n",
       "  <thead>\n",
       "    <tr style=\"text-align: right;\">\n",
       "      <th></th>\n",
       "      <th>s vs. pr</th>\n",
       "      <th>bu vs. pr</th>\n",
       "      <th>br vs. pr</th>\n",
       "      <th>snubu vs. pr</th>\n",
       "      <th>snrubu vs. pr</th>\n",
       "      <th>mohu vs. pr</th>\n",
       "    </tr>\n",
       "  </thead>\n",
       "  <tbody>\n",
       "    <tr>\n",
       "      <th>Unique QUASI in release count</th>\n",
       "      <td>1.00000</td>\n",
       "      <td>29.00000</td>\n",
       "      <td>0.00000</td>\n",
       "      <td>45.00000</td>\n",
       "      <td>28.00000</td>\n",
       "      <td>33.00000</td>\n",
       "    </tr>\n",
       "    <tr>\n",
       "      <th>Unique QUASY in release perc</th>\n",
       "      <td>0.13000</td>\n",
       "      <td>3.42000</td>\n",
       "      <td>0.00000</td>\n",
       "      <td>5.58000</td>\n",
       "      <td>3.35000</td>\n",
       "      <td>4.07000</td>\n",
       "    </tr>\n",
       "    <tr>\n",
       "      <th>Unique ROWS in release count</th>\n",
       "      <td>1.00000</td>\n",
       "      <td>32.00000</td>\n",
       "      <td>0.00000</td>\n",
       "      <td>46.00000</td>\n",
       "      <td>28.00000</td>\n",
       "      <td>34.00000</td>\n",
       "    </tr>\n",
       "    <tr>\n",
       "      <th>Unique ROWS in release perc</th>\n",
       "      <td>0.00000</td>\n",
       "      <td>0.02000</td>\n",
       "      <td>0.00000</td>\n",
       "      <td>0.02000</td>\n",
       "      <td>0.01000</td>\n",
       "      <td>0.02000</td>\n",
       "    </tr>\n",
       "    <tr>\n",
       "      <th>Intersection QUASI in release count</th>\n",
       "      <td>0.00000</td>\n",
       "      <td>0.00000</td>\n",
       "      <td>0.00000</td>\n",
       "      <td>1.00000</td>\n",
       "      <td>0.00000</td>\n",
       "      <td>0.00000</td>\n",
       "    </tr>\n",
       "    <tr>\n",
       "      <th>Intersection QUASY in release perc</th>\n",
       "      <td>0.00000</td>\n",
       "      <td>0.00000</td>\n",
       "      <td>0.00000</td>\n",
       "      <td>0.12000</td>\n",
       "      <td>0.00000</td>\n",
       "      <td>0.00000</td>\n",
       "    </tr>\n",
       "    <tr>\n",
       "      <th>Intersection ROWS in release count</th>\n",
       "      <td>0.00000</td>\n",
       "      <td>0.00000</td>\n",
       "      <td>0.00000</td>\n",
       "      <td>1.00000</td>\n",
       "      <td>0.00000</td>\n",
       "      <td>0.00000</td>\n",
       "    </tr>\n",
       "    <tr>\n",
       "      <th>Intersection ROWS in release perc</th>\n",
       "      <td>0.00000</td>\n",
       "      <td>0.00000</td>\n",
       "      <td>0.00000</td>\n",
       "      <td>0.00000</td>\n",
       "      <td>0.00000</td>\n",
       "      <td>0.00000</td>\n",
       "    </tr>\n",
       "  </tbody>\n",
       "</table>\n",
       "</div>"
      ],
      "text/plain": [
       "                                     s vs. pr  bu vs. pr  br vs. pr  snubu vs. pr  snrubu vs. pr  mohu vs. pr\n",
       "Unique QUASI in release count         1.00000   29.00000    0.00000      45.00000       28.00000     33.00000\n",
       "Unique QUASY in release perc          0.13000    3.42000    0.00000       5.58000        3.35000      4.07000\n",
       "Unique ROWS in release count          1.00000   32.00000    0.00000      46.00000       28.00000     34.00000\n",
       "Unique ROWS in release perc           0.00000    0.02000    0.00000       0.02000        0.01000      0.02000\n",
       "Intersection QUASI in release count   0.00000    0.00000    0.00000       1.00000        0.00000      0.00000\n",
       "Intersection QUASY in release perc    0.00000    0.00000    0.00000       0.12000        0.00000      0.00000\n",
       "Intersection ROWS in release count    0.00000    0.00000    0.00000       1.00000        0.00000      0.00000\n",
       "Intersection ROWS in release perc     0.00000    0.00000    0.00000       0.00000        0.00000      0.00000"
      ]
     },
     "metadata": {},
     "output_type": "display_data"
    },
    {
     "data": {
      "text/markdown": [
       "#### Approximate Match"
      ],
      "text/plain": [
       "<IPython.core.display.Markdown object>"
      ]
     },
     "metadata": {},
     "output_type": "display_data"
    },
    {
     "data": {
      "text/plain": [
       "{Interval(500, 600, closed='left'): 0,\n",
       " Interval(600, 700, closed='left'): 1,\n",
       " Interval(700, 800, closed='left'): 2,\n",
       " Interval(800, 900, closed='left'): 3,\n",
       " Interval(900, 1000, closed='left'): 4,\n",
       " Interval(1000, 1100, closed='left'): 5,\n",
       " Interval(1100, 1200, closed='left'): 6,\n",
       " Interval(1200, 1300, closed='left'): 7,\n",
       " Interval(1300, 1400, closed='left'): 8,\n",
       " Interval(1400, 1500, closed='left'): 9,\n",
       " Interval(1500, 1600, closed='left'): 10,\n",
       " Interval(1600, 1700, closed='left'): 11,\n",
       " Interval(1700, 1800, closed='left'): 12,\n",
       " Interval(1800, 1900, closed='left'): 13,\n",
       " Interval(1900, 2000, closed='left'): 14,\n",
       " Interval(2000, 2100, closed='left'): 15,\n",
       " Interval(2100, 2200, closed='left'): 16,\n",
       " Interval(2200, 2300, closed='left'): 17,\n",
       " Interval(2300, 2400, closed='left'): 18,\n",
       " Interval(2400, 2500, closed='left'): 19,\n",
       " Interval(2500, 2600, closed='left'): 20,\n",
       " Interval(2600, 2700, closed='left'): 21,\n",
       " Interval(2700, 2800, closed='left'): 22,\n",
       " Interval(2800, 2900, closed='left'): 23,\n",
       " Interval(2900, 3000, closed='left'): 24,\n",
       " Interval(3000, 3100, closed='left'): 25,\n",
       " Interval(3100, 3200, closed='left'): 26,\n",
       " Interval(3200, 3300, closed='left'): 27,\n",
       " Interval(3300, 3400, closed='left'): 28,\n",
       " Interval(3400, 3500, closed='left'): 29,\n",
       " Interval(3500, 3600, closed='left'): 30,\n",
       " Interval(3600, 3700, closed='left'): 31,\n",
       " Interval(3700, 3800, closed='left'): 32,\n",
       " Interval(3800, 3900, closed='left'): 33,\n",
       " Interval(3900, 4000, closed='left'): 34,\n",
       " Interval(4000, 4100, closed='left'): 35,\n",
       " Interval(4100, 4200, closed='left'): 36,\n",
       " Interval(4200, 4300, closed='left'): 37,\n",
       " Interval(4300, 4400, closed='left'): 38,\n",
       " Interval(4400, 4500, closed='left'): 39,\n",
       " Interval(4500, 4600, closed='left'): 40,\n",
       " Interval(4600, 4700, closed='left'): 41,\n",
       " Interval(4700, 4800, closed='left'): 42,\n",
       " Interval(4800, 4900, closed='left'): 43,\n",
       " Interval(4900, 5001, closed='left'): 44}"
      ]
     },
     "metadata": {},
     "output_type": "display_data"
    },
    {
     "name": "stderr",
     "output_type": "stream",
     "text": [
      "/usr3/graduate/shlomi/.local/lib/python3.8/site-packages/pandas/core/frame.py:3069: SettingWithCopyWarning: \n",
      "A value is trying to be set on a copy of a slice from a DataFrame.\n",
      "Try using .loc[row_indexer,col_indexer] = value instead\n",
      "\n",
      "See the caveats in the documentation: https://pandas.pydata.org/pandas-docs/stable/user_guide/indexing.html#returning-a-view-versus-a-copy\n",
      "  self[k1] = value[k2]\n",
      "/usr3/graduate/shlomi/.local/lib/python3.8/site-packages/seaborn/distributions.py:316: UserWarning: Dataset has 0 variance; skipping density estimate. Pass `warn_singular=False` to disable this warning.\n",
      "  warnings.warn(msg, UserWarning)\n",
      "/usr3/graduate/shlomi/.local/lib/python3.8/site-packages/pandas/core/frame.py:3069: SettingWithCopyWarning: \n",
      "A value is trying to be set on a copy of a slice from a DataFrame.\n",
      "Try using .loc[row_indexer,col_indexer] = value instead\n",
      "\n",
      "See the caveats in the documentation: https://pandas.pydata.org/pandas-docs/stable/user_guide/indexing.html#returning-a-view-versus-a-copy\n",
      "  self[k1] = value[k2]\n",
      "/usr3/graduate/shlomi/.local/lib/python3.8/site-packages/pandas/core/frame.py:3069: SettingWithCopyWarning: \n",
      "A value is trying to be set on a copy of a slice from a DataFrame.\n",
      "Try using .loc[row_indexer,col_indexer] = value instead\n",
      "\n",
      "See the caveats in the documentation: https://pandas.pydata.org/pandas-docs/stable/user_guide/indexing.html#returning-a-view-versus-a-copy\n",
      "  self[k1] = value[k2]\n",
      "/usr3/graduate/shlomi/.local/lib/python3.8/site-packages/pandas/core/frame.py:3069: SettingWithCopyWarning: \n",
      "A value is trying to be set on a copy of a slice from a DataFrame.\n",
      "Try using .loc[row_indexer,col_indexer] = value instead\n",
      "\n",
      "See the caveats in the documentation: https://pandas.pydata.org/pandas-docs/stable/user_guide/indexing.html#returning-a-view-versus-a-copy\n",
      "  self[k1] = value[k2]\n",
      "/usr3/graduate/shlomi/.local/lib/python3.8/site-packages/pandas/core/frame.py:3069: SettingWithCopyWarning: \n",
      "A value is trying to be set on a copy of a slice from a DataFrame.\n",
      "Try using .loc[row_indexer,col_indexer] = value instead\n",
      "\n",
      "See the caveats in the documentation: https://pandas.pydata.org/pandas-docs/stable/user_guide/indexing.html#returning-a-view-versus-a-copy\n",
      "  self[k1] = value[k2]\n"
     ]
    },
    {
     "data": {
      "image/png": "[encoded data removed]",
      "text/plain": [
       "<Figure size 432x288 with 1 Axes>"
      ]
     },
     "metadata": {
      "needs_background": "light"
     },
     "output_type": "display_data"
    }
   ],
   "source": [
    "for sensitive_column in SENSITIVE_COLUMNS:\n",
    "    display(Markdown(f\"### `{sensitive_column}`\"))\n",
    "\n",
    "    display(Markdown(\"#### Exact Match\"))\n",
    "    nun_df = nun_dfs[sensitive_column]\n",
    "    display(\n",
    "        pd.DataFrame(\n",
    "            {\n",
    "                f\"{name} vs. {count_df.columns[0]}\": attack_exact_apperent_match(\n",
    "                    name, count_df.columns[0], nun_dfs[sensitive_column]\n",
    "                )\n",
    "                for name in count_df.columns[1:]\n",
    "            }\n",
    "        ).round(2)\n",
    "    )\n",
    "\n",
    "    display(Markdown(\"#### Approximate Match\"))\n",
    "\n",
    "    cat2code = {\n",
    "        y: x for x, y in enumerate(processed_real_df[sensitive_column].cat.categories)\n",
    "    }\n",
    "    display(cat2code)\n",
    "\n",
    "    plt.figure()\n",
    "    for name in count_df.columns[1:]:\n",
    "        uniques_quasi = nun_dfs[sensitive_column].query(f\"nunique_{name} == 1\")\n",
    "        uniques_quasi[values_columns] = uniques_quasi[values_columns].applymap(\n",
    "            lambda x: np.mean([cat2code[y] for y in x])\n",
    "            if isinstance(x, list)\n",
    "            else np.nan\n",
    "        )\n",
    "\n",
    "        diffs = []\n",
    "        for _, r in uniques_quasi.iterrows():\n",
    "            size = r[f\"size_{name}\"]\n",
    "            if not np.isnan(size):\n",
    "                diffs += [\n",
    "                    r[f\"values_{name}\"] - r[f\"values_{count_df.columns[0]}\"]\n",
    "                    for _ in range(int(size))\n",
    "                ]\n",
    "        sns.kdeplot(diffs, label=name)\n",
    "    plt.legend()\n",
    "    plt.show()"
   ]
  },
  {
   "cell_type": "markdown",
   "metadata": {},
   "source": [
    "## Mitigation\n",
    "\n",
    "We have 3 strategies:\n",
    "1. `resample_non_unique`: Remove unique rows and resample non-unique rows to reach back to N\n",
    "2. `doubled_unique_without_replacement`: Remove unique rows and resample unique row double without replacement to reach back to N\n",
    "3. `doubled_unique_with_replacement`: Remove unique rows and resample unique row double with replacement to reach back to N\n",
    "\n",
    "\n",
    "Let $q = \\frac{1}{N} \\sum_{i=1}^{N} f(x_i)$ be a linear query on the data.\n",
    "\n",
    "Applying $q$ on data genereted using strategy (1) is a *biased* estimator . The bias depands on how the unique rows are different then the rest of the data.\n",
    "Strategy (2) and (3) gives us *unbiased* estimator, but the standard error of (2) is slightly better than (3) [ref](https://web.ma.utexas.edu/users/parker/sampling/woreplshort.htm)."
   ]
  },
  {
   "cell_type": "code",
   "execution_count": 22,
   "metadata": {},
   "outputs": [],
   "source": [
    "def evaluate_acceptance(synth_df):\n",
    "    *_, acceptance_df, _, _ = _run_evaluation(\n",
    "        real_df,\n",
    "        synth_df,\n",
    "        0.4,\n",
    "        42,\n",
    "        processed_real_df,\n",
    "        False,\n",
    "        False,\n",
    "    )\n",
    "\n",
    "    return acceptance_df"
   ]
  },
  {
   "cell_type": "code",
   "execution_count": 23,
   "metadata": {},
   "outputs": [],
   "source": [
    "unique_mask = ~synth_df.duplicated(keep=False)\n",
    "num_uniques = unique_mask.sum()"
   ]
  },
  {
   "cell_type": "code",
   "execution_count": 24,
   "metadata": {},
   "outputs": [],
   "source": [
    "non_unique_ids = np.nonzero(~unique_mask.values)[0]\n",
    "new_non_unique_ids = rng.choice(non_unique_ids, num_uniques)\n",
    "\n",
    "\n",
    "resample_non_unique_synth_df = pd.concat(\n",
    "    [synth_df.iloc[non_unique_ids], synth_df.iloc[new_non_unique_ids]]\n",
    ").reset_index(drop=True)\n",
    "\n",
    "assert len(resample_non_unique_synth_df) == len(synth_df)"
   ]
  },
  {
   "cell_type": "code",
   "execution_count": 25,
   "metadata": {},
   "outputs": [],
   "source": [
    "unique_ids = np.nonzero(unique_mask.values)[0]\n",
    "\n",
    "num_unique_to_double, add_a_third = num_uniques // 2, num_uniques % 2\n",
    "\n",
    "dobuled_uniqe_without_replacement_ids = rng.choice(\n",
    "    unique_ids, size=num_unique_to_double, replace=False\n",
    ")\n",
    "dobuled_uniqe_with_replacement_ids = rng.choice(\n",
    "    unique_ids, size=num_unique_to_double, replace=True\n",
    ")\n",
    "\n",
    "the_third_without_replacement = (\n",
    "    rng.choice(dobuled_uniqe_without_replacement_ids) if add_a_third else []\n",
    ")\n",
    "the_third_with_replacement = (\n",
    "    rng.choice(dobuled_uniqe_with_replacement_ids) if add_a_third else []\n",
    ")\n",
    "\n",
    "doubled_unique_without_replacement_synth_df = pd.concat(\n",
    "    [\n",
    "        synth_df[~unique_mask],\n",
    "        synth_df.iloc[dobuled_uniqe_without_replacement_ids],\n",
    "        synth_df.iloc[dobuled_uniqe_without_replacement_ids],\n",
    "        synth_df.iloc[[the_third_without_replacement]],\n",
    "    ]\n",
    ").reset_index(drop=True)\n",
    "\n",
    "doubled_unique_with_replacement_synth_df = pd.concat(\n",
    "    [\n",
    "        synth_df[~unique_mask],\n",
    "        synth_df.iloc[dobuled_uniqe_with_replacement_ids],\n",
    "        synth_df.iloc[dobuled_uniqe_with_replacement_ids],\n",
    "        synth_df.iloc[[the_third_with_replacement]],\n",
    "    ]\n",
    ").reset_index(drop=True)\n",
    "\n",
    "assert len(doubled_unique_without_replacement_synth_df) == len(synth_df)\n",
    "assert len(doubled_unique_with_replacement_synth_df) == len(synth_df)"
   ]
  },
  {
   "cell_type": "code",
   "execution_count": 26,
   "metadata": {},
   "outputs": [
    {
     "data": {
      "text/plain": [
       "1    13693\n",
       "2     4624\n",
       "3     2368\n",
       "4     1572\n",
       "5     1116\n",
       "dtype: int64"
      ]
     },
     "execution_count": 26,
     "metadata": {},
     "output_type": "execute_result"
    }
   ],
   "source": [
    "synth_df.value_counts().value_counts().sort_index().head()"
   ]
  },
  {
   "cell_type": "code",
   "execution_count": 27,
   "metadata": {},
   "outputs": [
    {
     "data": {
      "text/plain": [
       "2    3982\n",
       "3    2494\n",
       "4    1629\n",
       "5    1149\n",
       "6     920\n",
       "dtype: int64"
      ]
     },
     "execution_count": 27,
     "metadata": {},
     "output_type": "execute_result"
    }
   ],
   "source": [
    "resample_non_unique_synth_df.value_counts().value_counts().sort_index().head()"
   ]
  },
  {
   "cell_type": "code",
   "execution_count": 28,
   "metadata": {},
   "outputs": [
    {
     "data": {
      "text/plain": [
       "2    11469\n",
       "3     2369\n",
       "4     1572\n",
       "5     1116\n",
       "6      830\n",
       "dtype: int64"
      ]
     },
     "execution_count": 28,
     "metadata": {},
     "output_type": "execute_result"
    }
   ],
   "source": [
    "doubled_unique_without_replacement_synth_df.value_counts().value_counts().sort_index().head()"
   ]
  },
  {
   "cell_type": "code",
   "execution_count": 29,
   "metadata": {},
   "outputs": [
    {
     "data": {
      "text/plain": [
       "2    8806\n",
       "3    2369\n",
       "4    2601\n",
       "5    1116\n",
       "6    1010\n",
       "dtype: int64"
      ]
     },
     "execution_count": 29,
     "metadata": {},
     "output_type": "execute_result"
    }
   ],
   "source": [
    "doubled_unique_with_replacement_synth_df.value_counts().value_counts().sort_index().head()"
   ]
  },
  {
   "cell_type": "code",
   "execution_count": 30,
   "metadata": {},
   "outputs": [
    {
     "name": "stderr",
     "output_type": "stream",
     "text": [
      "100%|██████████| 167/167 [00:38<00:00,  4.37it/s]\n",
      "100%|██████████| 167/167 [00:31<00:00,  5.26it/s]\n",
      "100%|██████████| 167/167 [00:37<00:00,  4.48it/s]\n",
      "100%|██████████| 167/167 [00:24<00:00,  6.73it/s]\n",
      "100%|██████████| 167/167 [00:32<00:00,  5.20it/s]\n",
      "100%|██████████| 1/1 [01:40<00:00, 100.94s/it]\n"
     ]
    },
    {
     "data": {
      "text/html": [
       "<pre style=\"white-space:pre;overflow-x:auto;line-height:normal;font-family:Menlo,'DejaVu Sans Mono',consolas,'Courier New',monospace\"><span style=\"color: #000080; text-decoration-color: #000080\">DP Acceptance</span>\n",
       "</pre>\n"
      ],
      "text/plain": [
       "\u001b[34mDP Acceptance\u001b[0m\n"
      ]
     },
     "metadata": {},
     "output_type": "display_data"
    },
    {
     "data": {
      "text/html": [
       "<pre style=\"white-space:pre;overflow-x:auto;line-height:normal;font-family:Menlo,'DejaVu Sans Mono',consolas,'Courier New',monospace\"><span style=\"color: #808000; text-decoration-color: #808000\">HIGH_SENSITIVITY_EPSILON</span>=<span style=\"color: #008080; text-decoration-color: #008080; font-weight: bold\">0.3</span>\n",
       "</pre>\n"
      ],
      "text/plain": [
       "\u001b[33mHIGH_SENSITIVITY_EPSILON\u001b[0m=\u001b[1;36m0\u001b[0m\u001b[1;36m.3\u001b[0m\n"
      ]
     },
     "metadata": {},
     "output_type": "display_data"
    },
    {
     "data": {
      "text/html": [
       "<pre style=\"white-space:pre;overflow-x:auto;line-height:normal;font-family:Menlo,'DejaVu Sans Mono',consolas,'Courier New',monospace\"><span style=\"color: #808000; text-decoration-color: #808000\">LOW_SENSITIVITY_EPSILON</span>=<span style=\"color: #008080; text-decoration-color: #008080; font-weight: bold\">0.05</span>\n",
       "</pre>\n"
      ],
      "text/plain": [
       "\u001b[33mLOW_SENSITIVITY_EPSILON\u001b[0m=\u001b[1;36m0\u001b[0m\u001b[1;36m.05\u001b[0m\n"
      ]
     },
     "metadata": {},
     "output_type": "display_data"
    },
    {
     "data": {
      "text/html": [
       "<pre style=\"white-space:pre;overflow-x:auto;line-height:normal;font-family:Menlo,'DejaVu Sans Mono',consolas,'Courier New',monospace\"><span style=\"color: #808000; text-decoration-color: #808000\">RATIO_MAX_CLIPPING_FACTOR</span>=<span style=\"color: #008080; text-decoration-color: #008080; font-weight: bold\">2</span>\n",
       "</pre>\n"
      ],
      "text/plain": [
       "\u001b[33mRATIO_MAX_CLIPPING_FACTOR\u001b[0m=\u001b[1;36m2\u001b[0m\n"
      ]
     },
     "metadata": {},
     "output_type": "display_data"
    },
    {
     "name": "stdout",
     "output_type": "stream",
     "text": [
      "                                               name  expected   actual lower upper epsilon      var  sensitivity     mech check\n",
      "0   utility/1way/max/frequencies/ratio/raw/val_pr_s   1.40000  1.14258     1     2 0.30000  0.01922      0.02941  laplace  True\n",
      "1  utility/123way/max/frequencies/diff/raw/val_pr_s   0.01000  0.00445     0     1 0.01000  0.00000      0.00001  laplace  True\n",
      "2           utility/mean/parity/mother_age/val_pr_s   0.30000  0.11300     1    15 0.01000  0.00010      0.00007  laplace  True\n",
      "3          utility/mean/birth_weight/l_inf/val_pr_s 100.00000 96.63278   500  5000 0.01000 10.12500      0.02250  laplace  True\n",
      "4        utility/mean/gestation_week/l_inf/val_pr_s   1.00000  0.43532    25    42 0.01000  0.00014      0.00009  laplace  True\n",
      "5                       faithfulness/β/ɑ=1/val_pr_s   0.05000  0.03046     0     1 0.01000  0.00000      0.00001  laplace  True\n",
      "6                                               all   1.00000  1.00000  None  None 0.35000     None          nan     None  True\n"
     ]
    },
    {
     "data": {
      "text/html": [
       "<pre style=\"white-space:pre;overflow-x:auto;line-height:normal;font-family:Menlo,'DejaVu Sans Mono',consolas,'Courier New',monospace\">\n",
       "</pre>\n"
      ],
      "text/plain": [
       "\n"
      ]
     },
     "metadata": {},
     "output_type": "display_data"
    },
    {
     "data": {
      "text/html": [
       "<pre style=\"white-space:pre;overflow-x:auto;line-height:normal;font-family:Menlo,'DejaVu Sans Mono',consolas,'Courier New',monospace\">\n",
       "</pre>\n"
      ],
      "text/plain": [
       "\n"
      ]
     },
     "metadata": {},
     "output_type": "display_data"
    },
    {
     "name": "stderr",
     "output_type": "stream",
     "text": [
      "100%|██████████| 167/167 [00:38<00:00,  4.38it/s]\n",
      "100%|██████████| 167/167 [00:31<00:00,  5.26it/s]\n",
      "100%|██████████| 167/167 [00:37<00:00,  4.50it/s]\n",
      "100%|██████████| 167/167 [00:25<00:00,  6.66it/s]\n",
      "100%|██████████| 167/167 [00:31<00:00,  5.28it/s]\n",
      "100%|██████████| 1/1 [01:43<00:00, 103.95s/it]\n"
     ]
    },
    {
     "data": {
      "text/html": [
       "<pre style=\"white-space:pre;overflow-x:auto;line-height:normal;font-family:Menlo,'DejaVu Sans Mono',consolas,'Courier New',monospace\"><span style=\"color: #000080; text-decoration-color: #000080\">DP Acceptance</span>\n",
       "</pre>\n"
      ],
      "text/plain": [
       "\u001b[34mDP Acceptance\u001b[0m\n"
      ]
     },
     "metadata": {},
     "output_type": "display_data"
    },
    {
     "data": {
      "text/html": [
       "<pre style=\"white-space:pre;overflow-x:auto;line-height:normal;font-family:Menlo,'DejaVu Sans Mono',consolas,'Courier New',monospace\"><span style=\"color: #808000; text-decoration-color: #808000\">HIGH_SENSITIVITY_EPSILON</span>=<span style=\"color: #008080; text-decoration-color: #008080; font-weight: bold\">0.3</span>\n",
       "</pre>\n"
      ],
      "text/plain": [
       "\u001b[33mHIGH_SENSITIVITY_EPSILON\u001b[0m=\u001b[1;36m0\u001b[0m\u001b[1;36m.3\u001b[0m\n"
      ]
     },
     "metadata": {},
     "output_type": "display_data"
    },
    {
     "data": {
      "text/html": [
       "<pre style=\"white-space:pre;overflow-x:auto;line-height:normal;font-family:Menlo,'DejaVu Sans Mono',consolas,'Courier New',monospace\"><span style=\"color: #808000; text-decoration-color: #808000\">LOW_SENSITIVITY_EPSILON</span>=<span style=\"color: #008080; text-decoration-color: #008080; font-weight: bold\">0.05</span>\n",
       "</pre>\n"
      ],
      "text/plain": [
       "\u001b[33mLOW_SENSITIVITY_EPSILON\u001b[0m=\u001b[1;36m0\u001b[0m\u001b[1;36m.05\u001b[0m\n"
      ]
     },
     "metadata": {},
     "output_type": "display_data"
    },
    {
     "data": {
      "text/html": [
       "<pre style=\"white-space:pre;overflow-x:auto;line-height:normal;font-family:Menlo,'DejaVu Sans Mono',consolas,'Courier New',monospace\"><span style=\"color: #808000; text-decoration-color: #808000\">RATIO_MAX_CLIPPING_FACTOR</span>=<span style=\"color: #008080; text-decoration-color: #008080; font-weight: bold\">2</span>\n",
       "</pre>\n"
      ],
      "text/plain": [
       "\u001b[33mRATIO_MAX_CLIPPING_FACTOR\u001b[0m=\u001b[1;36m2\u001b[0m\n"
      ]
     },
     "metadata": {},
     "output_type": "display_data"
    },
    {
     "name": "stdout",
     "output_type": "stream",
     "text": [
      "                                               name  expected    actual lower upper epsilon      var  sensitivity     mech  check\n",
      "0   utility/1way/max/frequencies/ratio/raw/val_pr_s   1.40000   1.11911     1     2 0.30000  0.29025      0.11429  laplace   True\n",
      "1  utility/123way/max/frequencies/diff/raw/val_pr_s   0.01000   0.04605     0     1 0.01000  0.00000      0.00001  laplace  False\n",
      "2           utility/mean/parity/mother_age/val_pr_s   0.30000   0.69180     1    15 0.01000  0.00010      0.00007  laplace  False\n",
      "3          utility/mean/birth_weight/l_inf/val_pr_s 100.00000 275.83668   500  5000 0.01000 10.12500      0.02250  laplace  False\n",
      "4        utility/mean/gestation_week/l_inf/val_pr_s   1.00000   0.82782    25    42 0.01000  0.00014      0.00009  laplace   True\n",
      "5                       faithfulness/β/ɑ=1/val_pr_s   0.05000   0.04593     0     1 0.01000  0.00000      0.00001  laplace   True\n",
      "6                                               all   1.00000   0.00000  None  None 0.35000     None          nan     None  False\n"
     ]
    },
    {
     "data": {
      "text/html": [
       "<pre style=\"white-space:pre;overflow-x:auto;line-height:normal;font-family:Menlo,'DejaVu Sans Mono',consolas,'Courier New',monospace\">\n",
       "</pre>\n"
      ],
      "text/plain": [
       "\n"
      ]
     },
     "metadata": {},
     "output_type": "display_data"
    },
    {
     "data": {
      "text/html": [
       "<pre style=\"white-space:pre;overflow-x:auto;line-height:normal;font-family:Menlo,'DejaVu Sans Mono',consolas,'Courier New',monospace\">\n",
       "</pre>\n"
      ],
      "text/plain": [
       "\n"
      ]
     },
     "metadata": {},
     "output_type": "display_data"
    },
    {
     "name": "stderr",
     "output_type": "stream",
     "text": [
      "100%|██████████| 167/167 [00:38<00:00,  4.33it/s]\n",
      "100%|██████████| 167/167 [00:32<00:00,  5.17it/s]\n",
      "100%|██████████| 167/167 [00:36<00:00,  4.52it/s]\n",
      "100%|██████████| 167/167 [00:24<00:00,  6.68it/s]\n",
      "100%|██████████| 167/167 [00:31<00:00,  5.28it/s]\n",
      "100%|██████████| 1/1 [01:39<00:00, 99.80s/it]\n"
     ]
    },
    {
     "data": {
      "text/html": [
       "<pre style=\"white-space:pre;overflow-x:auto;line-height:normal;font-family:Menlo,'DejaVu Sans Mono',consolas,'Courier New',monospace\"><span style=\"color: #000080; text-decoration-color: #000080\">DP Acceptance</span>\n",
       "</pre>\n"
      ],
      "text/plain": [
       "\u001b[34mDP Acceptance\u001b[0m\n"
      ]
     },
     "metadata": {},
     "output_type": "display_data"
    },
    {
     "data": {
      "text/html": [
       "<pre style=\"white-space:pre;overflow-x:auto;line-height:normal;font-family:Menlo,'DejaVu Sans Mono',consolas,'Courier New',monospace\"><span style=\"color: #808000; text-decoration-color: #808000\">HIGH_SENSITIVITY_EPSILON</span>=<span style=\"color: #008080; text-decoration-color: #008080; font-weight: bold\">0.3</span>\n",
       "</pre>\n"
      ],
      "text/plain": [
       "\u001b[33mHIGH_SENSITIVITY_EPSILON\u001b[0m=\u001b[1;36m0\u001b[0m\u001b[1;36m.3\u001b[0m\n"
      ]
     },
     "metadata": {},
     "output_type": "display_data"
    },
    {
     "data": {
      "text/html": [
       "<pre style=\"white-space:pre;overflow-x:auto;line-height:normal;font-family:Menlo,'DejaVu Sans Mono',consolas,'Courier New',monospace\"><span style=\"color: #808000; text-decoration-color: #808000\">LOW_SENSITIVITY_EPSILON</span>=<span style=\"color: #008080; text-decoration-color: #008080; font-weight: bold\">0.05</span>\n",
       "</pre>\n"
      ],
      "text/plain": [
       "\u001b[33mLOW_SENSITIVITY_EPSILON\u001b[0m=\u001b[1;36m0\u001b[0m\u001b[1;36m.05\u001b[0m\n"
      ]
     },
     "metadata": {},
     "output_type": "display_data"
    },
    {
     "data": {
      "text/html": [
       "<pre style=\"white-space:pre;overflow-x:auto;line-height:normal;font-family:Menlo,'DejaVu Sans Mono',consolas,'Courier New',monospace\"><span style=\"color: #808000; text-decoration-color: #808000\">RATIO_MAX_CLIPPING_FACTOR</span>=<span style=\"color: #008080; text-decoration-color: #008080; font-weight: bold\">2</span>\n",
       "</pre>\n"
      ],
      "text/plain": [
       "\u001b[33mRATIO_MAX_CLIPPING_FACTOR\u001b[0m=\u001b[1;36m2\u001b[0m\n"
      ]
     },
     "metadata": {},
     "output_type": "display_data"
    },
    {
     "name": "stdout",
     "output_type": "stream",
     "text": [
      "                                               name  expected   actual lower upper epsilon      var  sensitivity     mech  check\n",
      "0   utility/1way/max/frequencies/ratio/raw/val_pr_s   1.40000  1.48917     1     2 0.30000  0.02137      0.03101  laplace  False\n",
      "1  utility/123way/max/frequencies/diff/raw/val_pr_s   0.01000  0.00275     0     1 0.01000  0.00000      0.00001  laplace   True\n",
      "2           utility/mean/parity/mother_age/val_pr_s   0.30000  0.11940     1    15 0.01000  0.00010      0.00007  laplace   True\n",
      "3          utility/mean/birth_weight/l_inf/val_pr_s 100.00000 84.77819   500  5000 0.01000 10.12500      0.02250  laplace   True\n",
      "4        utility/mean/gestation_week/l_inf/val_pr_s   1.00000  0.48671    25    42 0.01000  0.00014      0.00009  laplace   True\n",
      "5                       faithfulness/β/ɑ=1/val_pr_s   0.05000  0.03630     0     1 0.01000  0.00000      0.00001  laplace   True\n",
      "6                                               all   1.00000  0.00000  None  None 0.35000     None          nan     None  False\n"
     ]
    },
    {
     "data": {
      "text/html": [
       "<pre style=\"white-space:pre;overflow-x:auto;line-height:normal;font-family:Menlo,'DejaVu Sans Mono',consolas,'Courier New',monospace\">\n",
       "</pre>\n"
      ],
      "text/plain": [
       "\n"
      ]
     },
     "metadata": {},
     "output_type": "display_data"
    },
    {
     "data": {
      "text/html": [
       "<pre style=\"white-space:pre;overflow-x:auto;line-height:normal;font-family:Menlo,'DejaVu Sans Mono',consolas,'Courier New',monospace\">\n",
       "</pre>\n"
      ],
      "text/plain": [
       "\n"
      ]
     },
     "metadata": {},
     "output_type": "display_data"
    },
    {
     "name": "stderr",
     "output_type": "stream",
     "text": [
      "100%|██████████| 167/167 [00:38<00:00,  4.33it/s]\n",
      "100%|██████████| 167/167 [00:31<00:00,  5.26it/s]\n",
      "100%|██████████| 167/167 [00:37<00:00,  4.46it/s]\n",
      "100%|██████████| 167/167 [00:24<00:00,  6.68it/s]\n",
      "100%|██████████| 167/167 [00:31<00:00,  5.29it/s]\n",
      "100%|██████████| 1/1 [01:39<00:00, 99.22s/it]\n"
     ]
    },
    {
     "data": {
      "text/html": [
       "<pre style=\"white-space:pre;overflow-x:auto;line-height:normal;font-family:Menlo,'DejaVu Sans Mono',consolas,'Courier New',monospace\"><span style=\"color: #000080; text-decoration-color: #000080\">DP Acceptance</span>\n",
       "</pre>\n"
      ],
      "text/plain": [
       "\u001b[34mDP Acceptance\u001b[0m\n"
      ]
     },
     "metadata": {},
     "output_type": "display_data"
    },
    {
     "data": {
      "text/html": [
       "<pre style=\"white-space:pre;overflow-x:auto;line-height:normal;font-family:Menlo,'DejaVu Sans Mono',consolas,'Courier New',monospace\"><span style=\"color: #808000; text-decoration-color: #808000\">HIGH_SENSITIVITY_EPSILON</span>=<span style=\"color: #008080; text-decoration-color: #008080; font-weight: bold\">0.3</span>\n",
       "</pre>\n"
      ],
      "text/plain": [
       "\u001b[33mHIGH_SENSITIVITY_EPSILON\u001b[0m=\u001b[1;36m0\u001b[0m\u001b[1;36m.3\u001b[0m\n"
      ]
     },
     "metadata": {},
     "output_type": "display_data"
    },
    {
     "data": {
      "text/html": [
       "<pre style=\"white-space:pre;overflow-x:auto;line-height:normal;font-family:Menlo,'DejaVu Sans Mono',consolas,'Courier New',monospace\"><span style=\"color: #808000; text-decoration-color: #808000\">LOW_SENSITIVITY_EPSILON</span>=<span style=\"color: #008080; text-decoration-color: #008080; font-weight: bold\">0.05</span>\n",
       "</pre>\n"
      ],
      "text/plain": [
       "\u001b[33mLOW_SENSITIVITY_EPSILON\u001b[0m=\u001b[1;36m0\u001b[0m\u001b[1;36m.05\u001b[0m\n"
      ]
     },
     "metadata": {},
     "output_type": "display_data"
    },
    {
     "data": {
      "text/html": [
       "<pre style=\"white-space:pre;overflow-x:auto;line-height:normal;font-family:Menlo,'DejaVu Sans Mono',consolas,'Courier New',monospace\"><span style=\"color: #808000; text-decoration-color: #808000\">RATIO_MAX_CLIPPING_FACTOR</span>=<span style=\"color: #008080; text-decoration-color: #008080; font-weight: bold\">2</span>\n",
       "</pre>\n"
      ],
      "text/plain": [
       "\u001b[33mRATIO_MAX_CLIPPING_FACTOR\u001b[0m=\u001b[1;36m2\u001b[0m\n"
      ]
     },
     "metadata": {},
     "output_type": "display_data"
    },
    {
     "name": "stdout",
     "output_type": "stream",
     "text": [
      "                                               name  expected   actual lower upper epsilon      var  sensitivity     mech check\n",
      "0   utility/1way/max/frequencies/ratio/raw/val_pr_s   1.40000  1.17907     1     2 0.30000  0.01894      0.02920  laplace  True\n",
      "1  utility/123way/max/frequencies/diff/raw/val_pr_s   0.01000  0.00463     0     1 0.01000  0.00000      0.00001  laplace  True\n",
      "2           utility/mean/parity/mother_age/val_pr_s   0.30000  0.03123     1    15 0.01000  0.00010      0.00007  laplace  True\n",
      "3          utility/mean/birth_weight/l_inf/val_pr_s 100.00000 97.80660   500  5000 0.01000 10.12500      0.02250  laplace  True\n",
      "4        utility/mean/gestation_week/l_inf/val_pr_s   1.00000  0.53376    25    42 0.01000  0.00014      0.00009  laplace  True\n",
      "5                       faithfulness/β/ɑ=1/val_pr_s   0.05000  0.04058     0     1 0.01000  0.00000      0.00001  laplace  True\n",
      "6                                               all   1.00000  1.00000  None  None 0.35000     None          nan     None  True\n"
     ]
    },
    {
     "data": {
      "text/html": [
       "<pre style=\"white-space:pre;overflow-x:auto;line-height:normal;font-family:Menlo,'DejaVu Sans Mono',consolas,'Courier New',monospace\">\n",
       "</pre>\n"
      ],
      "text/plain": [
       "\n"
      ]
     },
     "metadata": {},
     "output_type": "display_data"
    },
    {
     "data": {
      "text/html": [
       "<pre style=\"white-space:pre;overflow-x:auto;line-height:normal;font-family:Menlo,'DejaVu Sans Mono',consolas,'Courier New',monospace\">\n",
       "</pre>\n"
      ],
      "text/plain": [
       "\n"
      ]
     },
     "metadata": {},
     "output_type": "display_data"
    }
   ],
   "source": [
    "synth_acceptance_df = evaluate_acceptance(synth_df)\n",
    "\n",
    "resample_non_unique_synth_acceptance_df = evaluate_acceptance(\n",
    "    resample_non_unique_synth_df\n",
    ")\n",
    "\n",
    "doubled_unique_without_replacement_synth_acceptance_df = evaluate_acceptance(\n",
    "    doubled_unique_without_replacement_synth_df\n",
    ")\n",
    "\n",
    "doubled_unique_with_replacement_synth_acceptance_df = evaluate_acceptance(\n",
    "    doubled_unique_with_replacement_synth_df\n",
    ")"
   ]
  },
  {
   "cell_type": "code",
   "execution_count": 31,
   "metadata": {},
   "outputs": [
    {
     "data": {
      "text/html": [
       "<div>\n",
       "<style scoped>\n",
       "    .dataframe tbody tr th:only-of-type {\n",
       "        vertical-align: middle;\n",
       "    }\n",
       "\n",
       "    .dataframe tbody tr th {\n",
       "        vertical-align: top;\n",
       "    }\n",
       "\n",
       "    .dataframe thead th {\n",
       "        text-align: right;\n",
       "    }\n",
       "</style>\n",
       "<table border=\"1\" class=\"dataframe\">\n",
       "  <thead>\n",
       "    <tr style=\"text-align: right;\">\n",
       "      <th></th>\n",
       "      <th></th>\n",
       "      <th>name</th>\n",
       "      <th>expected</th>\n",
       "      <th>actual</th>\n",
       "      <th>lower</th>\n",
       "      <th>upper</th>\n",
       "      <th>epsilon</th>\n",
       "      <th>var</th>\n",
       "      <th>sensitivity</th>\n",
       "      <th>mech</th>\n",
       "      <th>check</th>\n",
       "    </tr>\n",
       "  </thead>\n",
       "  <tbody>\n",
       "    <tr>\n",
       "      <th rowspan=\"4\" valign=\"top\">0</th>\n",
       "      <th>doubled_unique_with_replacement</th>\n",
       "      <td>utility/1way/max/frequencies/ratio/raw/val_pr_s</td>\n",
       "      <td>1.40000</td>\n",
       "      <td>1.17907</td>\n",
       "      <td>1</td>\n",
       "      <td>2</td>\n",
       "      <td>0.30000</td>\n",
       "      <td>0.01894</td>\n",
       "      <td>0.02920</td>\n",
       "      <td>laplace</td>\n",
       "      <td>True</td>\n",
       "    </tr>\n",
       "    <tr>\n",
       "      <th>doubled_unique_without_replacement</th>\n",
       "      <td>utility/1way/max/frequencies/ratio/raw/val_pr_s</td>\n",
       "      <td>1.40000</td>\n",
       "      <td>1.48917</td>\n",
       "      <td>1</td>\n",
       "      <td>2</td>\n",
       "      <td>0.30000</td>\n",
       "      <td>0.02137</td>\n",
       "      <td>0.03101</td>\n",
       "      <td>laplace</td>\n",
       "      <td>False</td>\n",
       "    </tr>\n",
       "    <tr>\n",
       "      <th>plain</th>\n",
       "      <td>utility/1way/max/frequencies/ratio/raw/val_pr_s</td>\n",
       "      <td>1.40000</td>\n",
       "      <td>1.14258</td>\n",
       "      <td>1</td>\n",
       "      <td>2</td>\n",
       "      <td>0.30000</td>\n",
       "      <td>0.01922</td>\n",
       "      <td>0.02941</td>\n",
       "      <td>laplace</td>\n",
       "      <td>True</td>\n",
       "    </tr>\n",
       "    <tr>\n",
       "      <th>resample_non_unique_with_replacement</th>\n",
       "      <td>utility/1way/max/frequencies/ratio/raw/val_pr_s</td>\n",
       "      <td>1.40000</td>\n",
       "      <td>1.11911</td>\n",
       "      <td>1</td>\n",
       "      <td>2</td>\n",
       "      <td>0.30000</td>\n",
       "      <td>0.29025</td>\n",
       "      <td>0.11429</td>\n",
       "      <td>laplace</td>\n",
       "      <td>True</td>\n",
       "    </tr>\n",
       "    <tr>\n",
       "      <th rowspan=\"4\" valign=\"top\">1</th>\n",
       "      <th>doubled_unique_with_replacement</th>\n",
       "      <td>utility/123way/max/frequencies/diff/raw/val_pr_s</td>\n",
       "      <td>0.01000</td>\n",
       "      <td>0.00463</td>\n",
       "      <td>0</td>\n",
       "      <td>1</td>\n",
       "      <td>0.01000</td>\n",
       "      <td>0.00000</td>\n",
       "      <td>0.00001</td>\n",
       "      <td>laplace</td>\n",
       "      <td>True</td>\n",
       "    </tr>\n",
       "    <tr>\n",
       "      <th>doubled_unique_without_replacement</th>\n",
       "      <td>utility/123way/max/frequencies/diff/raw/val_pr_s</td>\n",
       "      <td>0.01000</td>\n",
       "      <td>0.00275</td>\n",
       "      <td>0</td>\n",
       "      <td>1</td>\n",
       "      <td>0.01000</td>\n",
       "      <td>0.00000</td>\n",
       "      <td>0.00001</td>\n",
       "      <td>laplace</td>\n",
       "      <td>True</td>\n",
       "    </tr>\n",
       "    <tr>\n",
       "      <th>plain</th>\n",
       "      <td>utility/123way/max/frequencies/diff/raw/val_pr_s</td>\n",
       "      <td>0.01000</td>\n",
       "      <td>0.00445</td>\n",
       "      <td>0</td>\n",
       "      <td>1</td>\n",
       "      <td>0.01000</td>\n",
       "      <td>0.00000</td>\n",
       "      <td>0.00001</td>\n",
       "      <td>laplace</td>\n",
       "      <td>True</td>\n",
       "    </tr>\n",
       "    <tr>\n",
       "      <th>resample_non_unique_with_replacement</th>\n",
       "      <td>utility/123way/max/frequencies/diff/raw/val_pr_s</td>\n",
       "      <td>0.01000</td>\n",
       "      <td>0.04605</td>\n",
       "      <td>0</td>\n",
       "      <td>1</td>\n",
       "      <td>0.01000</td>\n",
       "      <td>0.00000</td>\n",
       "      <td>0.00001</td>\n",
       "      <td>laplace</td>\n",
       "      <td>False</td>\n",
       "    </tr>\n",
       "    <tr>\n",
       "      <th rowspan=\"4\" valign=\"top\">2</th>\n",
       "      <th>doubled_unique_with_replacement</th>\n",
       "      <td>utility/mean/parity/mother_age/val_pr_s</td>\n",
       "      <td>0.30000</td>\n",
       "      <td>0.03123</td>\n",
       "      <td>1</td>\n",
       "      <td>15</td>\n",
       "      <td>0.01000</td>\n",
       "      <td>0.00010</td>\n",
       "      <td>0.00007</td>\n",
       "      <td>laplace</td>\n",
       "      <td>True</td>\n",
       "    </tr>\n",
       "    <tr>\n",
       "      <th>doubled_unique_without_replacement</th>\n",
       "      <td>utility/mean/parity/mother_age/val_pr_s</td>\n",
       "      <td>0.30000</td>\n",
       "      <td>0.11940</td>\n",
       "      <td>1</td>\n",
       "      <td>15</td>\n",
       "      <td>0.01000</td>\n",
       "      <td>0.00010</td>\n",
       "      <td>0.00007</td>\n",
       "      <td>laplace</td>\n",
       "      <td>True</td>\n",
       "    </tr>\n",
       "    <tr>\n",
       "      <th>plain</th>\n",
       "      <td>utility/mean/parity/mother_age/val_pr_s</td>\n",
       "      <td>0.30000</td>\n",
       "      <td>0.11300</td>\n",
       "      <td>1</td>\n",
       "      <td>15</td>\n",
       "      <td>0.01000</td>\n",
       "      <td>0.00010</td>\n",
       "      <td>0.00007</td>\n",
       "      <td>laplace</td>\n",
       "      <td>True</td>\n",
       "    </tr>\n",
       "    <tr>\n",
       "      <th>resample_non_unique_with_replacement</th>\n",
       "      <td>utility/mean/parity/mother_age/val_pr_s</td>\n",
       "      <td>0.30000</td>\n",
       "      <td>0.69180</td>\n",
       "      <td>1</td>\n",
       "      <td>15</td>\n",
       "      <td>0.01000</td>\n",
       "      <td>0.00010</td>\n",
       "      <td>0.00007</td>\n",
       "      <td>laplace</td>\n",
       "      <td>False</td>\n",
       "    </tr>\n",
       "    <tr>\n",
       "      <th rowspan=\"4\" valign=\"top\">3</th>\n",
       "      <th>doubled_unique_with_replacement</th>\n",
       "      <td>utility/mean/birth_weight/l_inf/val_pr_s</td>\n",
       "      <td>100.00000</td>\n",
       "      <td>97.80660</td>\n",
       "      <td>500</td>\n",
       "      <td>5000</td>\n",
       "      <td>0.01000</td>\n",
       "      <td>10.12500</td>\n",
       "      <td>0.02250</td>\n",
       "      <td>laplace</td>\n",
       "      <td>True</td>\n",
       "    </tr>\n",
       "    <tr>\n",
       "      <th>doubled_unique_without_replacement</th>\n",
       "      <td>utility/mean/birth_weight/l_inf/val_pr_s</td>\n",
       "      <td>100.00000</td>\n",
       "      <td>84.77819</td>\n",
       "      <td>500</td>\n",
       "      <td>5000</td>\n",
       "      <td>0.01000</td>\n",
       "      <td>10.12500</td>\n",
       "      <td>0.02250</td>\n",
       "      <td>laplace</td>\n",
       "      <td>True</td>\n",
       "    </tr>\n",
       "    <tr>\n",
       "      <th>plain</th>\n",
       "      <td>utility/mean/birth_weight/l_inf/val_pr_s</td>\n",
       "      <td>100.00000</td>\n",
       "      <td>96.63278</td>\n",
       "      <td>500</td>\n",
       "      <td>5000</td>\n",
       "      <td>0.01000</td>\n",
       "      <td>10.12500</td>\n",
       "      <td>0.02250</td>\n",
       "      <td>laplace</td>\n",
       "      <td>True</td>\n",
       "    </tr>\n",
       "    <tr>\n",
       "      <th>resample_non_unique_with_replacement</th>\n",
       "      <td>utility/mean/birth_weight/l_inf/val_pr_s</td>\n",
       "      <td>100.00000</td>\n",
       "      <td>275.83668</td>\n",
       "      <td>500</td>\n",
       "      <td>5000</td>\n",
       "      <td>0.01000</td>\n",
       "      <td>10.12500</td>\n",
       "      <td>0.02250</td>\n",
       "      <td>laplace</td>\n",
       "      <td>False</td>\n",
       "    </tr>\n",
       "    <tr>\n",
       "      <th rowspan=\"4\" valign=\"top\">4</th>\n",
       "      <th>doubled_unique_with_replacement</th>\n",
       "      <td>utility/mean/gestation_week/l_inf/val_pr_s</td>\n",
       "      <td>1.00000</td>\n",
       "      <td>0.53376</td>\n",
       "      <td>25</td>\n",
       "      <td>42</td>\n",
       "      <td>0.01000</td>\n",
       "      <td>0.00014</td>\n",
       "      <td>0.00009</td>\n",
       "      <td>laplace</td>\n",
       "      <td>True</td>\n",
       "    </tr>\n",
       "    <tr>\n",
       "      <th>doubled_unique_without_replacement</th>\n",
       "      <td>utility/mean/gestation_week/l_inf/val_pr_s</td>\n",
       "      <td>1.00000</td>\n",
       "      <td>0.48671</td>\n",
       "      <td>25</td>\n",
       "      <td>42</td>\n",
       "      <td>0.01000</td>\n",
       "      <td>0.00014</td>\n",
       "      <td>0.00009</td>\n",
       "      <td>laplace</td>\n",
       "      <td>True</td>\n",
       "    </tr>\n",
       "    <tr>\n",
       "      <th>plain</th>\n",
       "      <td>utility/mean/gestation_week/l_inf/val_pr_s</td>\n",
       "      <td>1.00000</td>\n",
       "      <td>0.43532</td>\n",
       "      <td>25</td>\n",
       "      <td>42</td>\n",
       "      <td>0.01000</td>\n",
       "      <td>0.00014</td>\n",
       "      <td>0.00009</td>\n",
       "      <td>laplace</td>\n",
       "      <td>True</td>\n",
       "    </tr>\n",
       "    <tr>\n",
       "      <th>resample_non_unique_with_replacement</th>\n",
       "      <td>utility/mean/gestation_week/l_inf/val_pr_s</td>\n",
       "      <td>1.00000</td>\n",
       "      <td>0.82782</td>\n",
       "      <td>25</td>\n",
       "      <td>42</td>\n",
       "      <td>0.01000</td>\n",
       "      <td>0.00014</td>\n",
       "      <td>0.00009</td>\n",
       "      <td>laplace</td>\n",
       "      <td>True</td>\n",
       "    </tr>\n",
       "    <tr>\n",
       "      <th rowspan=\"4\" valign=\"top\">5</th>\n",
       "      <th>doubled_unique_with_replacement</th>\n",
       "      <td>faithfulness/β/ɑ=1/val_pr_s</td>\n",
       "      <td>0.05000</td>\n",
       "      <td>0.04058</td>\n",
       "      <td>0</td>\n",
       "      <td>1</td>\n",
       "      <td>0.01000</td>\n",
       "      <td>0.00000</td>\n",
       "      <td>0.00001</td>\n",
       "      <td>laplace</td>\n",
       "      <td>True</td>\n",
       "    </tr>\n",
       "    <tr>\n",
       "      <th>doubled_unique_without_replacement</th>\n",
       "      <td>faithfulness/β/ɑ=1/val_pr_s</td>\n",
       "      <td>0.05000</td>\n",
       "      <td>0.03630</td>\n",
       "      <td>0</td>\n",
       "      <td>1</td>\n",
       "      <td>0.01000</td>\n",
       "      <td>0.00000</td>\n",
       "      <td>0.00001</td>\n",
       "      <td>laplace</td>\n",
       "      <td>True</td>\n",
       "    </tr>\n",
       "    <tr>\n",
       "      <th>plain</th>\n",
       "      <td>faithfulness/β/ɑ=1/val_pr_s</td>\n",
       "      <td>0.05000</td>\n",
       "      <td>0.03046</td>\n",
       "      <td>0</td>\n",
       "      <td>1</td>\n",
       "      <td>0.01000</td>\n",
       "      <td>0.00000</td>\n",
       "      <td>0.00001</td>\n",
       "      <td>laplace</td>\n",
       "      <td>True</td>\n",
       "    </tr>\n",
       "    <tr>\n",
       "      <th>resample_non_unique_with_replacement</th>\n",
       "      <td>faithfulness/β/ɑ=1/val_pr_s</td>\n",
       "      <td>0.05000</td>\n",
       "      <td>0.04593</td>\n",
       "      <td>0</td>\n",
       "      <td>1</td>\n",
       "      <td>0.01000</td>\n",
       "      <td>0.00000</td>\n",
       "      <td>0.00001</td>\n",
       "      <td>laplace</td>\n",
       "      <td>True</td>\n",
       "    </tr>\n",
       "    <tr>\n",
       "      <th rowspan=\"4\" valign=\"top\">6</th>\n",
       "      <th>doubled_unique_with_replacement</th>\n",
       "      <td>all</td>\n",
       "      <td>1.00000</td>\n",
       "      <td>1.00000</td>\n",
       "      <td>None</td>\n",
       "      <td>None</td>\n",
       "      <td>0.35000</td>\n",
       "      <td>None</td>\n",
       "      <td>nan</td>\n",
       "      <td>None</td>\n",
       "      <td>True</td>\n",
       "    </tr>\n",
       "    <tr>\n",
       "      <th>doubled_unique_without_replacement</th>\n",
       "      <td>all</td>\n",
       "      <td>1.00000</td>\n",
       "      <td>0.00000</td>\n",
       "      <td>None</td>\n",
       "      <td>None</td>\n",
       "      <td>0.35000</td>\n",
       "      <td>None</td>\n",
       "      <td>nan</td>\n",
       "      <td>None</td>\n",
       "      <td>False</td>\n",
       "    </tr>\n",
       "    <tr>\n",
       "      <th>plain</th>\n",
       "      <td>all</td>\n",
       "      <td>1.00000</td>\n",
       "      <td>1.00000</td>\n",
       "      <td>None</td>\n",
       "      <td>None</td>\n",
       "      <td>0.35000</td>\n",
       "      <td>None</td>\n",
       "      <td>nan</td>\n",
       "      <td>None</td>\n",
       "      <td>True</td>\n",
       "    </tr>\n",
       "    <tr>\n",
       "      <th>resample_non_unique_with_replacement</th>\n",
       "      <td>all</td>\n",
       "      <td>1.00000</td>\n",
       "      <td>0.00000</td>\n",
       "      <td>None</td>\n",
       "      <td>None</td>\n",
       "      <td>0.35000</td>\n",
       "      <td>None</td>\n",
       "      <td>nan</td>\n",
       "      <td>None</td>\n",
       "      <td>False</td>\n",
       "    </tr>\n",
       "  </tbody>\n",
       "</table>\n",
       "</div>"
      ],
      "text/plain": [
       "                                                                                    name  expected    actual lower upper epsilon      var  sensitivity     mech  check\n",
       "0 doubled_unique_with_replacement        utility/1way/max/frequencies/ratio/raw/val_pr_s   1.40000   1.17907     1     2 0.30000  0.01894      0.02920  laplace   True\n",
       "  doubled_unique_without_replacement     utility/1way/max/frequencies/ratio/raw/val_pr_s   1.40000   1.48917     1     2 0.30000  0.02137      0.03101  laplace  False\n",
       "  plain                                  utility/1way/max/frequencies/ratio/raw/val_pr_s   1.40000   1.14258     1     2 0.30000  0.01922      0.02941  laplace   True\n",
       "  resample_non_unique_with_replacement   utility/1way/max/frequencies/ratio/raw/val_pr_s   1.40000   1.11911     1     2 0.30000  0.29025      0.11429  laplace   True\n",
       "1 doubled_unique_with_replacement       utility/123way/max/frequencies/diff/raw/val_pr_s   0.01000   0.00463     0     1 0.01000  0.00000      0.00001  laplace   True\n",
       "  doubled_unique_without_replacement    utility/123way/max/frequencies/diff/raw/val_pr_s   0.01000   0.00275     0     1 0.01000  0.00000      0.00001  laplace   True\n",
       "  plain                                 utility/123way/max/frequencies/diff/raw/val_pr_s   0.01000   0.00445     0     1 0.01000  0.00000      0.00001  laplace   True\n",
       "  resample_non_unique_with_replacement  utility/123way/max/frequencies/diff/raw/val_pr_s   0.01000   0.04605     0     1 0.01000  0.00000      0.00001  laplace  False\n",
       "2 doubled_unique_with_replacement                utility/mean/parity/mother_age/val_pr_s   0.30000   0.03123     1    15 0.01000  0.00010      0.00007  laplace   True\n",
       "  doubled_unique_without_replacement             utility/mean/parity/mother_age/val_pr_s   0.30000   0.11940     1    15 0.01000  0.00010      0.00007  laplace   True\n",
       "  plain                                          utility/mean/parity/mother_age/val_pr_s   0.30000   0.11300     1    15 0.01000  0.00010      0.00007  laplace   True\n",
       "  resample_non_unique_with_replacement           utility/mean/parity/mother_age/val_pr_s   0.30000   0.69180     1    15 0.01000  0.00010      0.00007  laplace  False\n",
       "3 doubled_unique_with_replacement               utility/mean/birth_weight/l_inf/val_pr_s 100.00000  97.80660   500  5000 0.01000 10.12500      0.02250  laplace   True\n",
       "  doubled_unique_without_replacement            utility/mean/birth_weight/l_inf/val_pr_s 100.00000  84.77819   500  5000 0.01000 10.12500      0.02250  laplace   True\n",
       "  plain                                         utility/mean/birth_weight/l_inf/val_pr_s 100.00000  96.63278   500  5000 0.01000 10.12500      0.02250  laplace   True\n",
       "  resample_non_unique_with_replacement          utility/mean/birth_weight/l_inf/val_pr_s 100.00000 275.83668   500  5000 0.01000 10.12500      0.02250  laplace  False\n",
       "4 doubled_unique_with_replacement             utility/mean/gestation_week/l_inf/val_pr_s   1.00000   0.53376    25    42 0.01000  0.00014      0.00009  laplace   True\n",
       "  doubled_unique_without_replacement          utility/mean/gestation_week/l_inf/val_pr_s   1.00000   0.48671    25    42 0.01000  0.00014      0.00009  laplace   True\n",
       "  plain                                       utility/mean/gestation_week/l_inf/val_pr_s   1.00000   0.43532    25    42 0.01000  0.00014      0.00009  laplace   True\n",
       "  resample_non_unique_with_replacement        utility/mean/gestation_week/l_inf/val_pr_s   1.00000   0.82782    25    42 0.01000  0.00014      0.00009  laplace   True\n",
       "5 doubled_unique_with_replacement                            faithfulness/β/ɑ=1/val_pr_s   0.05000   0.04058     0     1 0.01000  0.00000      0.00001  laplace   True\n",
       "  doubled_unique_without_replacement                         faithfulness/β/ɑ=1/val_pr_s   0.05000   0.03630     0     1 0.01000  0.00000      0.00001  laplace   True\n",
       "  plain                                                      faithfulness/β/ɑ=1/val_pr_s   0.05000   0.03046     0     1 0.01000  0.00000      0.00001  laplace   True\n",
       "  resample_non_unique_with_replacement                       faithfulness/β/ɑ=1/val_pr_s   0.05000   0.04593     0     1 0.01000  0.00000      0.00001  laplace   True\n",
       "6 doubled_unique_with_replacement                                                    all   1.00000   1.00000  None  None 0.35000     None          nan     None   True\n",
       "  doubled_unique_without_replacement                                                 all   1.00000   0.00000  None  None 0.35000     None          nan     None  False\n",
       "  plain                                                                              all   1.00000   1.00000  None  None 0.35000     None          nan     None   True\n",
       "  resample_non_unique_with_replacement                                               all   1.00000   0.00000  None  None 0.35000     None          nan     None  False"
      ]
     },
     "execution_count": 31,
     "metadata": {},
     "output_type": "execute_result"
    }
   ],
   "source": [
    "pd.concat(\n",
    "    {\n",
    "        \"plain\": synth_acceptance_df,\n",
    "        \"doubled_unique_without_replacement\": doubled_unique_without_replacement_synth_acceptance_df,\n",
    "        \"doubled_unique_with_replacement\": doubled_unique_with_replacement_synth_acceptance_df,\n",
    "        \"resample_non_unique_with_replacement\": resample_non_unique_synth_acceptance_df,\n",
    "    }\n",
    ").reorder_levels([1, 0]).sort_index()"
   ]
  },
  {
   "cell_type": "markdown",
   "metadata": {},
   "source": [
    "## Properties "
   ]
  },
  {
   "cell_type": "code",
   "execution_count": 32,
   "metadata": {},
   "outputs": [],
   "source": [
    "def compute_property_cdfs(sensitive_column, name, metric):\n",
    "    quasi_df = nun_dfs[sensitive_column][f\"{metric}_{name}\"]\n",
    "    quasi_cdf = quasi_df[quasi_df > 0].astype(int).value_counts().sort_index().cumsum()\n",
    "\n",
    "    row_lst = []\n",
    "    for _, r in nun_dfs[sensitive_column].iterrows():\n",
    "        size = r[f\"size_{name}\"]\n",
    "        if not np.isnan(size) and size:\n",
    "            row_lst += [int(r[f\"{metric}_{name}\"])] * int(size)\n",
    "\n",
    "    row_cdf = pd.Series(row_lst).value_counts().sort_index().cumsum()\n",
    "\n",
    "    return pd.DataFrame(\n",
    "        {\n",
    "            \"#QUASY\": quasi_cdf,\n",
    "            \"%QUASY\": (quasi_cdf / quasi_cdf.iloc[-1]).multiply(100).round(2),\n",
    "            \"#ROWS\": row_cdf,\n",
    "            \"%ROWS\": (row_cdf / row_cdf.iloc[-1]).multiply(100).round(2),\n",
    "        }\n",
    "    )"
   ]
  },
  {
   "cell_type": "code",
   "execution_count": 33,
   "metadata": {},
   "outputs": [
    {
     "data": {
      "text/markdown": [
       "### `gestation_week`"
      ],
      "text/plain": [
       "<IPython.core.display.Markdown object>"
      ]
     },
     "metadata": {},
     "output_type": "display_data"
    },
    {
     "data": {
      "text/markdown": [
       "k-anonymity"
      ],
      "text/plain": [
       "<IPython.core.display.Markdown object>"
      ]
     },
     "metadata": {},
     "output_type": "display_data"
    },
    {
     "data": {
      "text/html": [
       "<div>\n",
       "<style scoped>\n",
       "    .dataframe tbody tr th:only-of-type {\n",
       "        vertical-align: middle;\n",
       "    }\n",
       "\n",
       "    .dataframe tbody tr th {\n",
       "        vertical-align: top;\n",
       "    }\n",
       "\n",
       "    .dataframe thead th {\n",
       "        text-align: right;\n",
       "    }\n",
       "</style>\n",
       "<table border=\"1\" class=\"dataframe\">\n",
       "  <thead>\n",
       "    <tr style=\"text-align: right;\">\n",
       "      <th></th>\n",
       "      <th>#QUASY</th>\n",
       "      <th>%QUASY</th>\n",
       "      <th>#ROWS</th>\n",
       "      <th>%ROWS</th>\n",
       "    </tr>\n",
       "  </thead>\n",
       "  <tbody>\n",
       "    <tr>\n",
       "      <th>1</th>\n",
       "      <td>1</td>\n",
       "      <td>0.13000</td>\n",
       "      <td>1</td>\n",
       "      <td>0.00000</td>\n",
       "    </tr>\n",
       "    <tr>\n",
       "      <th>2</th>\n",
       "      <td>6</td>\n",
       "      <td>0.81000</td>\n",
       "      <td>11</td>\n",
       "      <td>0.01000</td>\n",
       "    </tr>\n",
       "    <tr>\n",
       "      <th>3</th>\n",
       "      <td>17</td>\n",
       "      <td>2.29000</td>\n",
       "      <td>44</td>\n",
       "      <td>0.02000</td>\n",
       "    </tr>\n",
       "    <tr>\n",
       "      <th>4</th>\n",
       "      <td>21</td>\n",
       "      <td>2.83000</td>\n",
       "      <td>60</td>\n",
       "      <td>0.03000</td>\n",
       "    </tr>\n",
       "    <tr>\n",
       "      <th>5</th>\n",
       "      <td>33</td>\n",
       "      <td>4.45000</td>\n",
       "      <td>120</td>\n",
       "      <td>0.06000</td>\n",
       "    </tr>\n",
       "    <tr>\n",
       "      <th>6</th>\n",
       "      <td>45</td>\n",
       "      <td>6.06000</td>\n",
       "      <td>192</td>\n",
       "      <td>0.10000</td>\n",
       "    </tr>\n",
       "    <tr>\n",
       "      <th>7</th>\n",
       "      <td>51</td>\n",
       "      <td>6.87000</td>\n",
       "      <td>234</td>\n",
       "      <td>0.12000</td>\n",
       "    </tr>\n",
       "    <tr>\n",
       "      <th>8</th>\n",
       "      <td>55</td>\n",
       "      <td>7.41000</td>\n",
       "      <td>266</td>\n",
       "      <td>0.13000</td>\n",
       "    </tr>\n",
       "    <tr>\n",
       "      <th>9</th>\n",
       "      <td>64</td>\n",
       "      <td>8.63000</td>\n",
       "      <td>347</td>\n",
       "      <td>0.17000</td>\n",
       "    </tr>\n",
       "    <tr>\n",
       "      <th>10</th>\n",
       "      <td>73</td>\n",
       "      <td>9.84000</td>\n",
       "      <td>437</td>\n",
       "      <td>0.22000</td>\n",
       "    </tr>\n",
       "  </tbody>\n",
       "</table>\n",
       "</div>"
      ],
      "text/plain": [
       "    #QUASY  %QUASY  #ROWS   %ROWS\n",
       "1        1 0.13000      1 0.00000\n",
       "2        6 0.81000     11 0.01000\n",
       "3       17 2.29000     44 0.02000\n",
       "4       21 2.83000     60 0.03000\n",
       "5       33 4.45000    120 0.06000\n",
       "6       45 6.06000    192 0.10000\n",
       "7       51 6.87000    234 0.12000\n",
       "8       55 7.41000    266 0.13000\n",
       "9       64 8.63000    347 0.17000\n",
       "10      73 9.84000    437 0.22000"
      ]
     },
     "metadata": {},
     "output_type": "display_data"
    },
    {
     "data": {
      "text/markdown": [
       "ℓ-diversity (distinct)"
      ],
      "text/plain": [
       "<IPython.core.display.Markdown object>"
      ]
     },
     "metadata": {},
     "output_type": "display_data"
    },
    {
     "data": {
      "text/html": [
       "<div>\n",
       "<style scoped>\n",
       "    .dataframe tbody tr th:only-of-type {\n",
       "        vertical-align: middle;\n",
       "    }\n",
       "\n",
       "    .dataframe tbody tr th {\n",
       "        vertical-align: top;\n",
       "    }\n",
       "\n",
       "    .dataframe thead th {\n",
       "        text-align: right;\n",
       "    }\n",
       "</style>\n",
       "<table border=\"1\" class=\"dataframe\">\n",
       "  <thead>\n",
       "    <tr style=\"text-align: right;\">\n",
       "      <th></th>\n",
       "      <th>#QUASY</th>\n",
       "      <th>%QUASY</th>\n",
       "      <th>#ROWS</th>\n",
       "      <th>%ROWS</th>\n",
       "    </tr>\n",
       "  </thead>\n",
       "  <tbody>\n",
       "    <tr>\n",
       "      <th>1</th>\n",
       "      <td>32</td>\n",
       "      <td>4.31000</td>\n",
       "      <td>186</td>\n",
       "      <td>0.09000</td>\n",
       "    </tr>\n",
       "    <tr>\n",
       "      <th>2</th>\n",
       "      <td>112</td>\n",
       "      <td>15.09000</td>\n",
       "      <td>1406</td>\n",
       "      <td>0.70000</td>\n",
       "    </tr>\n",
       "    <tr>\n",
       "      <th>3</th>\n",
       "      <td>205</td>\n",
       "      <td>27.63000</td>\n",
       "      <td>4128</td>\n",
       "      <td>2.06000</td>\n",
       "    </tr>\n",
       "    <tr>\n",
       "      <th>4</th>\n",
       "      <td>342</td>\n",
       "      <td>46.09000</td>\n",
       "      <td>12777</td>\n",
       "      <td>6.39000</td>\n",
       "    </tr>\n",
       "    <tr>\n",
       "      <th>5</th>\n",
       "      <td>439</td>\n",
       "      <td>59.16000</td>\n",
       "      <td>25957</td>\n",
       "      <td>12.98000</td>\n",
       "    </tr>\n",
       "    <tr>\n",
       "      <th>6</th>\n",
       "      <td>566</td>\n",
       "      <td>76.28000</td>\n",
       "      <td>62589</td>\n",
       "      <td>31.29000</td>\n",
       "    </tr>\n",
       "    <tr>\n",
       "      <th>7</th>\n",
       "      <td>742</td>\n",
       "      <td>100.00000</td>\n",
       "      <td>200000</td>\n",
       "      <td>100.00000</td>\n",
       "    </tr>\n",
       "  </tbody>\n",
       "</table>\n",
       "</div>"
      ],
      "text/plain": [
       "   #QUASY    %QUASY   #ROWS     %ROWS\n",
       "1      32   4.31000     186   0.09000\n",
       "2     112  15.09000    1406   0.70000\n",
       "3     205  27.63000    4128   2.06000\n",
       "4     342  46.09000   12777   6.39000\n",
       "5     439  59.16000   25957  12.98000\n",
       "6     566  76.28000   62589  31.29000\n",
       "7     742 100.00000  200000 100.00000"
      ]
     },
     "metadata": {},
     "output_type": "display_data"
    },
    {
     "data": {
      "text/markdown": [
       "### `birth_weight`"
      ],
      "text/plain": [
       "<IPython.core.display.Markdown object>"
      ]
     },
     "metadata": {},
     "output_type": "display_data"
    },
    {
     "data": {
      "text/markdown": [
       "k-anonymity"
      ],
      "text/plain": [
       "<IPython.core.display.Markdown object>"
      ]
     },
     "metadata": {},
     "output_type": "display_data"
    },
    {
     "data": {
      "text/html": [
       "<div>\n",
       "<style scoped>\n",
       "    .dataframe tbody tr th:only-of-type {\n",
       "        vertical-align: middle;\n",
       "    }\n",
       "\n",
       "    .dataframe tbody tr th {\n",
       "        vertical-align: top;\n",
       "    }\n",
       "\n",
       "    .dataframe thead th {\n",
       "        text-align: right;\n",
       "    }\n",
       "</style>\n",
       "<table border=\"1\" class=\"dataframe\">\n",
       "  <thead>\n",
       "    <tr style=\"text-align: right;\">\n",
       "      <th></th>\n",
       "      <th>#QUASY</th>\n",
       "      <th>%QUASY</th>\n",
       "      <th>#ROWS</th>\n",
       "      <th>%ROWS</th>\n",
       "    </tr>\n",
       "  </thead>\n",
       "  <tbody>\n",
       "    <tr>\n",
       "      <th>1</th>\n",
       "      <td>1</td>\n",
       "      <td>0.13000</td>\n",
       "      <td>1</td>\n",
       "      <td>0.00000</td>\n",
       "    </tr>\n",
       "    <tr>\n",
       "      <th>2</th>\n",
       "      <td>6</td>\n",
       "      <td>0.81000</td>\n",
       "      <td>11</td>\n",
       "      <td>0.01000</td>\n",
       "    </tr>\n",
       "    <tr>\n",
       "      <th>3</th>\n",
       "      <td>17</td>\n",
       "      <td>2.29000</td>\n",
       "      <td>44</td>\n",
       "      <td>0.02000</td>\n",
       "    </tr>\n",
       "    <tr>\n",
       "      <th>4</th>\n",
       "      <td>21</td>\n",
       "      <td>2.83000</td>\n",
       "      <td>60</td>\n",
       "      <td>0.03000</td>\n",
       "    </tr>\n",
       "    <tr>\n",
       "      <th>5</th>\n",
       "      <td>33</td>\n",
       "      <td>4.45000</td>\n",
       "      <td>120</td>\n",
       "      <td>0.06000</td>\n",
       "    </tr>\n",
       "    <tr>\n",
       "      <th>6</th>\n",
       "      <td>45</td>\n",
       "      <td>6.06000</td>\n",
       "      <td>192</td>\n",
       "      <td>0.10000</td>\n",
       "    </tr>\n",
       "    <tr>\n",
       "      <th>7</th>\n",
       "      <td>51</td>\n",
       "      <td>6.87000</td>\n",
       "      <td>234</td>\n",
       "      <td>0.12000</td>\n",
       "    </tr>\n",
       "    <tr>\n",
       "      <th>8</th>\n",
       "      <td>55</td>\n",
       "      <td>7.41000</td>\n",
       "      <td>266</td>\n",
       "      <td>0.13000</td>\n",
       "    </tr>\n",
       "    <tr>\n",
       "      <th>9</th>\n",
       "      <td>64</td>\n",
       "      <td>8.63000</td>\n",
       "      <td>347</td>\n",
       "      <td>0.17000</td>\n",
       "    </tr>\n",
       "    <tr>\n",
       "      <th>10</th>\n",
       "      <td>73</td>\n",
       "      <td>9.84000</td>\n",
       "      <td>437</td>\n",
       "      <td>0.22000</td>\n",
       "    </tr>\n",
       "  </tbody>\n",
       "</table>\n",
       "</div>"
      ],
      "text/plain": [
       "    #QUASY  %QUASY  #ROWS   %ROWS\n",
       "1        1 0.13000      1 0.00000\n",
       "2        6 0.81000     11 0.01000\n",
       "3       17 2.29000     44 0.02000\n",
       "4       21 2.83000     60 0.03000\n",
       "5       33 4.45000    120 0.06000\n",
       "6       45 6.06000    192 0.10000\n",
       "7       51 6.87000    234 0.12000\n",
       "8       55 7.41000    266 0.13000\n",
       "9       64 8.63000    347 0.17000\n",
       "10      73 9.84000    437 0.22000"
      ]
     },
     "metadata": {},
     "output_type": "display_data"
    },
    {
     "data": {
      "text/markdown": [
       "ℓ-diversity (distinct)"
      ],
      "text/plain": [
       "<IPython.core.display.Markdown object>"
      ]
     },
     "metadata": {},
     "output_type": "display_data"
    },
    {
     "data": {
      "text/html": [
       "<div>\n",
       "<style scoped>\n",
       "    .dataframe tbody tr th:only-of-type {\n",
       "        vertical-align: middle;\n",
       "    }\n",
       "\n",
       "    .dataframe tbody tr th {\n",
       "        vertical-align: top;\n",
       "    }\n",
       "\n",
       "    .dataframe thead th {\n",
       "        text-align: right;\n",
       "    }\n",
       "</style>\n",
       "<table border=\"1\" class=\"dataframe\">\n",
       "  <thead>\n",
       "    <tr style=\"text-align: right;\">\n",
       "      <th></th>\n",
       "      <th>#QUASY</th>\n",
       "      <th>%QUASY</th>\n",
       "      <th>#ROWS</th>\n",
       "      <th>%ROWS</th>\n",
       "    </tr>\n",
       "  </thead>\n",
       "  <tbody>\n",
       "    <tr>\n",
       "      <th>1</th>\n",
       "      <td>1</td>\n",
       "      <td>0.13000</td>\n",
       "      <td>1</td>\n",
       "      <td>0.00000</td>\n",
       "    </tr>\n",
       "    <tr>\n",
       "      <th>2</th>\n",
       "      <td>7</td>\n",
       "      <td>0.94000</td>\n",
       "      <td>14</td>\n",
       "      <td>0.01000</td>\n",
       "    </tr>\n",
       "    <tr>\n",
       "      <th>3</th>\n",
       "      <td>21</td>\n",
       "      <td>2.83000</td>\n",
       "      <td>61</td>\n",
       "      <td>0.03000</td>\n",
       "    </tr>\n",
       "    <tr>\n",
       "      <th>4</th>\n",
       "      <td>26</td>\n",
       "      <td>3.50000</td>\n",
       "      <td>88</td>\n",
       "      <td>0.04000</td>\n",
       "    </tr>\n",
       "    <tr>\n",
       "      <th>5</th>\n",
       "      <td>44</td>\n",
       "      <td>5.93000</td>\n",
       "      <td>192</td>\n",
       "      <td>0.10000</td>\n",
       "    </tr>\n",
       "    <tr>\n",
       "      <th>6</th>\n",
       "      <td>52</td>\n",
       "      <td>7.01000</td>\n",
       "      <td>248</td>\n",
       "      <td>0.12000</td>\n",
       "    </tr>\n",
       "    <tr>\n",
       "      <th>7</th>\n",
       "      <td>62</td>\n",
       "      <td>8.36000</td>\n",
       "      <td>335</td>\n",
       "      <td>0.17000</td>\n",
       "    </tr>\n",
       "    <tr>\n",
       "      <th>8</th>\n",
       "      <td>78</td>\n",
       "      <td>10.51000</td>\n",
       "      <td>522</td>\n",
       "      <td>0.26000</td>\n",
       "    </tr>\n",
       "    <tr>\n",
       "      <th>9</th>\n",
       "      <td>95</td>\n",
       "      <td>12.80000</td>\n",
       "      <td>745</td>\n",
       "      <td>0.37000</td>\n",
       "    </tr>\n",
       "    <tr>\n",
       "      <th>10</th>\n",
       "      <td>122</td>\n",
       "      <td>16.44000</td>\n",
       "      <td>1135</td>\n",
       "      <td>0.57000</td>\n",
       "    </tr>\n",
       "  </tbody>\n",
       "</table>\n",
       "</div>"
      ],
      "text/plain": [
       "    #QUASY   %QUASY  #ROWS   %ROWS\n",
       "1        1  0.13000      1 0.00000\n",
       "2        7  0.94000     14 0.01000\n",
       "3       21  2.83000     61 0.03000\n",
       "4       26  3.50000     88 0.04000\n",
       "5       44  5.93000    192 0.10000\n",
       "6       52  7.01000    248 0.12000\n",
       "7       62  8.36000    335 0.17000\n",
       "8       78 10.51000    522 0.26000\n",
       "9       95 12.80000    745 0.37000\n",
       "10     122 16.44000   1135 0.57000"
      ]
     },
     "metadata": {},
     "output_type": "display_data"
    }
   ],
   "source": [
    "for sensitive_column in SENSITIVE_COLUMNS:\n",
    "    display(Markdown(f\"### `{sensitive_column}`\"))\n",
    "\n",
    "    display(Markdown(\"k-anonymity\"))\n",
    "    display(compute_property_cdfs(sensitive_column, \"s\", \"size\").head(10))\n",
    "\n",
    "    display(Markdown(\"ℓ-diversity (distinct)\"))\n",
    "    display(compute_property_cdfs(sensitive_column, \"s\", \"nunique\").head(10))"
   ]
  }
 ],
 "metadata": {
  "colab": {
   "collapsed_sections": [],
   "provenance": []
  },
  "kernelspec": {
   "display_name": "Python 3 (ipykernel)",
   "language": "python",
   "name": "python3"
  },
  "language_info": {
   "codemirror_mode": {
    "name": "ipython",
    "version": 3
   },
   "file_extension": ".py",
   "mimetype": "text/x-python",
   "name": "python",
   "nbconvert_exporter": "python",
   "pygments_lexer": "ipython3",
   "version": "3.8.16"
  }
 },
 "nbformat": 4,
 "nbformat_minor": 4
}
