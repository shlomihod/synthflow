{
 "cells": [
  {
   "attachments": {},
   "cell_type": "markdown",
   "id": "161d2253",
   "metadata": {
    "papermill": {
     "duration": 0.052659,
     "end_time": "2022-04-07T11:54:39.352702",
     "exception": false,
     "start_time": "2022-04-07T11:54:39.300043",
     "status": "completed"
    },
    "tags": []
   },
   "source": [
    "# `synthflow` Report"
   ]
  },
  {
   "cell_type": "code",
   "execution_count": null,
   "id": "4b59a670",
   "metadata": {
    "papermill": {
     "duration": 0.073608,
     "end_time": "2022-04-07T11:54:39.465349",
     "exception": false,
     "start_time": "2022-04-07T11:54:39.391741",
     "status": "completed"
    },
    "tags": [
     "parameters"
    ]
   },
   "outputs": [],
   "source": [
    "# Parameters\n",
    "\n",
    "run_path = None\n",
    "root_path = None\n",
    "mode = None\n",
    "is_minimal = None"
   ]
  },
  {
   "cell_type": "code",
   "execution_count": null,
   "id": "b14b9020",
   "metadata": {
    "papermill": {
     "duration": 10.488747,
     "end_time": "2022-04-07T11:54:50.108058",
     "exception": false,
     "start_time": "2022-04-07T11:54:39.619311",
     "status": "completed"
    },
    "tags": []
   },
   "outputs": [],
   "source": [
    "import itertools as it\n",
    "import json\n",
    "import os\n",
    "import pickle\n",
    "import re\n",
    "import string\n",
    "from collections import defaultdict\n",
    "from pathlib import Path\n",
    "from pprint import pprint\n",
    "\n",
    "import matplotlib.pylab as plt\n",
    "import missingno as msno\n",
    "import numpy as np\n",
    "import pandas as pd\n",
    "import seaborn as sns\n",
    "import statsmodels.api as sm\n",
    "import wandb\n",
    "from IPython.display import Markdown, display\n",
    "from matplotlib.colors import ListedColormap\n",
    "from matplotlib_venn import venn3\n",
    "from scipy import stats\n",
    "from sklearn.neighbors import LocalOutlierFactor\n",
    "from tqdm import trange\n",
    "from wandb.sdk.internal.datastore import DataStore\n",
    "\n",
    "from synthflow.birth import EVALUATION_COLUMN_BINS\n",
    "from synthflow.evaluation import numerify\n",
    "from synthflow.evaluation.faithfulness import scale_columns_by_weights\n",
    "from synthflow.evaluation.utility.analysis import _bin_table\n",
    "from synthflow.utils import compute_complete_counts, get_single_row_by_query, n_way_gen"
   ]
  },
  {
   "cell_type": "code",
   "execution_count": null,
   "id": "afe94f2e",
   "metadata": {
    "papermill": {
     "duration": 0.055103,
     "end_time": "2022-04-07T11:54:50.213725",
     "exception": false,
     "start_time": "2022-04-07T11:54:50.158622",
     "status": "completed"
    },
    "tags": []
   },
   "outputs": [],
   "source": [
    "WANDB_DIR = os.environ.get(\"WANDB_DIR\", os.getcwd())\n",
    "WANDB_PATH = Path(WANDB_DIR)\n",
    "print(f\"{WANDB_DIR=}\")\n",
    "\n",
    "SYNTH_PROCESSED_CMAP = ListedColormap([plt.cm.tab10(2), plt.cm.tab10(1)])\n",
    "\n",
    "PATH_RE = re.compile(b\"\\\\d[A-Z]([a-zA-Z]:\\\\|/|.)\")"
   ]
  },
  {
   "cell_type": "code",
   "execution_count": null,
   "id": "09f516e4",
   "metadata": {
    "papermill": {
     "duration": 0.294673,
     "end_time": "2022-04-07T11:54:50.552009",
     "exception": false,
     "start_time": "2022-04-07T11:54:50.257336",
     "status": "completed"
    },
    "tags": []
   },
   "outputs": [],
   "source": [
    "def PICKLE_LOAD(path):\n",
    "    return pickle.loads(path.read_bytes())\n",
    "\n",
    "\n",
    "def DF_PICKLE_LOAD(path):\n",
    "    return pd.read_pickle(path)\n",
    "\n",
    "\n",
    "def DF_JSON_LOAD(path):\n",
    "    if mode == \"online\":\n",
    "        path = Path(str(path) + \".table.json\")\n",
    "    table = json.loads(path.read_bytes())\n",
    "    return pd.DataFrame(table[\"data\"], columns=table[\"columns\"])\n",
    "\n",
    "\n",
    "ARTIFACTS_METADATA = {\n",
    "    \"model\": None,\n",
    "    \"real\": DF_PICKLE_LOAD,\n",
    "    \"processed_real\": DF_PICKLE_LOAD,\n",
    "    \"subsampled_real\": DF_PICKLE_LOAD,\n",
    "    \"synth\": DF_PICKLE_LOAD,\n",
    "    \"constraints\": DF_PICKLE_LOAD,\n",
    "    \"utility\": DF_JSON_LOAD,\n",
    "    \"privacy\": DF_JSON_LOAD,\n",
    "    \"faithfulness\": DF_JSON_LOAD,\n",
    "    \"acceptance\": DF_JSON_LOAD,\n",
    "    \"dp_acceptance\": DF_JSON_LOAD,\n",
    "    \"column_weights\": PICKLE_LOAD,\n",
    "    \"dp_info\": PICKLE_LOAD,\n",
    "    \"transcript\": PICKLE_LOAD,\n",
    "}\n",
    "\n",
    "\n",
    "def find_non(raw, base):\n",
    "    return [i for i, b in enumerate(raw) if b not in base]\n",
    "\n",
    "\n",
    "def clean_name(name):\n",
    "    if \"-\" in name:\n",
    "        *_, name = name.split(\"-\")\n",
    "\n",
    "    if \":\" in name:\n",
    "        name, _ = name.split(\":\")\n",
    "\n",
    "    return name\n",
    "\n",
    "\n",
    "def artificat_online_iter(run_path):\n",
    "    ARTIFACT_PATH = Path(root_path) / \"artifacts\" / run_path.replace(\"/\", \"_\")\n",
    "    ARTIFACT_PATH.mkdir(parents=True, exist_ok=True)\n",
    "\n",
    "    api = wandb.Api()\n",
    "    run = api.run(run_path)\n",
    "\n",
    "    for artifact in run.logged_artifacts():\n",
    "        name = clean_name(artifact.name)\n",
    "        artifact.download(root=ARTIFACT_PATH)\n",
    "        path = ARTIFACT_PATH / name\n",
    "        yield name, path\n",
    "\n",
    "\n",
    "def artifact_offline_hack_iter(run_path):\n",
    "    run_ds_paths = list((WANDB_PATH / \"wandb\").glob(f\"*{run_path}*/*.wandb\"))\n",
    "    assert len(run_ds_paths) == 1, print(run_ds_paths)\n",
    "    run_ds_path = run_ds_paths[0]\n",
    "\n",
    "    ds = DataStore()\n",
    "    ds.open_for_scan(run_ds_path)\n",
    "\n",
    "    while True:\n",
    "        data = ds.scan_data()\n",
    "        if data is None:\n",
    "            break\n",
    "        if b\"storageLayout\" in data:\n",
    "            name_raw, _, path_raw = data.split(b\" \")\n",
    "\n",
    "            name_raw = name_raw.rstrip(string.digits.encode(\"ascii\"))\n",
    "            name_start_index = (\n",
    "                find_non(name_raw, (string.ascii_letters + \"_\").encode(\"ascii\"))[-1] + 1\n",
    "            )\n",
    "            name = name_raw[name_start_index:].decode(\"ascii\")\n",
    "            name = clean_name(name)\n",
    "\n",
    "            # TODO: refactor\n",
    "            path_start_index = PATH_RE.search(path_raw).start() + 2\n",
    "            path_raw = path_raw[path_start_index:]\n",
    "            path_end_index = find_non(path_raw, string.printable.encode(\"ascii\"))[0] - 1\n",
    "            path = path_raw[:path_end_index].decode(\"ascii\")\n",
    "\n",
    "            yield name, Path(path)"
   ]
  },
  {
   "cell_type": "code",
   "execution_count": null,
   "id": "acced2e3",
   "metadata": {
    "papermill": {
     "duration": 2.394142,
     "end_time": "2022-04-07T11:54:53.000731",
     "exception": true,
     "start_time": "2022-04-07T11:54:50.606589",
     "status": "failed"
    },
    "tags": []
   },
   "outputs": [],
   "source": [
    "artificat_iter = (\n",
    "    artifact_offline_hack_iter if mode == \"offline\" else artificat_online_iter\n",
    ")\n",
    "\n",
    "for name, path in artificat_iter(run_path):\n",
    "    if name not in ARTIFACTS_METADATA:\n",
    "        print(f\"[SKIPPED] {name}\")\n",
    "        continue\n",
    "\n",
    "    load_fn = ARTIFACTS_METADATA[name]\n",
    "\n",
    "    if load_fn is not None:\n",
    "        df = load_fn(path)\n",
    "        if load_fn in (DF_PICKLE_LOAD, DF_JSON_LOAD):\n",
    "            obj_name = f\"{name}_df\"\n",
    "        else:\n",
    "            obj_name = name\n",
    "        # A USEFUL DENGEROUS HACK!\n",
    "        globals()[obj_name] = df\n",
    "\n",
    "        print(obj_name)\n",
    "\n",
    "\n",
    "config = {} if mode == \"offline\" else wandb.Api().run(run_path).config"
   ]
  },
  {
   "attachments": {},
   "cell_type": "markdown",
   "id": "07a889c3",
   "metadata": {
    "papermill": {
     "duration": null,
     "end_time": null,
     "exception": null,
     "start_time": null,
     "status": "pending"
    },
    "tags": []
   },
   "source": [
    "## Datasets"
   ]
  },
  {
   "cell_type": "code",
   "execution_count": null,
   "id": "509fde60",
   "metadata": {
    "papermill": {
     "duration": null,
     "end_time": null,
     "exception": null,
     "start_time": null,
     "status": "pending"
    },
    "tags": []
   },
   "outputs": [],
   "source": [
    "msno.bar(real_df)"
   ]
  },
  {
   "cell_type": "code",
   "execution_count": null,
   "id": "ec3a1fb9",
   "metadata": {
    "papermill": {
     "duration": null,
     "end_time": null,
     "exception": null,
     "start_time": null,
     "status": "pending"
    },
    "tags": []
   },
   "outputs": [],
   "source": [
    "msno.bar(synth_df)"
   ]
  },
  {
   "cell_type": "code",
   "execution_count": null,
   "id": "d4e8c226",
   "metadata": {
    "papermill": {
     "duration": null,
     "end_time": null,
     "exception": null,
     "start_time": null,
     "status": "pending"
    },
    "tags": []
   },
   "outputs": [],
   "source": [
    "datasets = {\n",
    "    \"real\": real_df,\n",
    "    \"synth\": synth_df,\n",
    "    \"processed\": processed_real_df,\n",
    "    \"subsampled\": subsampled_real_df,\n",
    "}\n",
    "numerified_datasets = {\n",
    "    name: numerify(dataset).astype(int) for name, dataset in datasets.items()\n",
    "}\n",
    "binnified_datasets = {\n",
    "    name: _bin_table(dataset, EVALUATION_COLUMN_BINS)\n",
    "    for name, dataset in numerified_datasets.items()\n",
    "}"
   ]
  },
  {
   "cell_type": "code",
   "execution_count": null,
   "id": "c5e825ef",
   "metadata": {
    "papermill": {
     "duration": null,
     "end_time": null,
     "exception": null,
     "start_time": null,
     "status": "pending"
    },
    "tags": []
   },
   "outputs": [],
   "source": [
    "unified_df = pd.concat(\n",
    "    [dataset.assign(name=name) for name, dataset in numerified_datasets.items()],\n",
    "    ignore_index=True,\n",
    ")\n",
    "binned_unified_df = pd.concat(\n",
    "    [dataset.assign(name=name) for name, dataset in binnified_datasets.items()],\n",
    "    ignore_index=True,\n",
    ")\n",
    "\n",
    "columns = synth_df.columns"
   ]
  },
  {
   "cell_type": "code",
   "execution_count": null,
   "id": "157f5991",
   "metadata": {
    "papermill": {
     "duration": null,
     "end_time": null,
     "exception": null,
     "start_time": null,
     "status": "pending"
    },
    "tags": []
   },
   "outputs": [],
   "source": [
    "synth_processed_unifed_df = pd.concat(\n",
    "    [synth_df.assign(name=\"synth\"), processed_real_df.assign(name=\"processed\")],\n",
    "    ignore_index=True,\n",
    ")\n",
    "synth_processed_numerified_unifed_df = pd.concat(\n",
    "    [\n",
    "        numerified_datasets[\"synth\"].assign(name=\"synth\"),\n",
    "        numerified_datasets[\"processed\"].assign(name=\"processed\"),\n",
    "    ],\n",
    "    ignore_index=True,\n",
    ")"
   ]
  },
  {
   "attachments": {},
   "cell_type": "markdown",
   "id": "0ab6d7d6-70d5-4229-bfd5-e4d3c994fb37",
   "metadata": {},
   "source": [
    "## Differntial Privacy Info"
   ]
  },
  {
   "cell_type": "code",
   "execution_count": null,
   "id": "3cfc4c27-7832-4140-b60f-e14434f4064d",
   "metadata": {},
   "outputs": [],
   "source": [
    "dp_info"
   ]
  },
  {
   "attachments": {},
   "cell_type": "markdown",
   "id": "b52301a2",
   "metadata": {
    "papermill": {
     "duration": null,
     "end_time": null,
     "exception": null,
     "start_time": null,
     "status": "pending"
    },
    "tags": []
   },
   "source": [
    "## Model"
   ]
  },
  {
   "cell_type": "code",
   "execution_count": null,
   "id": "af0b28e3",
   "metadata": {
    "papermill": {
     "duration": null,
     "end_time": null,
     "exception": null,
     "start_time": null,
     "status": "pending"
    },
    "tags": []
   },
   "outputs": [],
   "source": [
    "display(Markdown(f\"### ε = {config.get('epsilon')}\"))\n",
    "display(Markdown(f\"### {config.get('model')}\"))\n",
    "display(Markdown(f\"Hyperparameters: {config.get('hparams')}\"))"
   ]
  },
  {
   "attachments": {},
   "cell_type": "markdown",
   "id": "f186250c",
   "metadata": {
    "papermill": {
     "duration": null,
     "end_time": null,
     "exception": null,
     "start_time": null,
     "status": "pending"
    },
    "tags": []
   },
   "source": [
    "## Transformations"
   ]
  },
  {
   "attachments": {},
   "cell_type": "markdown",
   "id": "70ba2eec",
   "metadata": {
    "papermill": {
     "duration": null,
     "end_time": null,
     "exception": null,
     "start_time": null,
     "status": "pending"
    },
    "tags": []
   },
   "source": [
    "### Generation Configurations"
   ]
  },
  {
   "cell_type": "code",
   "execution_count": null,
   "id": "f8718966",
   "metadata": {
    "papermill": {
     "duration": null,
     "end_time": null,
     "exception": null,
     "start_time": null,
     "status": "pending"
    },
    "tags": []
   },
   "outputs": [],
   "source": [
    "display(Markdown(f\"#### {config.get('trans_id')}\"))\n",
    "pprint(config.get(\"transformations\"))"
   ]
  },
  {
   "attachments": {},
   "cell_type": "markdown",
   "id": "fd8293f2",
   "metadata": {
    "papermill": {
     "duration": null,
     "end_time": null,
     "exception": null,
     "start_time": null,
     "status": "pending"
    },
    "tags": []
   },
   "source": [
    "### Unique per Column"
   ]
  },
  {
   "cell_type": "code",
   "execution_count": null,
   "id": "73dc2c4a",
   "metadata": {
    "papermill": {
     "duration": null,
     "end_time": null,
     "exception": null,
     "start_time": null,
     "status": "pending"
    },
    "tags": []
   },
   "outputs": [],
   "source": [
    "pd.DataFrame({name: dataset.nunique() for name, dataset in datasets.items()})"
   ]
  },
  {
   "attachments": {},
   "cell_type": "markdown",
   "id": "7bf39c5a-fc2d-4d6e-9048-f91652cc35e0",
   "metadata": {},
   "source": [
    "## Dataset Projection "
   ]
  },
  {
   "cell_type": "code",
   "execution_count": null,
   "id": "2f12c8a5-9e1d-4cfe-b1c3-742a9f9cf3a3",
   "metadata": {},
   "outputs": [],
   "source": [
    "config.get(\"dataset_projection\")"
   ]
  },
  {
   "attachments": {},
   "cell_type": "markdown",
   "id": "9bb508d7",
   "metadata": {
    "papermill": {
     "duration": null,
     "end_time": null,
     "exception": null,
     "start_time": null,
     "status": "pending"
    },
    "tags": []
   },
   "source": [
    "## Acceptnace"
   ]
  },
  {
   "cell_type": "code",
   "execution_count": null,
   "id": "6ffd215c",
   "metadata": {
    "papermill": {
     "duration": null,
     "end_time": null,
     "exception": null,
     "start_time": null,
     "status": "pending"
    },
    "tags": []
   },
   "outputs": [],
   "source": [
    "acceptance_df"
   ]
  },
  {
   "attachments": {},
   "cell_type": "markdown",
   "id": "a5ba756f",
   "metadata": {},
   "source": [
    "## DP Acceptnace"
   ]
  },
  {
   "cell_type": "code",
   "execution_count": null,
   "id": "5e425f9c",
   "metadata": {},
   "outputs": [],
   "source": [
    "dp_acceptance_df"
   ]
  },
  {
   "attachments": {},
   "cell_type": "markdown",
   "id": "cc750aa0",
   "metadata": {
    "papermill": {
     "duration": null,
     "end_time": null,
     "exception": null,
     "start_time": null,
     "status": "pending"
    },
    "tags": []
   },
   "source": [
    "## Utility - Marginials"
   ]
  },
  {
   "cell_type": "code",
   "execution_count": null,
   "id": "8a324f2b",
   "metadata": {
    "papermill": {
     "duration": null,
     "end_time": null,
     "exception": null,
     "start_time": null,
     "status": "pending"
    },
    "tags": []
   },
   "outputs": [],
   "source": [
    "n_way_df = utility_df[\n",
    "    utility_df[\"name\"].str.contains(\"frequencies\")\n",
    "    & utility_df[\"name\"].str.contains(\"way\")\n",
    "    & utility_df[\"name\"].str.contains(\"max\")\n",
    "][[\"val_pr_s\", \"name\"]]\n",
    "\n",
    "n_way_df[[\"marginals\", \"agg\", \"metric\", \"mode\", \"binning\"]] = n_way_df[\n",
    "    \"name\"\n",
    "].str.split(\"/\", expand=True)\n",
    "n_way_df = n_way_df.drop([\"name\", \"metric\"], axis=1)\n",
    "\n",
    "n_way_df = n_way_df.pivot([\"marginals\", \"binning\"], \"mode\", \"val_pr_s\")\n",
    "n_way_df[\"diff\"] *= 100\n",
    "\n",
    "n_way_df"
   ]
  },
  {
   "attachments": {},
   "cell_type": "markdown",
   "id": "b185c28d",
   "metadata": {
    "papermill": {
     "duration": null,
     "end_time": null,
     "exception": null,
     "start_time": null,
     "status": "pending"
    },
    "tags": []
   },
   "source": [
    "### Utility 1-Way"
   ]
  },
  {
   "cell_type": "code",
   "execution_count": null,
   "id": "1b2256bf-b064-4941-9f98-27e290d8cc81",
   "metadata": {},
   "outputs": [],
   "source": [
    "(\n",
    "    pd.concat(\n",
    "        [\n",
    "            dataset.agg([\"median\", \"mean\", \"std\"]).assign(name=name)\n",
    "            for name, dataset in numerified_datasets.items()\n",
    "            if name in (\"synth\", \"processed\")\n",
    "        ]\n",
    "    )\n",
    "    .set_index(\"name\", append=True)\n",
    "    .T\n",
    ")"
   ]
  },
  {
   "cell_type": "code",
   "execution_count": null,
   "id": "114a1e2d",
   "metadata": {
    "papermill": {
     "duration": null,
     "end_time": null,
     "exception": null,
     "start_time": null,
     "status": "pending"
    },
    "tags": []
   },
   "outputs": [],
   "source": [
    "for column in columns:\n",
    "    display(Markdown(f\"#### {column}\"))\n",
    "\n",
    "    sns.displot(data=unified_df, x=column, kind=\"ecdf\", hue=\"name\")\n",
    "    plt.show()\n",
    "    sns.displot(data=unified_df, x=column, kind=\"ecdf\", col=\"name\", hue=\"name\")\n",
    "    plt.show()\n",
    "\n",
    "    crosstab = (\n",
    "        pd.crosstab(\n",
    "            synth_processed_unifed_df[column],\n",
    "            synth_processed_unifed_df[\"name\"],\n",
    "            normalize=\"columns\",\n",
    "        )\n",
    "        * 100\n",
    "    )\n",
    "    crosstab.plot(kind=\"bar\", colormap=SYNTH_PROCESSED_CMAP)\n",
    "    plt.show()\n",
    "    display(crosstab)\n",
    "\n",
    "    sns.boxplot(x=\"name\", y=column, data=unified_df, saturation=0.5)\n",
    "    plt.show()\n",
    "\n",
    "    display(\n",
    "        pd.DataFrame(\n",
    "            {\n",
    "                name: dataset[column].describe(datetime_is_numeric=True)\n",
    "                for name, dataset in numerified_datasets.items()\n",
    "            }\n",
    "        ).round(2)\n",
    "    )\n",
    "\n",
    "    sns.catplot(x=column, hue=\"name\", data=binned_unified_df, kind=\"count\", aspect=1.5)\n",
    "    plt.show()"
   ]
  },
  {
   "attachments": {},
   "cell_type": "markdown",
   "id": "fb6af6df",
   "metadata": {
    "papermill": {
     "duration": null,
     "end_time": null,
     "exception": null,
     "start_time": null,
     "status": "pending"
    },
    "tags": []
   },
   "source": [
    "## Utility 2 Way"
   ]
  },
  {
   "attachments": {},
   "cell_type": "markdown",
   "id": "35b20539",
   "metadata": {
    "papermill": {
     "duration": null,
     "end_time": null,
     "exception": null,
     "start_time": null,
     "status": "pending"
    },
    "tags": []
   },
   "source": [
    "### Frequencies"
   ]
  },
  {
   "cell_type": "code",
   "execution_count": null,
   "id": "cade9bb0",
   "metadata": {
    "papermill": {
     "duration": null,
     "end_time": null,
     "exception": null,
     "start_time": null,
     "status": "pending"
    },
    "tags": []
   },
   "outputs": [],
   "source": [
    "for first, second in it.combinations(real_df.columns, r=2):\n",
    "    cmps2way = {\n",
    "        name: (pd.crosstab(dataset[first], dataset[second], normalize=True))\n",
    "        for name, dataset in numerified_datasets.items()\n",
    "        if name in (\"synth\", \"processed\")\n",
    "    }\n",
    "\n",
    "    cmps2way = {name: 100 * cmps for name, cmps in cmps2way.items()}\n",
    "\n",
    "    vmax = min(2 * max(cmps.max().max() for cmps in cmps2way.values()), 100)\n",
    "    fig, axes = plt.subplots(1, 2, figsize=(15, 10), sharex=True, sharey=True)\n",
    "    fig.suptitle(f\"{first} $\\\\times$ {second}\")\n",
    "\n",
    "    for (name, cmps), ax in zip(cmps2way.items(), axes.flat):\n",
    "        ax.set_title(name)\n",
    "        g = sns.heatmap(\n",
    "            cmps,\n",
    "            vmin=0,\n",
    "            vmax=vmax,\n",
    "            annot=True,\n",
    "            fmt=\".2f\",\n",
    "            cmap=\"YlGnBu\",\n",
    "            # cmap='vlag',\n",
    "            # square=True,\n",
    "            ax=ax,\n",
    "        )"
   ]
  },
  {
   "attachments": {},
   "cell_type": "markdown",
   "id": "7d30b76f",
   "metadata": {
    "papermill": {
     "duration": null,
     "end_time": null,
     "exception": null,
     "start_time": null,
     "status": "pending"
    },
    "tags": []
   },
   "source": [
    "### Correlations"
   ]
  },
  {
   "cell_type": "code",
   "execution_count": null,
   "id": "6837791f",
   "metadata": {
    "papermill": {
     "duration": null,
     "end_time": null,
     "exception": null,
     "start_time": null,
     "status": "pending"
    },
    "tags": []
   },
   "outputs": [],
   "source": [
    "corrs = {name: dataset.corr() for name, dataset in numerified_datasets.items()}\n",
    "corr_mask = np.zeros_like(corrs[\"real\"])\n",
    "corr_mask[np.triu_indices_from(corr_mask)] = True\n",
    "\n",
    "_, axes = plt.subplots(2, 2, figsize=(15, 13))\n",
    "for (name, corr), ax in zip(corrs.items(), axes.flat):\n",
    "    ax.set_title(name)\n",
    "    sns.heatmap(\n",
    "        corr,\n",
    "        mask=corr_mask,\n",
    "        annot=True,\n",
    "        fmt=\".2f\",\n",
    "        vmin=-1,\n",
    "        vmax=1,\n",
    "        cmap=\"vlag\",\n",
    "        square=True,\n",
    "        ax=ax,\n",
    "    )"
   ]
  },
  {
   "attachments": {},
   "cell_type": "markdown",
   "id": "52471156",
   "metadata": {
    "papermill": {
     "duration": null,
     "end_time": null,
     "exception": null,
     "start_time": null,
     "status": "pending"
    },
    "tags": []
   },
   "source": [
    "#### Centrals"
   ]
  },
  {
   "cell_type": "code",
   "execution_count": null,
   "id": "f0b3291d",
   "metadata": {
    "papermill": {
     "duration": null,
     "end_time": null,
     "exception": null,
     "start_time": null,
     "status": "pending"
    },
    "tags": []
   },
   "outputs": [],
   "source": [
    "column_pairs = (\n",
    "    utility_df[~utility_df[\"by\"].isna()][[\"target\", \"by\"]]\n",
    "    .drop_duplicates()\n",
    "    .to_dict(orient=\"list\")\n",
    ")\n",
    "\n",
    "\n",
    "by_target = defaultdict(list)\n",
    "for target, by in zip(column_pairs[\"target\"], column_pairs[\"by\"]):\n",
    "    by_target[by].append(target)\n",
    "\n",
    "\n",
    "def plot_centrals(datasets, agg):\n",
    "    assert agg in (\"mean\", \"median\")\n",
    "\n",
    "    binned_choosen_df = binned_unified_df[binned_unified_df[\"name\"].isin(datasets)]\n",
    "    choosen_df = unified_df[binned_unified_df[\"name\"].isin(datasets)]\n",
    "\n",
    "    for by, targets in by_target.items():\n",
    "        _, axes = plt.subplots(\n",
    "            1, len(targets), figsize=(7 * len(targets), 5), squeeze=False\n",
    "        )\n",
    "        for target, ax in zip(targets, axes[0]):\n",
    "            g = sns.pointplot(\n",
    "                x=binned_choosen_df[by],\n",
    "                y=choosen_df[target],\n",
    "                hue=choosen_df[\"name\"],\n",
    "                linestyles=[\"solid\", \"dashed\", \"dashdot\", \"dotted\"],\n",
    "                errwidth=1,\n",
    "                estimator=np.median if agg == \"median\" else np.mean,\n",
    "                ax=ax,\n",
    "            )\n",
    "            max_ = choosen_df[target].groupby(binned_choosen_df[by]).median().max()\n",
    "            ax.set_ylim(unified_df[target].min() * 0.9, max_ * 1.1)\n",
    "            ax.tick_params(axis=\"x\", rotation=45)\n",
    "            plt.setp(g.collections, alpha=0.7)\n",
    "            plt.setp(g.lines, alpha=0.7)"
   ]
  },
  {
   "attachments": {},
   "cell_type": "markdown",
   "id": "56c81dde",
   "metadata": {},
   "source": [
    "#### Medians"
   ]
  },
  {
   "cell_type": "code",
   "execution_count": null,
   "id": "7694d891",
   "metadata": {
    "papermill": {
     "duration": null,
     "end_time": null,
     "exception": null,
     "start_time": null,
     "status": "pending"
    },
    "tags": []
   },
   "outputs": [],
   "source": [
    "plot_centrals([\"real\", \"synth\", \"processed\", \"subsampled\"], \"median\")"
   ]
  },
  {
   "cell_type": "code",
   "execution_count": null,
   "id": "3e695a1f",
   "metadata": {
    "papermill": {
     "duration": null,
     "end_time": null,
     "exception": null,
     "start_time": null,
     "status": "pending"
    },
    "tags": []
   },
   "outputs": [],
   "source": [
    "plot_centrals([\"synth\", \"processed\"], \"median\")"
   ]
  },
  {
   "attachments": {},
   "cell_type": "markdown",
   "id": "148f5dfe",
   "metadata": {},
   "source": [
    "#### Means"
   ]
  },
  {
   "cell_type": "code",
   "execution_count": null,
   "id": "1af8a4bf",
   "metadata": {},
   "outputs": [],
   "source": [
    "plot_centrals([\"real\", \"synth\", \"processed\", \"subsampled\"], \"mean\")"
   ]
  },
  {
   "cell_type": "code",
   "execution_count": null,
   "id": "0450ebf4",
   "metadata": {},
   "outputs": [],
   "source": [
    "plot_centrals([\"synth\", \"processed\"], \"mean\")"
   ]
  },
  {
   "attachments": {},
   "cell_type": "markdown",
   "id": "84caa205",
   "metadata": {
    "papermill": {
     "duration": null,
     "end_time": null,
     "exception": null,
     "start_time": null,
     "status": "pending"
    },
    "tags": []
   },
   "source": [
    "## Utility - Distributions"
   ]
  },
  {
   "cell_type": "code",
   "execution_count": null,
   "id": "ceb143f5",
   "metadata": {
    "papermill": {
     "duration": null,
     "end_time": null,
     "exception": null,
     "start_time": null,
     "status": "pending"
    },
    "tags": []
   },
   "outputs": [],
   "source": [
    "mask_sp = unified_df[\"name\"].isin([\"processed\", \"synth\"])\n",
    "\n",
    "\n",
    "def plot_2way_dist(x, y, is_scaled, ax, is_binned):\n",
    "    x_df = binned_unified_df if is_binned else unified_df\n",
    "    sns.violinplot(\n",
    "        x=x_df.loc[mask_sp, x],\n",
    "        y=unified_df.loc[mask_sp, y],\n",
    "        hue=unified_df.loc[mask_sp, \"name\"],\n",
    "        scale_hue=is_scaled,\n",
    "        scale=\"count\",\n",
    "        inner=\"quartile\",\n",
    "        split=True,\n",
    "        bw=0.2,\n",
    "        palette=\"muted\",\n",
    "        ax=ax,\n",
    "    )\n",
    "\n",
    "\n",
    "def plot_double_2way_dist(x, y, is_binned):\n",
    "    fig, axes = plt.subplots(1, 2, figsize=(15, 5))\n",
    "    fig.suptitle(f\"{x} $\\\\times$ {y}\")\n",
    "    plot_2way_dist(x, y, False, axes[0], is_binned)\n",
    "    plot_2way_dist(x, y, True, axes[1], is_binned)"
   ]
  },
  {
   "cell_type": "code",
   "execution_count": null,
   "id": "f7ed1cd6",
   "metadata": {
    "papermill": {
     "duration": null,
     "end_time": null,
     "exception": null,
     "start_time": null,
     "status": "pending"
    },
    "tags": []
   },
   "outputs": [],
   "source": [
    "for target, by in zip(column_pairs[\"target\"], column_pairs[\"by\"]):\n",
    "    plot_double_2way_dist(by, target, True)"
   ]
  },
  {
   "cell_type": "code",
   "execution_count": null,
   "id": "28c084e8",
   "metadata": {
    "papermill": {
     "duration": null,
     "end_time": null,
     "exception": null,
     "start_time": null,
     "status": "pending"
    },
    "tags": []
   },
   "outputs": [],
   "source": [
    "for target, by in zip(column_pairs[\"target\"], column_pairs[\"by\"]):\n",
    "    plot_double_2way_dist(by, target, False)"
   ]
  },
  {
   "attachments": {},
   "cell_type": "markdown",
   "id": "bcbe7b10",
   "metadata": {
    "papermill": {
     "duration": null,
     "end_time": null,
     "exception": null,
     "start_time": null,
     "status": "pending"
    },
    "tags": []
   },
   "source": [
    "## Utility - Linear Regression (y=`brith_weight`)\n",
    "TODO: Move to `synthflow.evaluation.utility`\n",
    "\n",
    "**Note: the regression do not use categorical variables**"
   ]
  },
  {
   "cell_type": "code",
   "execution_count": null,
   "id": "b18c2a9a",
   "metadata": {
    "papermill": {
     "duration": null,
     "end_time": null,
     "exception": null,
     "start_time": null,
     "status": "pending"
    },
    "tags": []
   },
   "outputs": [],
   "source": [
    "linear_reg_results = {}\n",
    "\n",
    "for name, dataset in numerified_datasets.items():\n",
    "    X = dataset.iloc[:, :-1].apply(stats.zscore)\n",
    "    y = dataset.iloc[:, -1]\n",
    "    res = sm.OLS(y, sm.add_constant(X)).fit()\n",
    "\n",
    "    linear_reg_results[name] = res"
   ]
  },
  {
   "cell_type": "code",
   "execution_count": null,
   "id": "3ee706d8",
   "metadata": {
    "papermill": {
     "duration": null,
     "end_time": null,
     "exception": null,
     "start_time": null,
     "status": "pending"
    },
    "tags": []
   },
   "outputs": [],
   "source": [
    "_, ax = plt.subplots(1, figsize=(10, 5))\n",
    "sns.heatmap(\n",
    "    pd.DataFrame(\n",
    "        {name: results.params for name, results in linear_reg_results.items()}\n",
    "    ).T,\n",
    "    annot=True,\n",
    "    fmt=\".2f\",\n",
    "    square=True,\n",
    "    ax=ax,\n",
    ")"
   ]
  },
  {
   "cell_type": "code",
   "execution_count": null,
   "id": "ffdc0305-69c5-4335-a18a-3a910d74f094",
   "metadata": {},
   "outputs": [],
   "source": [
    "utility_df[utility_df[\"name\"].str.contains(\"lr\")]"
   ]
  },
  {
   "cell_type": "code",
   "execution_count": null,
   "id": "40ae3568",
   "metadata": {
    "papermill": {
     "duration": null,
     "end_time": null,
     "exception": null,
     "start_time": null,
     "status": "pending"
    },
    "tags": []
   },
   "outputs": [],
   "source": [
    "try:\n",
    "    display(\n",
    "        pd.DataFrame(\n",
    "            {\n",
    "                \"$R^2$\": {\n",
    "                    name: results.rsquared\n",
    "                    for name, results in linear_reg_results.items()\n",
    "                },\n",
    "                \"F p-value\": {\n",
    "                    name: results.f_pvalue\n",
    "                    for name, results in linear_reg_results.items()\n",
    "                },\n",
    "                \"MAE\": {\n",
    "                    name: np.mean(np.abs(results.resid))\n",
    "                    for name, results in linear_reg_results.items()\n",
    "                },\n",
    "            }\n",
    "        )\n",
    "    )\n",
    "\n",
    "    for name, results in linear_reg_results.items():\n",
    "        display(Markdown(f\"### {name}\"))\n",
    "        display(results.summary())\n",
    "\n",
    "except AttributeError:\n",
    "    pass"
   ]
  },
  {
   "attachments": {},
   "cell_type": "markdown",
   "id": "f9383a88",
   "metadata": {
    "papermill": {
     "duration": null,
     "end_time": null,
     "exception": null,
     "start_time": null,
     "status": "pending"
    },
    "tags": []
   },
   "source": [
    "## Constrains\n",
    "\n",
    "TODO: Move to synthflow.evaluation.utility"
   ]
  },
  {
   "cell_type": "code",
   "execution_count": null,
   "id": "a8a5c1de-7191-4343-8ce7-f71e6ccc513c",
   "metadata": {},
   "outputs": [],
   "source": [
    "print(\"# rows removed due to constraints:\", len(constraints_df))"
   ]
  },
  {
   "cell_type": "code",
   "execution_count": null,
   "id": "e4edfb3a",
   "metadata": {
    "papermill": {
     "duration": null,
     "end_time": null,
     "exception": null,
     "start_time": null,
     "status": "pending"
    },
    "tags": []
   },
   "outputs": [],
   "source": [
    "for columns_nway in n_way_gen(columns, [2]):\n",
    "    columns_nway = list(columns_nway)\n",
    "    processed_counts = processed_real_df[columns_nway].value_counts()\n",
    "    synth_counts = synth_df[columns_nway].value_counts()\n",
    "    constraints_counts = constraints_df[columns_nway].value_counts()\n",
    "\n",
    "    (processed_complete_counts, synth_complete_counts) = compute_complete_counts(\n",
    "        processed_counts, synth_counts\n",
    "    )\n",
    "\n",
    "    if (\n",
    "        (\n",
    "            (processed_complete_counts == 0)\n",
    "            | (constraints_counts > 0) & (synth_complete_counts == 0)\n",
    "        )\n",
    "        .any()\n",
    "        .any()\n",
    "    ):\n",
    "        comparision_df = (\n",
    "            pd.DataFrame(\n",
    "                {\n",
    "                    \"processed\": processed_complete_counts,\n",
    "                    \"synth\": synth_complete_counts,\n",
    "                    \"constraints\": constraints_counts,\n",
    "                }\n",
    "            )\n",
    "            .fillna(0)\n",
    "            .sort_index()\n",
    "            .astype(int)\n",
    "        )\n",
    "\n",
    "        with pd.option_context(\"display.max_rows\", None):\n",
    "            disp_comparision_df = comparision_df.copy()\n",
    "            disp_comparision_df[\"processed\"] = disp_comparision_df[\"processed\"].replace(\n",
    "                {0: \"*** 0 ****\"}\n",
    "            )\n",
    "            display(disp_comparision_df)"
   ]
  },
  {
   "attachments": {},
   "cell_type": "markdown",
   "id": "33b968ee",
   "metadata": {
    "papermill": {
     "duration": null,
     "end_time": null,
     "exception": null,
     "start_time": null,
     "status": "pending"
    },
    "tags": []
   },
   "source": [
    "## Faithfulness"
   ]
  },
  {
   "attachments": {},
   "cell_type": "markdown",
   "id": "23128ed8",
   "metadata": {
    "papermill": {
     "duration": null,
     "end_time": null,
     "exception": null,
     "start_time": null,
     "status": "pending"
    },
    "tags": []
   },
   "source": [
    "### Matching"
   ]
  },
  {
   "cell_type": "code",
   "execution_count": null,
   "id": "d70fb5d3",
   "metadata": {
    "papermill": {
     "duration": null,
     "end_time": null,
     "exception": null,
     "start_time": null,
     "status": "pending"
    },
    "tags": []
   },
   "outputs": [],
   "source": [
    "faithfulness_df"
   ]
  },
  {
   "cell_type": "code",
   "execution_count": null,
   "id": "364665d9",
   "metadata": {
    "collapsed": false,
    "inputHidden": false,
    "jupyter": {
     "outputs_hidden": false
    },
    "outputHidden": false
   },
   "outputs": [],
   "source": [
    "column_weights"
   ]
  },
  {
   "cell_type": "code",
   "execution_count": null,
   "id": "e863716a",
   "metadata": {
    "papermill": {
     "duration": null,
     "end_time": null,
     "exception": null,
     "start_time": null,
     "status": "pending"
    },
    "tags": []
   },
   "outputs": [],
   "source": [
    "faithfulness_alpha_1_pr_s = get_single_row_by_query(\n",
    "    faithfulness_df, \"ɑ == 1 & comparison == 'val_pr_s'\"\n",
    ")"
   ]
  },
  {
   "cell_type": "code",
   "execution_count": null,
   "id": "e1257b8d",
   "metadata": {
    "papermill": {
     "duration": null,
     "end_time": null,
     "exception": null,
     "start_time": null,
     "status": "pending"
    },
    "tags": []
   },
   "outputs": [],
   "source": [
    "matching = faithfulness_alpha_1_pr_s[\"matching\"]\n",
    "processed_matched_df = (\n",
    "    numerified_datasets[\"processed\"].iloc[matching[0]].reset_index(drop=True)\n",
    ")\n",
    "synth_matched_df = numerified_datasets[\"synth\"].iloc[matching[1]].reset_index(drop=True)\n",
    "\n",
    "processed_sacled_matched_df = scale_columns_by_weights(\n",
    "    processed_matched_df, column_weights\n",
    ")\n",
    "synth_sacled_matched_df = scale_columns_by_weights(synth_matched_df, column_weights)\n",
    "\n",
    "matched_diff_df = synth_matched_df - processed_matched_df\n",
    "matched_cost_df = processed_sacled_matched_df != synth_sacled_matched_df\n",
    "columns_with_nonzero_match = list(matched_cost_df.columns[matched_cost_df.any(axis=0)])"
   ]
  },
  {
   "attachments": {},
   "cell_type": "markdown",
   "id": "e49d48d1",
   "metadata": {
    "papermill": {
     "duration": null,
     "end_time": null,
     "exception": null,
     "start_time": null,
     "status": "pending"
    },
    "tags": []
   },
   "source": [
    "### Matched Values & Costs"
   ]
  },
  {
   "attachments": {},
   "cell_type": "markdown",
   "id": "a0081938",
   "metadata": {
    "papermill": {
     "duration": null,
     "end_time": null,
     "exception": null,
     "start_time": null,
     "status": "pending"
    },
    "tags": []
   },
   "source": [
    "#### Overall"
   ]
  },
  {
   "cell_type": "code",
   "execution_count": null,
   "id": "dcbfb64b",
   "metadata": {
    "papermill": {
     "duration": null,
     "end_time": null,
     "exception": null,
     "start_time": null,
     "status": "pending"
    },
    "tags": []
   },
   "outputs": [],
   "source": [
    "matched_cost_df.sum(axis=1).value_counts(normalize=True)"
   ]
  },
  {
   "attachments": {},
   "cell_type": "markdown",
   "id": "52e9676c",
   "metadata": {
    "papermill": {
     "duration": null,
     "end_time": null,
     "exception": null,
     "start_time": null,
     "status": "pending"
    },
    "tags": []
   },
   "source": [
    "#### Per-column (for > 0 only)"
   ]
  },
  {
   "cell_type": "code",
   "execution_count": null,
   "id": "5d37414e",
   "metadata": {
    "papermill": {
     "duration": null,
     "end_time": null,
     "exception": null,
     "start_time": null,
     "status": "pending"
    },
    "tags": []
   },
   "outputs": [],
   "source": [
    "matched_cost_per_column_df = matched_cost_df[matched_cost_df.any(axis=1)].mean(axis=0)\n",
    "matched_cost_per_column_df[columns_with_nonzero_match]"
   ]
  },
  {
   "attachments": {},
   "cell_type": "markdown",
   "id": "f9ec10ac",
   "metadata": {
    "papermill": {
     "duration": null,
     "end_time": null,
     "exception": null,
     "start_time": null,
     "status": "pending"
    },
    "tags": []
   },
   "source": [
    "#### Values"
   ]
  },
  {
   "cell_type": "code",
   "execution_count": null,
   "id": "29e3326f",
   "metadata": {
    "papermill": {
     "duration": null,
     "end_time": null,
     "exception": null,
     "start_time": null,
     "status": "pending"
    },
    "tags": []
   },
   "outputs": [],
   "source": [
    "for column in columns_with_nonzero_match:\n",
    "    sx = synth_matched_df[column]\n",
    "    sx.name = \"synth\"\n",
    "    py = processed_matched_df[column]\n",
    "    py.name = \"processed\"\n",
    "\n",
    "    _, ax = plt.subplots(1, figsize=(10, 7))\n",
    "    ax.set_title(column)\n",
    "    sns.heatmap(pd.crosstab(sx, py), ax=ax)"
   ]
  },
  {
   "attachments": {},
   "cell_type": "markdown",
   "id": "1387d7d7",
   "metadata": {
    "papermill": {
     "duration": null,
     "end_time": null,
     "exception": null,
     "start_time": null,
     "status": "pending"
    },
    "tags": []
   },
   "source": [
    "#### Pseudo Noise Addition"
   ]
  },
  {
   "cell_type": "code",
   "execution_count": null,
   "id": "9c933d29",
   "metadata": {
    "papermill": {
     "duration": null,
     "end_time": null,
     "exception": null,
     "start_time": null,
     "status": "pending"
    },
    "tags": []
   },
   "outputs": [],
   "source": [
    "# TODO: refactor\n",
    "\n",
    "pseudo_noise_df = pd.merge(\n",
    "    processed_matched_df,\n",
    "    matched_diff_df,\n",
    "    left_index=True,\n",
    "    right_index=True,\n",
    "    suffixes=(\"0\", \"1\"),\n",
    ")\n",
    "pseudo_noise_df[\"id\"] = pseudo_noise_df.index\n",
    "\n",
    "\n",
    "pseudo_noise_df = pd.wide_to_long(\n",
    "    pseudo_noise_df, processed_matched_df.columns, i=\"id\", j=\"is_noise\"\n",
    ").reset_index()\n",
    "pseudo_noise_df = (\n",
    "    pseudo_noise_df.assign(\n",
    "        ds=pseudo_noise_df[\"is_noise\"].apply(lambda x: \"noise\" if x else \"processed\")\n",
    "    )\n",
    "    .drop(\"is_noise\", axis=1)\n",
    "    .melt(id_vars=[\"id\", \"ds\"], var_name=\"column\")\n",
    ")\n",
    "\n",
    "pseudo_noise_df = (\n",
    "    pd.merge(\n",
    "        pseudo_noise_df[pseudo_noise_df[\"ds\"] == \"processed\"],\n",
    "        pseudo_noise_df[pseudo_noise_df[\"ds\"] == \"noise\"],\n",
    "        on=(\"id\", \"column\"),\n",
    "    )\n",
    "    .drop([\"id\", \"ds_x\", \"ds_y\"], axis=1)\n",
    "    .rename(columns={\"value_x\": \"processed\", \"value_y\": \"noise\"})\n",
    ")"
   ]
  },
  {
   "cell_type": "code",
   "execution_count": null,
   "id": "f557d9fe",
   "metadata": {
    "papermill": {
     "duration": null,
     "end_time": null,
     "exception": null,
     "start_time": null,
     "status": "pending"
    },
    "tags": []
   },
   "outputs": [],
   "source": [
    "matched_max_diff = matched_diff_df.abs().max()\n",
    "variable_columns = matched_max_diff[matched_max_diff > 0].index\n",
    "matched_max_diff"
   ]
  },
  {
   "attachments": {},
   "cell_type": "markdown",
   "id": "cfce1ab5",
   "metadata": {
    "papermill": {
     "duration": null,
     "end_time": null,
     "exception": null,
     "start_time": null,
     "status": "pending"
    },
    "tags": []
   },
   "source": [
    "## Require Inspection\n",
    "TODO: Move to `synthflow.evaluation.faithfulness`"
   ]
  },
  {
   "cell_type": "code",
   "execution_count": null,
   "id": "090de11d",
   "metadata": {
    "papermill": {
     "duration": null,
     "end_time": null,
     "exception": null,
     "start_time": null,
     "status": "pending"
    },
    "tags": []
   },
   "outputs": [],
   "source": [
    "# See section 6 in the paper\n",
    "# https://www.dbs.ifi.lmu.de/Publikationen/Papers/LOF.pdf\n",
    "\n",
    "LOF_N_NEIGHBORS_RANGE = (20, 51)\n",
    "\n",
    "synth_lof_score = np.ones(len(synth_df))\n",
    "\n",
    "if not is_minimal:\n",
    "    for n_neighbors in trange(*LOF_N_NEIGHBORS_RANGE):\n",
    "        lof = LocalOutlierFactor(n_neighbors=n_neighbors, p=1, novelty=True)\n",
    "        lof.fit(numerified_datasets[\"processed\"])\n",
    "\n",
    "        # It is the opposite as bigger is better,\n",
    "        # i.e. large values correspond to inliers.\n",
    "        # 0 is the threshold; i.e. < 0 is an outlier\n",
    "        synth_lof_score = np.minimum(\n",
    "            synth_lof_score, lof.decision_function(numerified_datasets[\"synth\"])\n",
    "        )"
   ]
  },
  {
   "cell_type": "code",
   "execution_count": null,
   "id": "8aa23419",
   "metadata": {
    "papermill": {
     "duration": null,
     "end_time": null,
     "exception": null,
     "start_time": null,
     "status": "pending"
    },
    "tags": []
   },
   "outputs": [],
   "source": [
    "existing_processed_rows = {tuple(x) for x in numerified_datasets[\"processed\"].values}\n",
    "plausible_mask = np.array(\n",
    "    [tuple(x) in existing_processed_rows for x in numerified_datasets[\"synth\"].values]\n",
    ")"
   ]
  },
  {
   "cell_type": "code",
   "execution_count": null,
   "id": "5128fdc9",
   "metadata": {
    "papermill": {
     "duration": null,
     "end_time": null,
     "exception": null,
     "start_time": null,
     "status": "pending"
    },
    "tags": []
   },
   "outputs": [],
   "source": [
    "synth_outliers = synth_df.copy()\n",
    "synth_outliers[\"lof\"] = synth_lof_score.round(2)\n",
    "\n",
    "unmatched_indices = faithfulness_alpha_1_pr_s[\"unmatched_indices\"]\n",
    "unmatched_synth_indices = list(unmatched_indices[1])\n",
    "synth_outliers = synth_outliers.assign(unmatched=False)\n",
    "synth_outliers.loc[unmatched_synth_indices, \"unmatched\"] = True\n",
    "synth_outliers[\"plausible\"] = plausible_mask\n",
    "\n",
    "synth_outliers = synth_outliers.sort_values(\"lof\")"
   ]
  },
  {
   "cell_type": "code",
   "execution_count": null,
   "id": "f0e6fd45",
   "metadata": {
    "papermill": {
     "duration": null,
     "end_time": null,
     "exception": null,
     "start_time": null,
     "status": "pending"
    },
    "tags": []
   },
   "outputs": [],
   "source": [
    "g = sns.catplot(x=\"unmatched\", y=\"lof\", col=\"plausible\", data=synth_outliers, alpha=0.1)\n",
    "for ax in g.axes[0]:\n",
    "    ax.axhline(0, color=\"black\", linestyle=\"--\");"
   ]
  },
  {
   "cell_type": "code",
   "execution_count": null,
   "id": "8a6278d9",
   "metadata": {
    "papermill": {
     "duration": null,
     "end_time": null,
     "exception": null,
     "start_time": null,
     "status": "pending"
    },
    "tags": []
   },
   "outputs": [],
   "source": [
    "A = synth_outliers[\"unmatched\"]\n",
    "B = synth_outliers[\"lof\"] < 0\n",
    "C = ~synth_outliers[\"plausible\"]\n",
    "\n",
    "\n",
    "venn3(\n",
    "    subsets=[\n",
    "        sum(A),\n",
    "        sum(B),\n",
    "        sum(A & B),\n",
    "        sum(C),\n",
    "        sum(A & C),\n",
    "        sum(B & C),\n",
    "        sum(A & B & C),\n",
    "    ],\n",
    "    set_labels=[\n",
    "        f\"Unmatched ({100 * sum(A) / len(A):.1f}%)\",\n",
    "        f\"Outlier ({100 * sum(B) / len(B):.1f}%)\",\n",
    "        f\"Implausible ({100 * sum(C) / len(C):.1f}%)\",\n",
    "    ],\n",
    ");"
   ]
  },
  {
   "cell_type": "code",
   "execution_count": null,
   "id": "50f345e1",
   "metadata": {
    "papermill": {
     "duration": null,
     "end_time": null,
     "exception": null,
     "start_time": null,
     "status": "pending"
    },
    "tags": []
   },
   "outputs": [],
   "source": [
    "synth_requires_inspections = synth_outliers[\n",
    "    synth_outliers[\"unmatched\"]\n",
    "    & (synth_outliers[\"lof\"] < 0)\n",
    "    & (~synth_outliers[\"plausible\"])\n",
    "]\n",
    "num_inspections = len(synth_requires_inspections)\n",
    "pct_inspections = 100 * num_inspections / len(synth_df)\n",
    "\n",
    "print(\n",
    "    f\"Synth records requiring inspections: {pct_inspections:.2f}% ({num_inspections})\"\n",
    ")"
   ]
  },
  {
   "cell_type": "code",
   "execution_count": null,
   "id": "2afd55c7",
   "metadata": {
    "papermill": {
     "duration": null,
     "end_time": null,
     "exception": null,
     "start_time": null,
     "status": "pending"
    },
    "tags": []
   },
   "outputs": [],
   "source": [
    "MAX_ROWS = 100\n",
    "\n",
    "with pd.option_context(\"display.max_rows\", None):\n",
    "    for column in real_df.columns:\n",
    "        by_column_synth_requires_inspections = (\n",
    "            synth_requires_inspections.reset_index().set_index([column])\n",
    "        )\n",
    "\n",
    "        display(Markdown(f\"#### `{column}` - bottom\"))\n",
    "        display(\n",
    "            by_column_synth_requires_inspections.sort_values(\n",
    "                [column, \"lof\"], ascending=[True, True]\n",
    "            ).head(MAX_ROWS)\n",
    "        )\n",
    "\n",
    "        display(Markdown(f\"#### `{column}` - top\"))\n",
    "        display(\n",
    "            by_column_synth_requires_inspections.sort_values(\n",
    "                [column, \"lof\"], ascending=[False, True]\n",
    "            ).head(MAX_ROWS)\n",
    "        )"
   ]
  },
  {
   "attachments": {},
   "cell_type": "markdown",
   "id": "29f1e296",
   "metadata": {
    "papermill": {
     "duration": null,
     "end_time": null,
     "exception": null,
     "start_time": null,
     "status": "pending"
    },
    "tags": []
   },
   "source": [
    "## Additional Analysis"
   ]
  },
  {
   "cell_type": "code",
   "execution_count": null,
   "id": "754ff1a2",
   "metadata": {
    "papermill": {
     "duration": null,
     "end_time": null,
     "exception": null,
     "start_time": null,
     "status": "pending"
    },
    "tags": []
   },
   "outputs": [],
   "source": []
  }
 ],
 "metadata": {
  "kernel_info": {
   "name": "python3"
  },
  "kernelspec": {
   "display_name": "Python 3 (ipykernel)",
   "language": "python",
   "name": "python3"
  },
  "language_info": {
   "codemirror_mode": {
    "name": "ipython",
    "version": 3
   },
   "file_extension": ".py",
   "mimetype": "text/x-python",
   "name": "python",
   "nbconvert_exporter": "python",
   "pygments_lexer": "ipython3",
   "version": "3.8.10"
  },
  "nteract": {
   "version": "0.12.3"
  },
  "papermill": {
   "default_parameters": {},
   "duration": 17.684897,
   "end_time": "2022-04-07T11:54:53.867291",
   "environment_variables": {},
   "exception": true,
   "input_path": "/project/dp-synth-eval/shlomi/synthflow/synthflow/reporting/template.ipynb",
   "output_path": "../reports/shlomihod_synthflow_1eg6lfbs.ipynb",
   "parameters": {
    "root_path": "../reports",
    "run_path": "shlomihod/synthflow/1eg6lfbs"
   },
   "start_time": "2022-04-07T11:54:36.182394",
   "version": "2.3.4"
  }
 },
 "nbformat": 4,
 "nbformat_minor": 5
}
